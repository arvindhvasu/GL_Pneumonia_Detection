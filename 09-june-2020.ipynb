{
  "nbformat": 4,
  "nbformat_minor": 0,
  "metadata": {
    "colab": {
      "name": "Copy of Untitled1.ipynb",
      "provenance": [],
      "include_colab_link": true
    },
    "kernelspec": {
      "name": "python3",
      "display_name": "Python 3"
    }
  },
  "cells": [
    {
      "cell_type": "markdown",
      "metadata": {
        "id": "view-in-github",
        "colab_type": "text"
      },
      "source": [
        "<a href=\"https://colab.research.google.com/github/arvindhvasu/GL_Pneumonia_Detection/blob/master/09-june-2020.ipynb\" target=\"_parent\"><img src=\"https://colab.research.google.com/assets/colab-badge.svg\" alt=\"Open In Colab\"/></a>"
      ]
    },
    {
      "cell_type": "markdown",
      "metadata": {
        "id": "ucGBjgmLc3Mj",
        "colab_type": "text"
      },
      "source": [
        "# **Stage 1 : Pre-Processing,Data Visualization,EDA**\n",
        "\n",
        "1. Pre-Processing, Data Visualization, EDA\n",
        "2. Dealing with missing values\n",
        "3. Exploring the given Data files, classes and images of different classes.\n",
        "4. Visualization of different classes\n",
        "5. Analysis from the visualization of different classes.\n"
      ]
    },
    {
      "cell_type": "markdown",
      "metadata": {
        "id": "Xn_ZKUoF5yPp",
        "colab_type": "text"
      },
      "source": [
        "## **Mount the Dataset from the drive**"
      ]
    },
    {
      "cell_type": "code",
      "metadata": {
        "id": "GAqChEFiVyTW",
        "colab_type": "code",
        "outputId": "2677faef-c33c-47f7-cc4f-4903782220af",
        "colab": {
          "base_uri": "https://localhost:8080/",
          "height": 35
        }
      },
      "source": [
        "from google.colab import drive\n",
        "drive.mount('/content/drive')"
      ],
      "execution_count": 0,
      "outputs": [
        {
          "output_type": "stream",
          "text": [
            "Drive already mounted at /content/drive; to attempt to forcibly remount, call drive.mount(\"/content/drive\", force_remount=True).\n"
          ],
          "name": "stdout"
        }
      ]
    },
    {
      "cell_type": "markdown",
      "metadata": {
        "id": "VogJ-MOf6ApK",
        "colab_type": "text"
      },
      "source": [
        "Import all the necessary libraries for pre-processing \n",
        "\n",
        "*   **Pandas** - for data structures & data analysis\n",
        "*   **Numpy** - for computing with array objects\n",
        "*   **Scikitlearn**- for pre-preprocessing & prediction\n",
        "*   **Matplotlib** - for plotting tool library\n",
        "*   **Seaborn** - for data visualization"
      ]
    },
    {
      "cell_type": "code",
      "metadata": {
        "id": "QmrX3UGiWB6k",
        "colab_type": "code",
        "outputId": "1b705824-f6eb-468d-8ebb-43f719a27bcc",
        "colab": {
          "base_uri": "https://localhost:8080/",
          "height": 72
        }
      },
      "source": [
        "import pandas as pd\n",
        "import numpy as np\n",
        "import matplotlib.pyplot as plt\n",
        "from sklearn.model_selection import train_test_split\n",
        "from sklearn.impute import SimpleImputer\n",
        "%matplotlib inline\n",
        "import seaborn as sns\n",
        "sns.set_style('dark')"
      ],
      "execution_count": 0,
      "outputs": [
        {
          "output_type": "stream",
          "text": [
            "/usr/local/lib/python3.6/dist-packages/statsmodels/tools/_testing.py:19: FutureWarning: pandas.util.testing is deprecated. Use the functions in the public API at pandas.testing instead.\n",
            "  import pandas.util.testing as tm\n"
          ],
          "name": "stderr"
        }
      ]
    },
    {
      "cell_type": "code",
      "metadata": {
        "id": "1tgeZgZwWsH7",
        "colab_type": "code",
        "outputId": "5cf83484-61c3-4a85-e3e4-f25015879de6",
        "colab": {
          "base_uri": "https://localhost:8080/",
          "height": 35
        }
      },
      "source": [
        "%tensorflow_version 2.x\n",
        "import tensorflow\n",
        "tensorflow.__version__"
      ],
      "execution_count": 0,
      "outputs": [
        {
          "output_type": "execute_result",
          "data": {
            "text/plain": [
              "'2.2.0'"
            ]
          },
          "metadata": {
            "tags": []
          },
          "execution_count": 3
        }
      ]
    },
    {
      "cell_type": "markdown",
      "metadata": {
        "id": "1K-V755zXBaX",
        "colab_type": "text"
      },
      "source": [
        "# **Extracting & Loading the pneumonia dataset**"
      ]
    },
    {
      "cell_type": "code",
      "metadata": {
        "id": "HmlYVqyMcaJi",
        "colab_type": "code",
        "colab": {}
      },
      "source": [
        "# importing required modules \n",
        "from zipfile import ZipFile"
      ],
      "execution_count": 0,
      "outputs": []
    },
    {
      "cell_type": "code",
      "metadata": {
        "id": "FH00KAyAcqaC",
        "colab_type": "code",
        "colab": {}
      },
      "source": [
        "# specifying the zip file name \n",
        "capstone_project = \"/content/drive/My Drive/Capstone/rsna-pneumonia-detection-challenge.zip\""
      ],
      "execution_count": 0,
      "outputs": []
    },
    {
      "cell_type": "code",
      "metadata": {
        "id": "4MOAJ1ZMc9G4",
        "colab_type": "code",
        "colab": {}
      },
      "source": [
        "# opening the zip file in READ mode \n",
        "with ZipFile(capstone_project, 'r') as zip: \n",
        "    # extracting all the files \n",
        "    zip.extractall()\n",
        "   "
      ],
      "execution_count": 0,
      "outputs": []
    },
    {
      "cell_type": "code",
      "metadata": {
        "id": "yHIbB1yO_19y",
        "colab_type": "code",
        "colab": {}
      },
      "source": [
        "#Set your project path \n",
        "capstone_project =  '/content'"
      ],
      "execution_count": 0,
      "outputs": []
    },
    {
      "cell_type": "code",
      "metadata": {
        "id": "Zii_d8qnBQ9j",
        "colab_type": "code",
        "colab": {}
      },
      "source": [
        "import os"
      ],
      "execution_count": 0,
      "outputs": []
    },
    {
      "cell_type": "code",
      "metadata": {
        "id": "s6no3B0cBFc5",
        "colab_type": "code",
        "colab": {
          "base_uri": "https://localhost:8080/",
          "height": 55
        },
        "outputId": "88e27419-112e-433b-c57d-8ab1a66237e8"
      },
      "source": [
        "arr = os.listdir('/content')\n",
        "print(arr)"
      ],
      "execution_count": 50,
      "outputs": [
        {
          "output_type": "stream",
          "text": [
            "['.config', 'drive', 'stage_2_test_images', 'stage_2_train_labels.csv', 'stage_2_train_images', 'stage_2_detailed_class_info.csv', 'GCP Credits Request Link - RSNA.txt', 'stage_2_sample_submission.csv', 'sample_data']\n"
          ],
          "name": "stdout"
        }
      ]
    },
    {
      "cell_type": "code",
      "metadata": {
        "id": "1ac72t-2XFWu",
        "colab_type": "code",
        "outputId": "3ad44154-be78-4d09-bff6-4bb6bb999cca",
        "colab": {
          "base_uri": "https://localhost:8080/",
          "height": 411
        }
      },
      "source": [
        "pd.read_csv('/content/stage_2_detailed_class_info.csv')"
      ],
      "execution_count": 51,
      "outputs": [
        {
          "output_type": "execute_result",
          "data": {
            "text/html": [
              "<div>\n",
              "<style scoped>\n",
              "    .dataframe tbody tr th:only-of-type {\n",
              "        vertical-align: middle;\n",
              "    }\n",
              "\n",
              "    .dataframe tbody tr th {\n",
              "        vertical-align: top;\n",
              "    }\n",
              "\n",
              "    .dataframe thead th {\n",
              "        text-align: right;\n",
              "    }\n",
              "</style>\n",
              "<table border=\"1\" class=\"dataframe\">\n",
              "  <thead>\n",
              "    <tr style=\"text-align: right;\">\n",
              "      <th></th>\n",
              "      <th>patientId</th>\n",
              "      <th>class</th>\n",
              "    </tr>\n",
              "  </thead>\n",
              "  <tbody>\n",
              "    <tr>\n",
              "      <th>0</th>\n",
              "      <td>0004cfab-14fd-4e49-80ba-63a80b6bddd6</td>\n",
              "      <td>No Lung Opacity / Not Normal</td>\n",
              "    </tr>\n",
              "    <tr>\n",
              "      <th>1</th>\n",
              "      <td>00313ee0-9eaa-42f4-b0ab-c148ed3241cd</td>\n",
              "      <td>No Lung Opacity / Not Normal</td>\n",
              "    </tr>\n",
              "    <tr>\n",
              "      <th>2</th>\n",
              "      <td>00322d4d-1c29-4943-afc9-b6754be640eb</td>\n",
              "      <td>No Lung Opacity / Not Normal</td>\n",
              "    </tr>\n",
              "    <tr>\n",
              "      <th>3</th>\n",
              "      <td>003d8fa0-6bf1-40ed-b54c-ac657f8495c5</td>\n",
              "      <td>Normal</td>\n",
              "    </tr>\n",
              "    <tr>\n",
              "      <th>4</th>\n",
              "      <td>00436515-870c-4b36-a041-de91049b9ab4</td>\n",
              "      <td>Lung Opacity</td>\n",
              "    </tr>\n",
              "    <tr>\n",
              "      <th>...</th>\n",
              "      <td>...</td>\n",
              "      <td>...</td>\n",
              "    </tr>\n",
              "    <tr>\n",
              "      <th>30222</th>\n",
              "      <td>c1ec14ff-f6d7-4b38-b0cb-fe07041cbdc8</td>\n",
              "      <td>Lung Opacity</td>\n",
              "    </tr>\n",
              "    <tr>\n",
              "      <th>30223</th>\n",
              "      <td>c1edf42b-5958-47ff-a1e7-4f23d99583ba</td>\n",
              "      <td>Normal</td>\n",
              "    </tr>\n",
              "    <tr>\n",
              "      <th>30224</th>\n",
              "      <td>c1f6b555-2eb1-4231-98f6-50a963976431</td>\n",
              "      <td>Normal</td>\n",
              "    </tr>\n",
              "    <tr>\n",
              "      <th>30225</th>\n",
              "      <td>c1f7889a-9ea9-4acb-b64c-b737c929599a</td>\n",
              "      <td>Lung Opacity</td>\n",
              "    </tr>\n",
              "    <tr>\n",
              "      <th>30226</th>\n",
              "      <td>c1f7889a-9ea9-4acb-b64c-b737c929599a</td>\n",
              "      <td>Lung Opacity</td>\n",
              "    </tr>\n",
              "  </tbody>\n",
              "</table>\n",
              "<p>30227 rows × 2 columns</p>\n",
              "</div>"
            ],
            "text/plain": [
              "                                  patientId                         class\n",
              "0      0004cfab-14fd-4e49-80ba-63a80b6bddd6  No Lung Opacity / Not Normal\n",
              "1      00313ee0-9eaa-42f4-b0ab-c148ed3241cd  No Lung Opacity / Not Normal\n",
              "2      00322d4d-1c29-4943-afc9-b6754be640eb  No Lung Opacity / Not Normal\n",
              "3      003d8fa0-6bf1-40ed-b54c-ac657f8495c5                        Normal\n",
              "4      00436515-870c-4b36-a041-de91049b9ab4                  Lung Opacity\n",
              "...                                     ...                           ...\n",
              "30222  c1ec14ff-f6d7-4b38-b0cb-fe07041cbdc8                  Lung Opacity\n",
              "30223  c1edf42b-5958-47ff-a1e7-4f23d99583ba                        Normal\n",
              "30224  c1f6b555-2eb1-4231-98f6-50a963976431                        Normal\n",
              "30225  c1f7889a-9ea9-4acb-b64c-b737c929599a                  Lung Opacity\n",
              "30226  c1f7889a-9ea9-4acb-b64c-b737c929599a                  Lung Opacity\n",
              "\n",
              "[30227 rows x 2 columns]"
            ]
          },
          "metadata": {
            "tags": []
          },
          "execution_count": 51
        }
      ]
    },
    {
      "cell_type": "markdown",
      "metadata": {
        "id": "kQIKlK_Sl6Jj",
        "colab_type": "text"
      },
      "source": [
        "## **Reading through the different classes of pneumonia to understand the Target Variable**\n",
        "\n",
        "*   **No Lung Opacity/ Not Normal:** No Pneumonia but some abnormality observed\n",
        "*   **Normal:** No Pneumonia observed\n",
        "*   **Lung Opacity:** Pneumonia observed "
      ]
    },
    {
      "cell_type": "markdown",
      "metadata": {
        "id": "7kmVrM0648i4",
        "colab_type": "text"
      },
      "source": [
        "## **Reading through the Class Dataset**"
      ]
    },
    {
      "cell_type": "code",
      "metadata": {
        "id": "pIa2aENOfcDU",
        "colab_type": "code",
        "colab": {}
      },
      "source": [
        "df_class_info=pd.read_csv('/content/stage_2_detailed_class_info.csv')"
      ],
      "execution_count": 0,
      "outputs": []
    },
    {
      "cell_type": "code",
      "metadata": {
        "id": "7o9VgtFDfyeo",
        "colab_type": "code",
        "outputId": "87e9a4c3-c20e-460f-f4a4-1bef3319fcac",
        "colab": {
          "base_uri": "https://localhost:8080/",
          "height": 35
        }
      },
      "source": [
        "df_class_info.shape"
      ],
      "execution_count": 53,
      "outputs": [
        {
          "output_type": "execute_result",
          "data": {
            "text/plain": [
              "(30227, 2)"
            ]
          },
          "metadata": {
            "tags": []
          },
          "execution_count": 53
        }
      ]
    },
    {
      "cell_type": "code",
      "metadata": {
        "id": "ve6hA4t2AnJc",
        "colab_type": "code",
        "colab": {
          "base_uri": "https://localhost:8080/",
          "height": 200
        },
        "outputId": "5962e0ea-6c79-4a8c-d176-1278c7be289b"
      },
      "source": [
        "df_class_info.head()"
      ],
      "execution_count": 54,
      "outputs": [
        {
          "output_type": "execute_result",
          "data": {
            "text/html": [
              "<div>\n",
              "<style scoped>\n",
              "    .dataframe tbody tr th:only-of-type {\n",
              "        vertical-align: middle;\n",
              "    }\n",
              "\n",
              "    .dataframe tbody tr th {\n",
              "        vertical-align: top;\n",
              "    }\n",
              "\n",
              "    .dataframe thead th {\n",
              "        text-align: right;\n",
              "    }\n",
              "</style>\n",
              "<table border=\"1\" class=\"dataframe\">\n",
              "  <thead>\n",
              "    <tr style=\"text-align: right;\">\n",
              "      <th></th>\n",
              "      <th>patientId</th>\n",
              "      <th>class</th>\n",
              "    </tr>\n",
              "  </thead>\n",
              "  <tbody>\n",
              "    <tr>\n",
              "      <th>0</th>\n",
              "      <td>0004cfab-14fd-4e49-80ba-63a80b6bddd6</td>\n",
              "      <td>No Lung Opacity / Not Normal</td>\n",
              "    </tr>\n",
              "    <tr>\n",
              "      <th>1</th>\n",
              "      <td>00313ee0-9eaa-42f4-b0ab-c148ed3241cd</td>\n",
              "      <td>No Lung Opacity / Not Normal</td>\n",
              "    </tr>\n",
              "    <tr>\n",
              "      <th>2</th>\n",
              "      <td>00322d4d-1c29-4943-afc9-b6754be640eb</td>\n",
              "      <td>No Lung Opacity / Not Normal</td>\n",
              "    </tr>\n",
              "    <tr>\n",
              "      <th>3</th>\n",
              "      <td>003d8fa0-6bf1-40ed-b54c-ac657f8495c5</td>\n",
              "      <td>Normal</td>\n",
              "    </tr>\n",
              "    <tr>\n",
              "      <th>4</th>\n",
              "      <td>00436515-870c-4b36-a041-de91049b9ab4</td>\n",
              "      <td>Lung Opacity</td>\n",
              "    </tr>\n",
              "  </tbody>\n",
              "</table>\n",
              "</div>"
            ],
            "text/plain": [
              "                              patientId                         class\n",
              "0  0004cfab-14fd-4e49-80ba-63a80b6bddd6  No Lung Opacity / Not Normal\n",
              "1  00313ee0-9eaa-42f4-b0ab-c148ed3241cd  No Lung Opacity / Not Normal\n",
              "2  00322d4d-1c29-4943-afc9-b6754be640eb  No Lung Opacity / Not Normal\n",
              "3  003d8fa0-6bf1-40ed-b54c-ac657f8495c5                        Normal\n",
              "4  00436515-870c-4b36-a041-de91049b9ab4                  Lung Opacity"
            ]
          },
          "metadata": {
            "tags": []
          },
          "execution_count": 54
        }
      ]
    },
    {
      "cell_type": "code",
      "metadata": {
        "id": "Zar369CjhbUl",
        "colab_type": "code",
        "outputId": "69fd8f37-676f-40b1-d704-8473a42cb938",
        "colab": {
          "base_uri": "https://localhost:8080/",
          "height": 170
        }
      },
      "source": [
        "df_class_info.describe(include='all')"
      ],
      "execution_count": 55,
      "outputs": [
        {
          "output_type": "execute_result",
          "data": {
            "text/html": [
              "<div>\n",
              "<style scoped>\n",
              "    .dataframe tbody tr th:only-of-type {\n",
              "        vertical-align: middle;\n",
              "    }\n",
              "\n",
              "    .dataframe tbody tr th {\n",
              "        vertical-align: top;\n",
              "    }\n",
              "\n",
              "    .dataframe thead th {\n",
              "        text-align: right;\n",
              "    }\n",
              "</style>\n",
              "<table border=\"1\" class=\"dataframe\">\n",
              "  <thead>\n",
              "    <tr style=\"text-align: right;\">\n",
              "      <th></th>\n",
              "      <th>patientId</th>\n",
              "      <th>class</th>\n",
              "    </tr>\n",
              "  </thead>\n",
              "  <tbody>\n",
              "    <tr>\n",
              "      <th>count</th>\n",
              "      <td>30227</td>\n",
              "      <td>30227</td>\n",
              "    </tr>\n",
              "    <tr>\n",
              "      <th>unique</th>\n",
              "      <td>26684</td>\n",
              "      <td>3</td>\n",
              "    </tr>\n",
              "    <tr>\n",
              "      <th>top</th>\n",
              "      <td>31764d54-ea3b-434f-bae2-8c579ed13799</td>\n",
              "      <td>No Lung Opacity / Not Normal</td>\n",
              "    </tr>\n",
              "    <tr>\n",
              "      <th>freq</th>\n",
              "      <td>4</td>\n",
              "      <td>11821</td>\n",
              "    </tr>\n",
              "  </tbody>\n",
              "</table>\n",
              "</div>"
            ],
            "text/plain": [
              "                                   patientId                         class\n",
              "count                                  30227                         30227\n",
              "unique                                 26684                             3\n",
              "top     31764d54-ea3b-434f-bae2-8c579ed13799  No Lung Opacity / Not Normal\n",
              "freq                                       4                         11821"
            ]
          },
          "metadata": {
            "tags": []
          },
          "execution_count": 55
        }
      ]
    },
    {
      "cell_type": "code",
      "metadata": {
        "id": "NDi2ZmRupWrX",
        "colab_type": "code",
        "outputId": "1c0724a4-1136-403b-aa49-b960e3e6650a",
        "colab": {
          "base_uri": "https://localhost:8080/",
          "height": 230
        }
      },
      "source": [
        "df_class_info['patientId'].value_counts()"
      ],
      "execution_count": 56,
      "outputs": [
        {
          "output_type": "execute_result",
          "data": {
            "text/plain": [
              "31764d54-ea3b-434f-bae2-8c579ed13799    4\n",
              "0d5bc737-03de-4bb8-98a1-45b7180c3e0f    4\n",
              "349f10b4-dc3e-4f3f-b2e4-a5b81448ce87    4\n",
              "0e03c2d7-9cea-4dc7-8e91-794a8b3ff58d    4\n",
              "1bf08f3b-a273-4f51-bafa-b55ada2c23b5    4\n",
              "                                       ..\n",
              "699e4f22-4860-407b-a380-61ed56827fa5    1\n",
              "bc5b060f-45ae-4a00-aea9-1e7e386daf82    1\n",
              "1b55632f-8c87-41cc-ba05-2f7266494f3e    1\n",
              "695fc74e-72d0-4bcf-a9a9-a75e99fb7306    1\n",
              "c7ffa0e2-4c2b-4074-9872-088a651d7879    1\n",
              "Name: patientId, Length: 26684, dtype: int64"
            ]
          },
          "metadata": {
            "tags": []
          },
          "execution_count": 56
        }
      ]
    },
    {
      "cell_type": "markdown",
      "metadata": {
        "id": "2Yj9-pzrp5kO",
        "colab_type": "text"
      },
      "source": [
        "Patient ID abov gives the unique identies to different classes of pneumonia in the present data set - **No Lung Opacity / Not Normal,Lung Opacity,Normal**\n"
      ]
    },
    {
      "cell_type": "markdown",
      "metadata": {
        "id": "JfYMPjCA5Jx7",
        "colab_type": "text"
      },
      "source": [
        "## **Reading through the Train Labels Dataset**"
      ]
    },
    {
      "cell_type": "code",
      "metadata": {
        "id": "wWkaWK4ogodD",
        "colab_type": "code",
        "colab": {}
      },
      "source": [
        "df_train_labels=pd.read_csv('/content/stage_2_train_labels.csv')"
      ],
      "execution_count": 0,
      "outputs": []
    },
    {
      "cell_type": "code",
      "metadata": {
        "id": "h-BoESEWrGND",
        "colab_type": "code",
        "outputId": "8efef82d-094c-4ef2-c2a5-67da2f556c35",
        "colab": {
          "base_uri": "https://localhost:8080/",
          "height": 35
        }
      },
      "source": [
        "df_train_labels.shape\n"
      ],
      "execution_count": 58,
      "outputs": [
        {
          "output_type": "execute_result",
          "data": {
            "text/plain": [
              "(30227, 6)"
            ]
          },
          "metadata": {
            "tags": []
          },
          "execution_count": 58
        }
      ]
    },
    {
      "cell_type": "code",
      "metadata": {
        "id": "WI-i_Q9gg-L6",
        "colab_type": "code",
        "outputId": "cb2d5df0-2c99-442e-95d7-66399679e449",
        "colab": {
          "base_uri": "https://localhost:8080/",
          "height": 200
        }
      },
      "source": [
        "df_train_labels.head()"
      ],
      "execution_count": 59,
      "outputs": [
        {
          "output_type": "execute_result",
          "data": {
            "text/html": [
              "<div>\n",
              "<style scoped>\n",
              "    .dataframe tbody tr th:only-of-type {\n",
              "        vertical-align: middle;\n",
              "    }\n",
              "\n",
              "    .dataframe tbody tr th {\n",
              "        vertical-align: top;\n",
              "    }\n",
              "\n",
              "    .dataframe thead th {\n",
              "        text-align: right;\n",
              "    }\n",
              "</style>\n",
              "<table border=\"1\" class=\"dataframe\">\n",
              "  <thead>\n",
              "    <tr style=\"text-align: right;\">\n",
              "      <th></th>\n",
              "      <th>patientId</th>\n",
              "      <th>x</th>\n",
              "      <th>y</th>\n",
              "      <th>width</th>\n",
              "      <th>height</th>\n",
              "      <th>Target</th>\n",
              "    </tr>\n",
              "  </thead>\n",
              "  <tbody>\n",
              "    <tr>\n",
              "      <th>0</th>\n",
              "      <td>0004cfab-14fd-4e49-80ba-63a80b6bddd6</td>\n",
              "      <td>NaN</td>\n",
              "      <td>NaN</td>\n",
              "      <td>NaN</td>\n",
              "      <td>NaN</td>\n",
              "      <td>0</td>\n",
              "    </tr>\n",
              "    <tr>\n",
              "      <th>1</th>\n",
              "      <td>00313ee0-9eaa-42f4-b0ab-c148ed3241cd</td>\n",
              "      <td>NaN</td>\n",
              "      <td>NaN</td>\n",
              "      <td>NaN</td>\n",
              "      <td>NaN</td>\n",
              "      <td>0</td>\n",
              "    </tr>\n",
              "    <tr>\n",
              "      <th>2</th>\n",
              "      <td>00322d4d-1c29-4943-afc9-b6754be640eb</td>\n",
              "      <td>NaN</td>\n",
              "      <td>NaN</td>\n",
              "      <td>NaN</td>\n",
              "      <td>NaN</td>\n",
              "      <td>0</td>\n",
              "    </tr>\n",
              "    <tr>\n",
              "      <th>3</th>\n",
              "      <td>003d8fa0-6bf1-40ed-b54c-ac657f8495c5</td>\n",
              "      <td>NaN</td>\n",
              "      <td>NaN</td>\n",
              "      <td>NaN</td>\n",
              "      <td>NaN</td>\n",
              "      <td>0</td>\n",
              "    </tr>\n",
              "    <tr>\n",
              "      <th>4</th>\n",
              "      <td>00436515-870c-4b36-a041-de91049b9ab4</td>\n",
              "      <td>264.0</td>\n",
              "      <td>152.0</td>\n",
              "      <td>213.0</td>\n",
              "      <td>379.0</td>\n",
              "      <td>1</td>\n",
              "    </tr>\n",
              "  </tbody>\n",
              "</table>\n",
              "</div>"
            ],
            "text/plain": [
              "                              patientId      x      y  width  height  Target\n",
              "0  0004cfab-14fd-4e49-80ba-63a80b6bddd6    NaN    NaN    NaN     NaN       0\n",
              "1  00313ee0-9eaa-42f4-b0ab-c148ed3241cd    NaN    NaN    NaN     NaN       0\n",
              "2  00322d4d-1c29-4943-afc9-b6754be640eb    NaN    NaN    NaN     NaN       0\n",
              "3  003d8fa0-6bf1-40ed-b54c-ac657f8495c5    NaN    NaN    NaN     NaN       0\n",
              "4  00436515-870c-4b36-a041-de91049b9ab4  264.0  152.0  213.0   379.0       1"
            ]
          },
          "metadata": {
            "tags": []
          },
          "execution_count": 59
        }
      ]
    },
    {
      "cell_type": "markdown",
      "metadata": {
        "id": "bzoNJ76JrWGD",
        "colab_type": "text"
      },
      "source": [
        "Dataset has impressions of NaN present in few columns as Missing values which would need to be handled for model building & tuning \n",
        "understanding from the data set is as below:\n",
        "Target 0 : No Pneumonia\n",
        "Target 1 : Pneumonia \n",
        "All rows with columns X to width (L-R) have NaN which means patients with NaN, they dont have pneumonia while the ones with the value 1 or more than 1 are the areas of pneumonia detected. "
      ]
    },
    {
      "cell_type": "markdown",
      "metadata": {
        "id": "e8aknct2ued4",
        "colab_type": "text"
      },
      "source": [
        "## **2. Dealing with missing values**\n",
        "No Missing values in the dataset present which require changes the \"NAN\" present are a part of the data set"
      ]
    },
    {
      "cell_type": "code",
      "metadata": {
        "id": "G22ywZLunsFo",
        "colab_type": "code",
        "outputId": "01065ebe-6f6c-4631-ace2-f5d3de1c80a4",
        "colab": {
          "base_uri": "https://localhost:8080/",
          "height": 141
        }
      },
      "source": [
        "df_train_labels.isnull().sum()"
      ],
      "execution_count": 60,
      "outputs": [
        {
          "output_type": "execute_result",
          "data": {
            "text/plain": [
              "patientId        0\n",
              "x            20672\n",
              "y            20672\n",
              "width        20672\n",
              "height       20672\n",
              "Target           0\n",
              "dtype: int64"
            ]
          },
          "metadata": {
            "tags": []
          },
          "execution_count": 60
        }
      ]
    },
    {
      "cell_type": "code",
      "metadata": {
        "id": "iDbrAQu4AtpI",
        "colab_type": "code",
        "colab": {
          "base_uri": "https://localhost:8080/",
          "height": 70
        },
        "outputId": "152ce6c6-c7bc-45a1-dcaa-906dcfcfad4d"
      },
      "source": [
        "df_class_info.isnull().sum()"
      ],
      "execution_count": 61,
      "outputs": [
        {
          "output_type": "execute_result",
          "data": {
            "text/plain": [
              "patientId    0\n",
              "class        0\n",
              "dtype: int64"
            ]
          },
          "metadata": {
            "tags": []
          },
          "execution_count": 61
        }
      ]
    },
    {
      "cell_type": "markdown",
      "metadata": {
        "id": "MCX8BDPjyHtq",
        "colab_type": "text"
      },
      "source": [
        "**To count the instances of each class in the data to check if data is skewed towards a class**"
      ]
    },
    {
      "cell_type": "code",
      "metadata": {
        "id": "72D1Ool-xpk1",
        "colab_type": "code",
        "outputId": "e9f17a60-1154-43bc-8ce7-2dd9010bd332",
        "colab": {
          "base_uri": "https://localhost:8080/",
          "height": 139
        }
      },
      "source": [
        "df_train_labels.groupby([\"Target\"]).count() "
      ],
      "execution_count": 62,
      "outputs": [
        {
          "output_type": "execute_result",
          "data": {
            "text/html": [
              "<div>\n",
              "<style scoped>\n",
              "    .dataframe tbody tr th:only-of-type {\n",
              "        vertical-align: middle;\n",
              "    }\n",
              "\n",
              "    .dataframe tbody tr th {\n",
              "        vertical-align: top;\n",
              "    }\n",
              "\n",
              "    .dataframe thead th {\n",
              "        text-align: right;\n",
              "    }\n",
              "</style>\n",
              "<table border=\"1\" class=\"dataframe\">\n",
              "  <thead>\n",
              "    <tr style=\"text-align: right;\">\n",
              "      <th></th>\n",
              "      <th>patientId</th>\n",
              "      <th>x</th>\n",
              "      <th>y</th>\n",
              "      <th>width</th>\n",
              "      <th>height</th>\n",
              "    </tr>\n",
              "    <tr>\n",
              "      <th>Target</th>\n",
              "      <th></th>\n",
              "      <th></th>\n",
              "      <th></th>\n",
              "      <th></th>\n",
              "      <th></th>\n",
              "    </tr>\n",
              "  </thead>\n",
              "  <tbody>\n",
              "    <tr>\n",
              "      <th>0</th>\n",
              "      <td>20672</td>\n",
              "      <td>0</td>\n",
              "      <td>0</td>\n",
              "      <td>0</td>\n",
              "      <td>0</td>\n",
              "    </tr>\n",
              "    <tr>\n",
              "      <th>1</th>\n",
              "      <td>9555</td>\n",
              "      <td>9555</td>\n",
              "      <td>9555</td>\n",
              "      <td>9555</td>\n",
              "      <td>9555</td>\n",
              "    </tr>\n",
              "  </tbody>\n",
              "</table>\n",
              "</div>"
            ],
            "text/plain": [
              "        patientId     x     y  width  height\n",
              "Target                                      \n",
              "0           20672     0     0      0       0\n",
              "1            9555  9555  9555   9555    9555"
            ]
          },
          "metadata": {
            "tags": []
          },
          "execution_count": 62
        }
      ]
    },
    {
      "cell_type": "markdown",
      "metadata": {
        "id": "kUhWF75Fx2_W",
        "colab_type": "text"
      },
      "source": [
        "**Target 0 : No Pneumonia Target 1 : Pneumonia/abnormal syptoms**\n"
      ]
    },
    {
      "cell_type": "code",
      "metadata": {
        "id": "CL7939OvyRxi",
        "colab_type": "code",
        "outputId": "9da89a65-9d00-4ea6-fbe8-05bf293c0ebc",
        "colab": {
          "base_uri": "https://localhost:8080/",
          "height": 248
        }
      },
      "source": [
        "df_train_labels.info()"
      ],
      "execution_count": 63,
      "outputs": [
        {
          "output_type": "stream",
          "text": [
            "<class 'pandas.core.frame.DataFrame'>\n",
            "RangeIndex: 30227 entries, 0 to 30226\n",
            "Data columns (total 6 columns):\n",
            " #   Column     Non-Null Count  Dtype  \n",
            "---  ------     --------------  -----  \n",
            " 0   patientId  30227 non-null  object \n",
            " 1   x          9555 non-null   float64\n",
            " 2   y          9555 non-null   float64\n",
            " 3   width      9555 non-null   float64\n",
            " 4   height     9555 non-null   float64\n",
            " 5   Target     30227 non-null  int64  \n",
            "dtypes: float64(4), int64(1), object(1)\n",
            "memory usage: 1.4+ MB\n"
          ],
          "name": "stdout"
        }
      ]
    },
    {
      "cell_type": "markdown",
      "metadata": {
        "id": "dVk7Jl1n1LJb",
        "colab_type": "text"
      },
      "source": [
        "**Descriptive statistics of each of the attributes**"
      ]
    },
    {
      "cell_type": "code",
      "metadata": {
        "id": "8DH6rZ4Kywn4",
        "colab_type": "code",
        "outputId": "fce1de80-ec6a-4218-b3c7-fce51ff35def",
        "colab": {
          "base_uri": "https://localhost:8080/",
          "height": 382
        }
      },
      "source": [
        "df_train_labels.describe(include='all')"
      ],
      "execution_count": 64,
      "outputs": [
        {
          "output_type": "execute_result",
          "data": {
            "text/html": [
              "<div>\n",
              "<style scoped>\n",
              "    .dataframe tbody tr th:only-of-type {\n",
              "        vertical-align: middle;\n",
              "    }\n",
              "\n",
              "    .dataframe tbody tr th {\n",
              "        vertical-align: top;\n",
              "    }\n",
              "\n",
              "    .dataframe thead th {\n",
              "        text-align: right;\n",
              "    }\n",
              "</style>\n",
              "<table border=\"1\" class=\"dataframe\">\n",
              "  <thead>\n",
              "    <tr style=\"text-align: right;\">\n",
              "      <th></th>\n",
              "      <th>patientId</th>\n",
              "      <th>x</th>\n",
              "      <th>y</th>\n",
              "      <th>width</th>\n",
              "      <th>height</th>\n",
              "      <th>Target</th>\n",
              "    </tr>\n",
              "  </thead>\n",
              "  <tbody>\n",
              "    <tr>\n",
              "      <th>count</th>\n",
              "      <td>30227</td>\n",
              "      <td>9555.000000</td>\n",
              "      <td>9555.000000</td>\n",
              "      <td>9555.000000</td>\n",
              "      <td>9555.000000</td>\n",
              "      <td>30227.000000</td>\n",
              "    </tr>\n",
              "    <tr>\n",
              "      <th>unique</th>\n",
              "      <td>26684</td>\n",
              "      <td>NaN</td>\n",
              "      <td>NaN</td>\n",
              "      <td>NaN</td>\n",
              "      <td>NaN</td>\n",
              "      <td>NaN</td>\n",
              "    </tr>\n",
              "    <tr>\n",
              "      <th>top</th>\n",
              "      <td>31764d54-ea3b-434f-bae2-8c579ed13799</td>\n",
              "      <td>NaN</td>\n",
              "      <td>NaN</td>\n",
              "      <td>NaN</td>\n",
              "      <td>NaN</td>\n",
              "      <td>NaN</td>\n",
              "    </tr>\n",
              "    <tr>\n",
              "      <th>freq</th>\n",
              "      <td>4</td>\n",
              "      <td>NaN</td>\n",
              "      <td>NaN</td>\n",
              "      <td>NaN</td>\n",
              "      <td>NaN</td>\n",
              "      <td>NaN</td>\n",
              "    </tr>\n",
              "    <tr>\n",
              "      <th>mean</th>\n",
              "      <td>NaN</td>\n",
              "      <td>394.047724</td>\n",
              "      <td>366.839560</td>\n",
              "      <td>218.471376</td>\n",
              "      <td>329.269702</td>\n",
              "      <td>0.316108</td>\n",
              "    </tr>\n",
              "    <tr>\n",
              "      <th>std</th>\n",
              "      <td>NaN</td>\n",
              "      <td>204.574172</td>\n",
              "      <td>148.940488</td>\n",
              "      <td>59.289475</td>\n",
              "      <td>157.750755</td>\n",
              "      <td>0.464963</td>\n",
              "    </tr>\n",
              "    <tr>\n",
              "      <th>min</th>\n",
              "      <td>NaN</td>\n",
              "      <td>2.000000</td>\n",
              "      <td>2.000000</td>\n",
              "      <td>40.000000</td>\n",
              "      <td>45.000000</td>\n",
              "      <td>0.000000</td>\n",
              "    </tr>\n",
              "    <tr>\n",
              "      <th>25%</th>\n",
              "      <td>NaN</td>\n",
              "      <td>207.000000</td>\n",
              "      <td>249.000000</td>\n",
              "      <td>177.000000</td>\n",
              "      <td>203.000000</td>\n",
              "      <td>0.000000</td>\n",
              "    </tr>\n",
              "    <tr>\n",
              "      <th>50%</th>\n",
              "      <td>NaN</td>\n",
              "      <td>324.000000</td>\n",
              "      <td>365.000000</td>\n",
              "      <td>217.000000</td>\n",
              "      <td>298.000000</td>\n",
              "      <td>0.000000</td>\n",
              "    </tr>\n",
              "    <tr>\n",
              "      <th>75%</th>\n",
              "      <td>NaN</td>\n",
              "      <td>594.000000</td>\n",
              "      <td>478.500000</td>\n",
              "      <td>259.000000</td>\n",
              "      <td>438.000000</td>\n",
              "      <td>1.000000</td>\n",
              "    </tr>\n",
              "    <tr>\n",
              "      <th>max</th>\n",
              "      <td>NaN</td>\n",
              "      <td>835.000000</td>\n",
              "      <td>881.000000</td>\n",
              "      <td>528.000000</td>\n",
              "      <td>942.000000</td>\n",
              "      <td>1.000000</td>\n",
              "    </tr>\n",
              "  </tbody>\n",
              "</table>\n",
              "</div>"
            ],
            "text/plain": [
              "                                   patientId  ...        Target\n",
              "count                                  30227  ...  30227.000000\n",
              "unique                                 26684  ...           NaN\n",
              "top     31764d54-ea3b-434f-bae2-8c579ed13799  ...           NaN\n",
              "freq                                       4  ...           NaN\n",
              "mean                                     NaN  ...      0.316108\n",
              "std                                      NaN  ...      0.464963\n",
              "min                                      NaN  ...      0.000000\n",
              "25%                                      NaN  ...      0.000000\n",
              "50%                                      NaN  ...      0.000000\n",
              "75%                                      NaN  ...      1.000000\n",
              "max                                      NaN  ...      1.000000\n",
              "\n",
              "[11 rows x 6 columns]"
            ]
          },
          "metadata": {
            "tags": []
          },
          "execution_count": 64
        }
      ]
    },
    {
      "cell_type": "code",
      "metadata": {
        "id": "37h_pizCzDPj",
        "colab_type": "code",
        "outputId": "e919904f-19d4-4578-f438-73acaf30ed8f",
        "colab": {
          "base_uri": "https://localhost:8080/",
          "height": 35
        }
      },
      "source": [
        "df_train_labels.columns"
      ],
      "execution_count": 65,
      "outputs": [
        {
          "output_type": "execute_result",
          "data": {
            "text/plain": [
              "Index(['patientId', 'x', 'y', 'width', 'height', 'Target'], dtype='object')"
            ]
          },
          "metadata": {
            "tags": []
          },
          "execution_count": 65
        }
      ]
    },
    {
      "cell_type": "code",
      "metadata": {
        "id": "NcxslxMOzeP_",
        "colab_type": "code",
        "outputId": "e8383a57-0814-4aec-b611-cd789e38fc53",
        "colab": {
          "base_uri": "https://localhost:8080/",
          "height": 139
        }
      },
      "source": [
        "df_train_labels.groupby(\"Target\").count()"
      ],
      "execution_count": 66,
      "outputs": [
        {
          "output_type": "execute_result",
          "data": {
            "text/html": [
              "<div>\n",
              "<style scoped>\n",
              "    .dataframe tbody tr th:only-of-type {\n",
              "        vertical-align: middle;\n",
              "    }\n",
              "\n",
              "    .dataframe tbody tr th {\n",
              "        vertical-align: top;\n",
              "    }\n",
              "\n",
              "    .dataframe thead th {\n",
              "        text-align: right;\n",
              "    }\n",
              "</style>\n",
              "<table border=\"1\" class=\"dataframe\">\n",
              "  <thead>\n",
              "    <tr style=\"text-align: right;\">\n",
              "      <th></th>\n",
              "      <th>patientId</th>\n",
              "      <th>x</th>\n",
              "      <th>y</th>\n",
              "      <th>width</th>\n",
              "      <th>height</th>\n",
              "    </tr>\n",
              "    <tr>\n",
              "      <th>Target</th>\n",
              "      <th></th>\n",
              "      <th></th>\n",
              "      <th></th>\n",
              "      <th></th>\n",
              "      <th></th>\n",
              "    </tr>\n",
              "  </thead>\n",
              "  <tbody>\n",
              "    <tr>\n",
              "      <th>0</th>\n",
              "      <td>20672</td>\n",
              "      <td>0</td>\n",
              "      <td>0</td>\n",
              "      <td>0</td>\n",
              "      <td>0</td>\n",
              "    </tr>\n",
              "    <tr>\n",
              "      <th>1</th>\n",
              "      <td>9555</td>\n",
              "      <td>9555</td>\n",
              "      <td>9555</td>\n",
              "      <td>9555</td>\n",
              "      <td>9555</td>\n",
              "    </tr>\n",
              "  </tbody>\n",
              "</table>\n",
              "</div>"
            ],
            "text/plain": [
              "        patientId     x     y  width  height\n",
              "Target                                      \n",
              "0           20672     0     0      0       0\n",
              "1            9555  9555  9555   9555    9555"
            ]
          },
          "metadata": {
            "tags": []
          },
          "execution_count": 66
        }
      ]
    },
    {
      "cell_type": "code",
      "metadata": {
        "id": "y4BcLm1S1Zgo",
        "colab_type": "code",
        "outputId": "ea75b1fe-13a1-4d11-f610-1a5a041aca1d",
        "colab": {
          "base_uri": "https://localhost:8080/",
          "height": 411
        }
      },
      "source": [
        "df_train_labels[df_train_labels['Target'] == 1]"
      ],
      "execution_count": 67,
      "outputs": [
        {
          "output_type": "execute_result",
          "data": {
            "text/html": [
              "<div>\n",
              "<style scoped>\n",
              "    .dataframe tbody tr th:only-of-type {\n",
              "        vertical-align: middle;\n",
              "    }\n",
              "\n",
              "    .dataframe tbody tr th {\n",
              "        vertical-align: top;\n",
              "    }\n",
              "\n",
              "    .dataframe thead th {\n",
              "        text-align: right;\n",
              "    }\n",
              "</style>\n",
              "<table border=\"1\" class=\"dataframe\">\n",
              "  <thead>\n",
              "    <tr style=\"text-align: right;\">\n",
              "      <th></th>\n",
              "      <th>patientId</th>\n",
              "      <th>x</th>\n",
              "      <th>y</th>\n",
              "      <th>width</th>\n",
              "      <th>height</th>\n",
              "      <th>Target</th>\n",
              "    </tr>\n",
              "  </thead>\n",
              "  <tbody>\n",
              "    <tr>\n",
              "      <th>4</th>\n",
              "      <td>00436515-870c-4b36-a041-de91049b9ab4</td>\n",
              "      <td>264.0</td>\n",
              "      <td>152.0</td>\n",
              "      <td>213.0</td>\n",
              "      <td>379.0</td>\n",
              "      <td>1</td>\n",
              "    </tr>\n",
              "    <tr>\n",
              "      <th>5</th>\n",
              "      <td>00436515-870c-4b36-a041-de91049b9ab4</td>\n",
              "      <td>562.0</td>\n",
              "      <td>152.0</td>\n",
              "      <td>256.0</td>\n",
              "      <td>453.0</td>\n",
              "      <td>1</td>\n",
              "    </tr>\n",
              "    <tr>\n",
              "      <th>8</th>\n",
              "      <td>00704310-78a8-4b38-8475-49f4573b2dbb</td>\n",
              "      <td>323.0</td>\n",
              "      <td>577.0</td>\n",
              "      <td>160.0</td>\n",
              "      <td>104.0</td>\n",
              "      <td>1</td>\n",
              "    </tr>\n",
              "    <tr>\n",
              "      <th>9</th>\n",
              "      <td>00704310-78a8-4b38-8475-49f4573b2dbb</td>\n",
              "      <td>695.0</td>\n",
              "      <td>575.0</td>\n",
              "      <td>162.0</td>\n",
              "      <td>137.0</td>\n",
              "      <td>1</td>\n",
              "    </tr>\n",
              "    <tr>\n",
              "      <th>14</th>\n",
              "      <td>00aecb01-a116-45a2-956c-08d2fa55433f</td>\n",
              "      <td>288.0</td>\n",
              "      <td>322.0</td>\n",
              "      <td>94.0</td>\n",
              "      <td>135.0</td>\n",
              "      <td>1</td>\n",
              "    </tr>\n",
              "    <tr>\n",
              "      <th>...</th>\n",
              "      <td>...</td>\n",
              "      <td>...</td>\n",
              "      <td>...</td>\n",
              "      <td>...</td>\n",
              "      <td>...</td>\n",
              "      <td>...</td>\n",
              "    </tr>\n",
              "    <tr>\n",
              "      <th>30220</th>\n",
              "      <td>c1e73a4e-7afe-4ec5-8af6-ce8315d7a2f2</td>\n",
              "      <td>316.0</td>\n",
              "      <td>504.0</td>\n",
              "      <td>179.0</td>\n",
              "      <td>273.0</td>\n",
              "      <td>1</td>\n",
              "    </tr>\n",
              "    <tr>\n",
              "      <th>30221</th>\n",
              "      <td>c1ec14ff-f6d7-4b38-b0cb-fe07041cbdc8</td>\n",
              "      <td>609.0</td>\n",
              "      <td>464.0</td>\n",
              "      <td>240.0</td>\n",
              "      <td>284.0</td>\n",
              "      <td>1</td>\n",
              "    </tr>\n",
              "    <tr>\n",
              "      <th>30222</th>\n",
              "      <td>c1ec14ff-f6d7-4b38-b0cb-fe07041cbdc8</td>\n",
              "      <td>185.0</td>\n",
              "      <td>298.0</td>\n",
              "      <td>228.0</td>\n",
              "      <td>379.0</td>\n",
              "      <td>1</td>\n",
              "    </tr>\n",
              "    <tr>\n",
              "      <th>30225</th>\n",
              "      <td>c1f7889a-9ea9-4acb-b64c-b737c929599a</td>\n",
              "      <td>570.0</td>\n",
              "      <td>393.0</td>\n",
              "      <td>261.0</td>\n",
              "      <td>345.0</td>\n",
              "      <td>1</td>\n",
              "    </tr>\n",
              "    <tr>\n",
              "      <th>30226</th>\n",
              "      <td>c1f7889a-9ea9-4acb-b64c-b737c929599a</td>\n",
              "      <td>233.0</td>\n",
              "      <td>424.0</td>\n",
              "      <td>201.0</td>\n",
              "      <td>356.0</td>\n",
              "      <td>1</td>\n",
              "    </tr>\n",
              "  </tbody>\n",
              "</table>\n",
              "<p>9555 rows × 6 columns</p>\n",
              "</div>"
            ],
            "text/plain": [
              "                                  patientId      x  ...  height  Target\n",
              "4      00436515-870c-4b36-a041-de91049b9ab4  264.0  ...   379.0       1\n",
              "5      00436515-870c-4b36-a041-de91049b9ab4  562.0  ...   453.0       1\n",
              "8      00704310-78a8-4b38-8475-49f4573b2dbb  323.0  ...   104.0       1\n",
              "9      00704310-78a8-4b38-8475-49f4573b2dbb  695.0  ...   137.0       1\n",
              "14     00aecb01-a116-45a2-956c-08d2fa55433f  288.0  ...   135.0       1\n",
              "...                                     ...    ...  ...     ...     ...\n",
              "30220  c1e73a4e-7afe-4ec5-8af6-ce8315d7a2f2  316.0  ...   273.0       1\n",
              "30221  c1ec14ff-f6d7-4b38-b0cb-fe07041cbdc8  609.0  ...   284.0       1\n",
              "30222  c1ec14ff-f6d7-4b38-b0cb-fe07041cbdc8  185.0  ...   379.0       1\n",
              "30225  c1f7889a-9ea9-4acb-b64c-b737c929599a  570.0  ...   345.0       1\n",
              "30226  c1f7889a-9ea9-4acb-b64c-b737c929599a  233.0  ...   356.0       1\n",
              "\n",
              "[9555 rows x 6 columns]"
            ]
          },
          "metadata": {
            "tags": []
          },
          "execution_count": 67
        }
      ]
    },
    {
      "cell_type": "markdown",
      "metadata": {
        "id": "iK3gZDZ61olK",
        "colab_type": "text"
      },
      "source": [
        "**Pneumonia Identified with Target value as 1**"
      ]
    },
    {
      "cell_type": "markdown",
      "metadata": {
        "id": "gMd_JLRH1ygV",
        "colab_type": "text"
      },
      "source": [
        "**To understand the classes division in terms of number**\n"
      ]
    },
    {
      "cell_type": "code",
      "metadata": {
        "id": "J2FRQUR915i5",
        "colab_type": "code",
        "outputId": "1746e5b9-37a7-4082-8879-e2f1c47f6d94",
        "colab": {
          "base_uri": "https://localhost:8080/",
          "height": 88
        }
      },
      "source": [
        "df_class_info['class'].value_counts()"
      ],
      "execution_count": 68,
      "outputs": [
        {
          "output_type": "execute_result",
          "data": {
            "text/plain": [
              "No Lung Opacity / Not Normal    11821\n",
              "Lung Opacity                     9555\n",
              "Normal                           8851\n",
              "Name: class, dtype: int64"
            ]
          },
          "metadata": {
            "tags": []
          },
          "execution_count": 68
        }
      ]
    },
    {
      "cell_type": "code",
      "metadata": {
        "id": "SVFKCCUH2ppq",
        "colab_type": "code",
        "outputId": "cc08d491-db7b-4009-9a9d-ce04361a76e2",
        "colab": {
          "base_uri": "https://localhost:8080/",
          "height": 88
        }
      },
      "source": [
        "round((df_class_info['class'].value_counts()/len(df_class_info.index) * 100),2)"
      ],
      "execution_count": 69,
      "outputs": [
        {
          "output_type": "execute_result",
          "data": {
            "text/plain": [
              "No Lung Opacity / Not Normal    39.11\n",
              "Lung Opacity                    31.61\n",
              "Normal                          29.28\n",
              "Name: class, dtype: float64"
            ]
          },
          "metadata": {
            "tags": []
          },
          "execution_count": 69
        }
      ]
    },
    {
      "cell_type": "code",
      "metadata": {
        "id": "_xfnSIYK2zrh",
        "colab_type": "code",
        "outputId": "378feef4-3104-4fde-e10a-c651b9805786",
        "colab": {
          "base_uri": "https://localhost:8080/",
          "height": 297
        }
      },
      "source": [
        "sns.countplot(df_class_info['class'])"
      ],
      "execution_count": 70,
      "outputs": [
        {
          "output_type": "execute_result",
          "data": {
            "text/plain": [
              "<matplotlib.axes._subplots.AxesSubplot at 0x7fdb16bc1780>"
            ]
          },
          "metadata": {
            "tags": []
          },
          "execution_count": 70
        },
        {
          "output_type": "display_data",
          "data": {
            "image/png": "[encoded data removed]",
            "text/plain": [
              "<Figure size 432x288 with 1 Axes>"
            ]
          },
          "metadata": {
            "tags": []
          }
        }
      ]
    },
    {
      "cell_type": "markdown",
      "metadata": {
        "id": "X1A89hklqqMR",
        "colab_type": "text"
      },
      "source": [
        "“**Merging” two datasets is the process of bringing two datasets together into one & aligning the rows from each based on common attributes or columns,The words “merge” & “join” are used relatively interchangeably in Pandas & other language**s"
      ]
    },
    {
      "cell_type": "markdown",
      "metadata": {
        "id": "_VwXUYY1rCT-",
        "colab_type": "text"
      },
      "source": [
        "**Merging two datasets \"df_class_info,df_train_labels\"**"
      ]
    },
    {
      "cell_type": "code",
      "metadata": {
        "id": "g1sH9AE6CWXK",
        "colab_type": "code",
        "colab": {
          "base_uri": "https://localhost:8080/",
          "height": 177
        },
        "outputId": "9d3bb52c-7e6a-41cf-ac13-f9f9fb186eda"
      },
      "source": [
        "df_class_info.info()"
      ],
      "execution_count": 71,
      "outputs": [
        {
          "output_type": "stream",
          "text": [
            "<class 'pandas.core.frame.DataFrame'>\n",
            "RangeIndex: 30227 entries, 0 to 30226\n",
            "Data columns (total 2 columns):\n",
            " #   Column     Non-Null Count  Dtype \n",
            "---  ------     --------------  ----- \n",
            " 0   patientId  30227 non-null  object\n",
            " 1   class      30227 non-null  object\n",
            "dtypes: object(2)\n",
            "memory usage: 472.4+ KB\n"
          ],
          "name": "stdout"
        }
      ]
    },
    {
      "cell_type": "code",
      "metadata": {
        "id": "pdCTLL68Cg1_",
        "colab_type": "code",
        "colab": {
          "base_uri": "https://localhost:8080/",
          "height": 200
        },
        "outputId": "09fecbca-02e5-43f5-9e7c-b7cccb40d174"
      },
      "source": [
        "df_class_info.head()"
      ],
      "execution_count": 72,
      "outputs": [
        {
          "output_type": "execute_result",
          "data": {
            "text/html": [
              "<div>\n",
              "<style scoped>\n",
              "    .dataframe tbody tr th:only-of-type {\n",
              "        vertical-align: middle;\n",
              "    }\n",
              "\n",
              "    .dataframe tbody tr th {\n",
              "        vertical-align: top;\n",
              "    }\n",
              "\n",
              "    .dataframe thead th {\n",
              "        text-align: right;\n",
              "    }\n",
              "</style>\n",
              "<table border=\"1\" class=\"dataframe\">\n",
              "  <thead>\n",
              "    <tr style=\"text-align: right;\">\n",
              "      <th></th>\n",
              "      <th>patientId</th>\n",
              "      <th>class</th>\n",
              "    </tr>\n",
              "  </thead>\n",
              "  <tbody>\n",
              "    <tr>\n",
              "      <th>0</th>\n",
              "      <td>0004cfab-14fd-4e49-80ba-63a80b6bddd6</td>\n",
              "      <td>No Lung Opacity / Not Normal</td>\n",
              "    </tr>\n",
              "    <tr>\n",
              "      <th>1</th>\n",
              "      <td>00313ee0-9eaa-42f4-b0ab-c148ed3241cd</td>\n",
              "      <td>No Lung Opacity / Not Normal</td>\n",
              "    </tr>\n",
              "    <tr>\n",
              "      <th>2</th>\n",
              "      <td>00322d4d-1c29-4943-afc9-b6754be640eb</td>\n",
              "      <td>No Lung Opacity / Not Normal</td>\n",
              "    </tr>\n",
              "    <tr>\n",
              "      <th>3</th>\n",
              "      <td>003d8fa0-6bf1-40ed-b54c-ac657f8495c5</td>\n",
              "      <td>Normal</td>\n",
              "    </tr>\n",
              "    <tr>\n",
              "      <th>4</th>\n",
              "      <td>00436515-870c-4b36-a041-de91049b9ab4</td>\n",
              "      <td>Lung Opacity</td>\n",
              "    </tr>\n",
              "  </tbody>\n",
              "</table>\n",
              "</div>"
            ],
            "text/plain": [
              "                              patientId                         class\n",
              "0  0004cfab-14fd-4e49-80ba-63a80b6bddd6  No Lung Opacity / Not Normal\n",
              "1  00313ee0-9eaa-42f4-b0ab-c148ed3241cd  No Lung Opacity / Not Normal\n",
              "2  00322d4d-1c29-4943-afc9-b6754be640eb  No Lung Opacity / Not Normal\n",
              "3  003d8fa0-6bf1-40ed-b54c-ac657f8495c5                        Normal\n",
              "4  00436515-870c-4b36-a041-de91049b9ab4                  Lung Opacity"
            ]
          },
          "metadata": {
            "tags": []
          },
          "execution_count": 72
        }
      ]
    },
    {
      "cell_type": "code",
      "metadata": {
        "id": "UgPHApkZDUIY",
        "colab_type": "code",
        "colab": {
          "base_uri": "https://localhost:8080/",
          "height": 200
        },
        "outputId": "d54bfe7a-891e-443c-de9e-0647afcb548a"
      },
      "source": [
        "df_train_labels.head()"
      ],
      "execution_count": 73,
      "outputs": [
        {
          "output_type": "execute_result",
          "data": {
            "text/html": [
              "<div>\n",
              "<style scoped>\n",
              "    .dataframe tbody tr th:only-of-type {\n",
              "        vertical-align: middle;\n",
              "    }\n",
              "\n",
              "    .dataframe tbody tr th {\n",
              "        vertical-align: top;\n",
              "    }\n",
              "\n",
              "    .dataframe thead th {\n",
              "        text-align: right;\n",
              "    }\n",
              "</style>\n",
              "<table border=\"1\" class=\"dataframe\">\n",
              "  <thead>\n",
              "    <tr style=\"text-align: right;\">\n",
              "      <th></th>\n",
              "      <th>patientId</th>\n",
              "      <th>x</th>\n",
              "      <th>y</th>\n",
              "      <th>width</th>\n",
              "      <th>height</th>\n",
              "      <th>Target</th>\n",
              "    </tr>\n",
              "  </thead>\n",
              "  <tbody>\n",
              "    <tr>\n",
              "      <th>0</th>\n",
              "      <td>0004cfab-14fd-4e49-80ba-63a80b6bddd6</td>\n",
              "      <td>NaN</td>\n",
              "      <td>NaN</td>\n",
              "      <td>NaN</td>\n",
              "      <td>NaN</td>\n",
              "      <td>0</td>\n",
              "    </tr>\n",
              "    <tr>\n",
              "      <th>1</th>\n",
              "      <td>00313ee0-9eaa-42f4-b0ab-c148ed3241cd</td>\n",
              "      <td>NaN</td>\n",
              "      <td>NaN</td>\n",
              "      <td>NaN</td>\n",
              "      <td>NaN</td>\n",
              "      <td>0</td>\n",
              "    </tr>\n",
              "    <tr>\n",
              "      <th>2</th>\n",
              "      <td>00322d4d-1c29-4943-afc9-b6754be640eb</td>\n",
              "      <td>NaN</td>\n",
              "      <td>NaN</td>\n",
              "      <td>NaN</td>\n",
              "      <td>NaN</td>\n",
              "      <td>0</td>\n",
              "    </tr>\n",
              "    <tr>\n",
              "      <th>3</th>\n",
              "      <td>003d8fa0-6bf1-40ed-b54c-ac657f8495c5</td>\n",
              "      <td>NaN</td>\n",
              "      <td>NaN</td>\n",
              "      <td>NaN</td>\n",
              "      <td>NaN</td>\n",
              "      <td>0</td>\n",
              "    </tr>\n",
              "    <tr>\n",
              "      <th>4</th>\n",
              "      <td>00436515-870c-4b36-a041-de91049b9ab4</td>\n",
              "      <td>264.0</td>\n",
              "      <td>152.0</td>\n",
              "      <td>213.0</td>\n",
              "      <td>379.0</td>\n",
              "      <td>1</td>\n",
              "    </tr>\n",
              "  </tbody>\n",
              "</table>\n",
              "</div>"
            ],
            "text/plain": [
              "                              patientId      x      y  width  height  Target\n",
              "0  0004cfab-14fd-4e49-80ba-63a80b6bddd6    NaN    NaN    NaN     NaN       0\n",
              "1  00313ee0-9eaa-42f4-b0ab-c148ed3241cd    NaN    NaN    NaN     NaN       0\n",
              "2  00322d4d-1c29-4943-afc9-b6754be640eb    NaN    NaN    NaN     NaN       0\n",
              "3  003d8fa0-6bf1-40ed-b54c-ac657f8495c5    NaN    NaN    NaN     NaN       0\n",
              "4  00436515-870c-4b36-a041-de91049b9ab4  264.0  152.0  213.0   379.0       1"
            ]
          },
          "metadata": {
            "tags": []
          },
          "execution_count": 73
        }
      ]
    },
    {
      "cell_type": "code",
      "metadata": {
        "id": "jks54gzLDg1P",
        "colab_type": "code",
        "colab": {
          "base_uri": "https://localhost:8080/",
          "height": 248
        },
        "outputId": "66956a16-aaea-4d6a-dfbc-a06995e13320"
      },
      "source": [
        "df_train_labels.info()"
      ],
      "execution_count": 81,
      "outputs": [
        {
          "output_type": "stream",
          "text": [
            "<class 'pandas.core.frame.DataFrame'>\n",
            "RangeIndex: 30227 entries, 0 to 30226\n",
            "Data columns (total 6 columns):\n",
            " #   Column     Non-Null Count  Dtype  \n",
            "---  ------     --------------  -----  \n",
            " 0   patientId  30227 non-null  object \n",
            " 1   x          9555 non-null   float64\n",
            " 2   y          9555 non-null   float64\n",
            " 3   width      9555 non-null   float64\n",
            " 4   height     9555 non-null   float64\n",
            " 5   Target     30227 non-null  int64  \n",
            "dtypes: float64(4), int64(1), object(1)\n",
            "memory usage: 1.4+ MB\n"
          ],
          "name": "stdout"
        }
      ]
    },
    {
      "cell_type": "code",
      "metadata": {
        "id": "WQe6GTfQq6sT",
        "colab_type": "code",
        "colab": {}
      },
      "source": [
        "train_class_df=df_train_labels.merge(df_class_info, left_on='patientId', right_on='patientId', how='inner')"
      ],
      "execution_count": 0,
      "outputs": []
    },
    {
      "cell_type": "code",
      "metadata": {
        "id": "O2RvEOJNBz82",
        "colab_type": "code",
        "colab": {
          "base_uri": "https://localhost:8080/",
          "height": 35
        },
        "outputId": "99694ecd-016f-430f-b6d4-70cb17652b24"
      },
      "source": [
        "df_Train_Class_labels = df_train_labels.merge(df_class_info, left_on='patientId', right_on='patientId', how='inner')\n",
        "df_class_info.shape"
      ],
      "execution_count": 76,
      "outputs": [
        {
          "output_type": "execute_result",
          "data": {
            "text/plain": [
              "(30227, 2)"
            ]
          },
          "metadata": {
            "tags": []
          },
          "execution_count": 76
        }
      ]
    },
    {
      "cell_type": "code",
      "metadata": {
        "id": "DdLuzc7LE4FZ",
        "colab_type": "code",
        "colab": {
          "base_uri": "https://localhost:8080/",
          "height": 266
        },
        "outputId": "bcc0f3bd-13cc-4ab4-8d52-c0399d7a2c3c"
      },
      "source": [
        "df_Train_Class_labels.info()"
      ],
      "execution_count": 82,
      "outputs": [
        {
          "output_type": "stream",
          "text": [
            "<class 'pandas.core.frame.DataFrame'>\n",
            "Int64Index: 37629 entries, 0 to 37628\n",
            "Data columns (total 7 columns):\n",
            " #   Column     Non-Null Count  Dtype  \n",
            "---  ------     --------------  -----  \n",
            " 0   patientId  37629 non-null  object \n",
            " 1   x          16957 non-null  float64\n",
            " 2   y          16957 non-null  float64\n",
            " 3   width      16957 non-null  float64\n",
            " 4   height     16957 non-null  float64\n",
            " 5   Target     37629 non-null  int64  \n",
            " 6   class      37629 non-null  object \n",
            "dtypes: float64(4), int64(1), object(2)\n",
            "memory usage: 2.3+ MB\n"
          ],
          "name": "stdout"
        }
      ]
    },
    {
      "cell_type": "code",
      "metadata": {
        "id": "5ifYF1OjFHLB",
        "colab_type": "code",
        "colab": {}
      },
      "source": [
        "df_Train_Class_labels = df_Train_Class_labels.drop_duplicates()"
      ],
      "execution_count": 0,
      "outputs": []
    },
    {
      "cell_type": "code",
      "metadata": {
        "id": "K2Ob3xMSFYGq",
        "colab_type": "code",
        "colab": {
          "base_uri": "https://localhost:8080/",
          "height": 266
        },
        "outputId": "57e40262-9ad9-4089-dac7-afffe63910f8"
      },
      "source": [
        "df_Train_Class_labels.info()"
      ],
      "execution_count": 84,
      "outputs": [
        {
          "output_type": "stream",
          "text": [
            "<class 'pandas.core.frame.DataFrame'>\n",
            "Int64Index: 30227 entries, 0 to 37627\n",
            "Data columns (total 7 columns):\n",
            " #   Column     Non-Null Count  Dtype  \n",
            "---  ------     --------------  -----  \n",
            " 0   patientId  30227 non-null  object \n",
            " 1   x          9555 non-null   float64\n",
            " 2   y          9555 non-null   float64\n",
            " 3   width      9555 non-null   float64\n",
            " 4   height     9555 non-null   float64\n",
            " 5   Target     30227 non-null  int64  \n",
            " 6   class      30227 non-null  object \n",
            "dtypes: float64(4), int64(1), object(2)\n",
            "memory usage: 1.8+ MB\n"
          ],
          "name": "stdout"
        }
      ]
    },
    {
      "cell_type": "markdown",
      "metadata": {
        "id": "a3wDf6iV8D-i",
        "colab_type": "text"
      },
      "source": [
        "In order to work with the Medical images that are stored in a special format called DICOM files - (*Dcm),we would need to install the package \"pydicom\"to create an understanding of the image type & gives the opportunity to further explore it"
      ]
    },
    {
      "cell_type": "code",
      "metadata": {
        "id": "n1ssExwe8gDZ",
        "colab_type": "code",
        "outputId": "05a8e51a-0244-4cb7-eeb8-12007d95f0e0",
        "colab": {
          "base_uri": "https://localhost:8080/",
          "height": 35
        }
      },
      "source": [
        "pip install pydicom"
      ],
      "execution_count": 77,
      "outputs": [
        {
          "output_type": "stream",
          "text": [
            "Requirement already satisfied: pydicom in /usr/local/lib/python3.6/dist-packages (2.0.0)\n"
          ],
          "name": "stdout"
        }
      ]
    },
    {
      "cell_type": "code",
      "metadata": {
        "id": "gsyo7lw18pqb",
        "colab_type": "code",
        "colab": {
          "base_uri": "https://localhost:8080/",
          "height": 799
        },
        "outputId": "d7bf5ef5-a6fc-4ccf-8e82-a89b6ecfd8a4"
      },
      "source": [
        "import pydicom, glob, pylab\n",
        "import numpy as np\n",
        "import matplotlib\n",
        "import matplotlib.pyplot as plt\n",
        "from matplotlib.patches import Rectangle\n",
        "import seaborn as sns\n",
        "\n",
        "patientId = df_class_info['patientId'][1] #No lung opacity/ Not normal\n",
        "dcm_train = '/content/stage_2_train_images/%s.dcm' % patientId\n",
        "dcm_med = pydicom.read_file(dcm_train)\n",
        "print(dcm_med)"
      ],
      "execution_count": 78,
      "outputs": [
        {
          "output_type": "stream",
          "text": [
            "Dataset.file_meta -------------------------------\n",
            "(0002, 0000) File Meta Information Group Length  UL: 200\n",
            "(0002, 0001) File Meta Information Version       OB: b'\\x00\\x01'\n",
            "(0002, 0002) Media Storage SOP Class UID         UI: Secondary Capture Image Storage\n",
            "(0002, 0003) Media Storage SOP Instance UID      UI: 1.2.276.0.7230010.3.1.4.8323329.26024.1517874469.23011\n",
            "(0002, 0010) Transfer Syntax UID                 UI: JPEG Baseline (Process 1)\n",
            "(0002, 0012) Implementation Class UID            UI: 1.2.276.0.7230010.3.0.3.6.0\n",
            "(0002, 0013) Implementation Version Name         SH: 'OFFIS_DCMTK_360'\n",
            "-------------------------------------------------\n",
            "(0008, 0005) Specific Character Set              CS: 'ISO_IR 100'\n",
            "(0008, 0016) SOP Class UID                       UI: Secondary Capture Image Storage\n",
            "(0008, 0018) SOP Instance UID                    UI: 1.2.276.0.7230010.3.1.4.8323329.26024.1517874469.23011\n",
            "(0008, 0020) Study Date                          DA: '19010101'\n",
            "(0008, 0030) Study Time                          TM: '000000.00'\n",
            "(0008, 0050) Accession Number                    SH: ''\n",
            "(0008, 0060) Modality                            CS: 'CR'\n",
            "(0008, 0064) Conversion Type                     CS: 'WSD'\n",
            "(0008, 0090) Referring Physician's Name          PN: ''\n",
            "(0008, 103e) Series Description                  LO: 'view: PA'\n",
            "(0010, 0010) Patient's Name                      PN: '00313ee0-9eaa-42f4-b0ab-c148ed3241cd'\n",
            "(0010, 0020) Patient ID                          LO: '00313ee0-9eaa-42f4-b0ab-c148ed3241cd'\n",
            "(0010, 0030) Patient's Birth Date                DA: ''\n",
            "(0010, 0040) Patient's Sex                       CS: 'F'\n",
            "(0010, 1010) Patient's Age                       AS: '48'\n",
            "(0018, 0015) Body Part Examined                  CS: 'CHEST'\n",
            "(0018, 5101) View Position                       CS: 'PA'\n",
            "(0020, 000d) Study Instance UID                  UI: 1.2.276.0.7230010.3.1.2.8323329.26024.1517874469.23010\n",
            "(0020, 000e) Series Instance UID                 UI: 1.2.276.0.7230010.3.1.3.8323329.26024.1517874469.23009\n",
            "(0020, 0010) Study ID                            SH: ''\n",
            "(0020, 0011) Series Number                       IS: \"1\"\n",
            "(0020, 0013) Instance Number                     IS: \"1\"\n",
            "(0020, 0020) Patient Orientation                 CS: ''\n",
            "(0028, 0002) Samples per Pixel                   US: 1\n",
            "(0028, 0004) Photometric Interpretation          CS: 'MONOCHROME2'\n",
            "(0028, 0010) Rows                                US: 1024\n",
            "(0028, 0011) Columns                             US: 1024\n",
            "(0028, 0030) Pixel Spacing                       DS: [0.19431099999999998, 0.19431099999999998]\n",
            "(0028, 0100) Bits Allocated                      US: 8\n",
            "(0028, 0101) Bits Stored                         US: 8\n",
            "(0028, 0102) High Bit                            US: 7\n",
            "(0028, 0103) Pixel Representation                US: 0\n",
            "(0028, 2110) Lossy Image Compression             CS: '01'\n",
            "(0028, 2114) Lossy Image Compression Method      CS: 'ISO_10918_1'\n",
            "(7fe0, 0010) Pixel Data                          OB: Array of 111474 elements\n"
          ],
          "name": "stdout"
        }
      ]
    },
    {
      "cell_type": "markdown",
      "metadata": {
        "id": "r6_UivFn--nz",
        "colab_type": "text"
      },
      "source": [
        "**OS module in python provides functions for interacting with the operating system,OS.listdir() method in python is used to get the list of all files and directories in the specified directory**"
      ]
    },
    {
      "cell_type": "code",
      "metadata": {
        "id": "itYWaqU3_BA3",
        "colab_type": "code",
        "colab": {
          "base_uri": "https://localhost:8080/",
          "height": 52
        },
        "outputId": "2ffc7823-e1bd-4ba6-f3ea-1b168c99def4"
      },
      "source": [
        "import os\n",
        "train_images = os.listdir('/content/stage_2_train_images')\n",
        "test_images = os.listdir('/content/stage_2_test_images')\n",
        "\n",
        "print(\"No. of train images:\", len(train_images))\n",
        "print(\"No. of test images:\", len(test_images))"
      ],
      "execution_count": 79,
      "outputs": [
        {
          "output_type": "stream",
          "text": [
            "No. of train images: 26684\n",
            "No. of test images: 3000\n"
          ],
          "name": "stdout"
        }
      ]
    },
    {
      "cell_type": "code",
      "metadata": {
        "id": "FK51AjZQDcPO",
        "colab_type": "code",
        "colab": {}
      },
      "source": [
        "def display_images(data):\n",
        "    img_data = list(data.T.to_dict().values())\n",
        "    #img_data = list(data)\n",
        "    f, ax = plt.subplots(1,3, figsize=(16,18))\n",
        "    for i,data_row in enumerate(img_data):\n",
        "        imageName = data_row['patientId']+'.dcm'\n",
        "        imagePath = os.path.join(\"/content/stage_2_train_images\",imageName)\n",
        "        data_row_img = dcm.dcmread(imagePath)\n",
        "        ax[i%3].imshow(data_row_img.pixel_array, cmap=plt.cm.bone) \n",
        "        ax[i%3].axis('off')\n",
        "        ax[i%3].set_title('ID: {}\\nClass: {}'.format(\n",
        "                data_row['patientId'], data_row['class']))\n",
        "    plt.show()"
      ],
      "execution_count": 0,
      "outputs": []
    }
  ]
}