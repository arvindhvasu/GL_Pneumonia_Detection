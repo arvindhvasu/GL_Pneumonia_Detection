{
  "nbformat": 4,
  "nbformat_minor": 0,
  "metadata": {
    "colab": {
      "name": "Untitled1.ipynb",
      "provenance": [],
      "toc_visible": true
    },
    "kernelspec": {
      "name": "python3",
      "display_name": "Python 3"
    },
    "accelerator": "GPU"
  },
  "cells": [
    {
      "cell_type": "markdown",
      "metadata": {
        "id": "4HDcJ05LXm1S",
        "colab_type": "text"
      },
      "source": [
        "#**SUMMARY**\n",
        "\n",
        "Filename    : model.ipynb   \n",
        "Description : The file contains logic for creating model\n",
        "\n",
        "Below steps were performed for data preparation,   \n",
        "      1.   Building a pneumonia detection model starting from basic CNN and then   improving upon it.   \n",
        "      2.   Train the model     \n",
        "      3.   To deal with large training time, save the weights so that you can use them when training the model for the second time without starting from scratch.   \n",
        "\n",
        "\n",
        "**Revision History**  \n",
        "Date        ||       Description               ||              Author  \n",
        "07-06-2020   ||   Initial logic for model creation   ||   Arvindh     \n",
        "10-06-2020   ||   Model with Unet architecture   ||   Arvindh     \n",
        "13-06-2020   ||   Model Testing - with test images  ||   Arvindh \n",
        "  \n",
        "\n"
      ]
    },
    {
      "cell_type": "markdown",
      "metadata": {
        "id": "yvhRx5MRYiHa",
        "colab_type": "text"
      },
      "source": [
        "#**Import Libraries**"
      ]
    },
    {
      "cell_type": "code",
      "metadata": {
        "id": "VZ4Jfrc8YSc4",
        "colab_type": "code",
        "colab": {}
      },
      "source": [
        "%tensorflow_version 2.x"
      ],
      "execution_count": 1,
      "outputs": []
    },
    {
      "cell_type": "code",
      "metadata": {
        "id": "KHYQn7IXYSy6",
        "colab_type": "code",
        "colab": {
          "base_uri": "https://localhost:8080/",
          "height": 51
        },
        "outputId": "ddf90ae7-08d6-41a3-f5c7-4561f1c120bf"
      },
      "source": [
        "import tensorflow\n",
        "import keras\n",
        "from keras import backend as k\n",
        "print(\"Backend: \" + k.backend() + \" || tensorflow version: \" + tensorflow.__version__)"
      ],
      "execution_count": 2,
      "outputs": [
        {
          "output_type": "stream",
          "text": [
            "Backend: tensorflow || tensorflow version: 2.2.0\n"
          ],
          "name": "stdout"
        },
        {
          "output_type": "stream",
          "text": [
            "Using TensorFlow backend.\n"
          ],
          "name": "stderr"
        }
      ]
    },
    {
      "cell_type": "code",
      "metadata": {
        "id": "Sa5yDwoJYbNy",
        "colab_type": "code",
        "colab": {}
      },
      "source": [
        "import pandas as pd \n",
        "import numpy as np\n",
        "from matplotlib.pyplot import figure, show\n",
        "import os\n",
        "import matplotlib\n",
        "import matplotlib.pyplot as plt\n",
        "import warnings\n",
        "warnings.filterwarnings('ignore')\n"
      ],
      "execution_count": 3,
      "outputs": []
    },
    {
      "cell_type": "code",
      "metadata": {
        "id": "Z85yjH-RZRR3",
        "colab_type": "code",
        "colab": {
          "base_uri": "https://localhost:8080/",
          "height": 34
        },
        "outputId": "b8d7e5dd-90f5-46a1-8a77-6a20028d9fd9"
      },
      "source": [
        "!pip3 install pydicom\n",
        "import pydicom\n",
        "from skimage.transform import resize\n",
        "import pickle\n",
        "import cv2"
      ],
      "execution_count": 4,
      "outputs": [
        {
          "output_type": "stream",
          "text": [
            "Requirement already satisfied: pydicom in /usr/local/lib/python3.6/dist-packages (2.0.0)\n"
          ],
          "name": "stdout"
        }
      ]
    },
    {
      "cell_type": "code",
      "metadata": {
        "id": "bQzsbUTrZX_3",
        "colab_type": "code",
        "colab": {}
      },
      "source": [
        "from keras.optimizers import Adam\n",
        "from keras.callbacks import ModelCheckpoint, EarlyStopping, ReduceLROnPlateau"
      ],
      "execution_count": 5,
      "outputs": []
    },
    {
      "cell_type": "markdown",
      "metadata": {
        "id": "Z4EqYTeKYdSy",
        "colab_type": "text"
      },
      "source": [
        "#Mount Google Drive"
      ]
    },
    {
      "cell_type": "code",
      "metadata": {
        "id": "_3vVLc5MYfrr",
        "colab_type": "code",
        "colab": {
          "base_uri": "https://localhost:8080/",
          "height": 54
        },
        "outputId": "aa6f04ef-3f29-449a-ff32-95b4c60ee78d"
      },
      "source": [
        "from google.colab import drive\n",
        "drive.mount('/content/drive')"
      ],
      "execution_count": 6,
      "outputs": [
        {
          "output_type": "stream",
          "text": [
            "Drive already mounted at /content/drive; to attempt to forcibly remount, call drive.mount(\"/content/drive\", force_remount=True).\n"
          ],
          "name": "stdout"
        }
      ]
    },
    {
      "cell_type": "code",
      "metadata": {
        "id": "_KQZdYfXwxCl",
        "colab_type": "code",
        "colab": {}
      },
      "source": [
        "#Set your project path \n",
        "project_path =  'drive/My Drive/Colab Notebooks/Capstone'"
      ],
      "execution_count": 7,
      "outputs": []
    },
    {
      "cell_type": "code",
      "metadata": {
        "id": "STvaf5Fepc7B",
        "colab_type": "code",
        "colab": {}
      },
      "source": [
        "#changed the project base path\n",
        "os.chdir(project_path)"
      ],
      "execution_count": 8,
      "outputs": []
    },
    {
      "cell_type": "code",
      "metadata": {
        "id": "io6GZGSFYqdR",
        "colab_type": "code",
        "colab": {}
      },
      "source": [
        "#Set your data path \n",
        "train_img_path = 'dataset/stage_2_train_images'\n",
        "valid_img_path = 'dataset/stage_2_train_images'\n",
        "test_img_path = 'dataset/stage_2_test_images'"
      ],
      "execution_count": 9,
      "outputs": []
    },
    {
      "cell_type": "code",
      "metadata": {
        "id": "auaGzcAlaYy8",
        "colab_type": "code",
        "colab": {}
      },
      "source": [
        "train_df_pick = \"train_df_pickle\"\n",
        "valid_df_pick = \"valid_df_pickle\"\n",
        "\n",
        "# we open the file for reading\n",
        "fileObject = open(train_df_pick,'rb')  \n",
        "fileObject1 = open(valid_df_pick,'rb')  \n",
        "\n",
        "# load the object from the file into temp var b\n",
        "train_df = pickle.load(fileObject)  \n",
        "valid_df = pickle.load(fileObject1) "
      ],
      "execution_count": 10,
      "outputs": []
    },
    {
      "cell_type": "code",
      "metadata": {
        "id": "hFWhWGKTi-_7",
        "colab_type": "code",
        "colab": {
          "base_uri": "https://localhost:8080/",
          "height": 51
        },
        "outputId": "b1dbb038-4d1c-4fe6-dffa-462afa11350c"
      },
      "source": [
        "train_patient_Ids = train_df.patientId.unique()\n",
        "print(train_df.shape, 'training data')\n",
        "print(\"The number of unique patient id in the training dataset is \"+ str(train_patient_Ids.shape[0]))"
      ],
      "execution_count": 11,
      "outputs": [
        {
          "output_type": "stream",
          "text": [
            "(24181, 10) training data\n",
            "The number of unique patient id in the training dataset is 21908\n"
          ],
          "name": "stdout"
        }
      ]
    },
    {
      "cell_type": "markdown",
      "metadata": {
        "id": "-zJ0JwpCaUs3",
        "colab_type": "text"
      },
      "source": [
        "Splitted the Validation dataset into Validation and Test dataset with the ratio of 95:5 based on the 'Target' column."
      ]
    },
    {
      "cell_type": "code",
      "metadata": {
        "id": "Q8_KZBZdfg9b",
        "colab_type": "code",
        "colab": {
          "base_uri": "https://localhost:8080/",
          "height": 102
        },
        "outputId": "1a7ee3c0-a5aa-4894-8ea9-b454f0dc8aab"
      },
      "source": [
        "from sklearn.model_selection import train_test_split\n",
        "valid_train_df, valid_test_df = train_test_split(valid_df, test_size=0.05,\n",
        "                                    stratify=valid_df['Target'])\n",
        "valid_train_patient_Ids = valid_train_df.patientId.unique()\n",
        "valid_test_patient_Ids = valid_test_df.patientId.unique()\n",
        "print(valid_train_df.shape, 'validation data')\n",
        "print(\"The number of unique patient id in the validation dataset is \"+ str(valid_train_patient_Ids.shape[0]))\n",
        "print(\"---------------------------------------------------------------------\")\n",
        "print(valid_test_df.shape, 'test data')\n",
        "print(\"The number of unique patient id in the test dataset is \"+ str(valid_test_patient_Ids.shape[0]))"
      ],
      "execution_count": 12,
      "outputs": [
        {
          "output_type": "stream",
          "text": [
            "(5743, 10) validation data\n",
            "The number of unique patient id in the validation dataset is 5624\n",
            "---------------------------------------------------------------------\n",
            "(303, 10) test data\n",
            "The number of unique patient id in the test dataset is 303\n"
          ],
          "name": "stdout"
        }
      ]
    },
    {
      "cell_type": "markdown",
      "metadata": {
        "id": "ZATT1GkQblKx",
        "colab_type": "text"
      },
      "source": [
        "#Custom Data generator"
      ]
    },
    {
      "cell_type": "code",
      "metadata": {
        "id": "2V_4EBVvbjta",
        "colab_type": "code",
        "colab": {}
      },
      "source": [
        "class Generator(keras.utils.Sequence):\n",
        "  def __init__(self, unique_patient_ids, folder, dataframe, batch_size=100, shuffle=False, image_size=256, predict=False):\n",
        "        self.unique_patient_ids = unique_patient_ids\n",
        "        self.folder = folder\n",
        "        self.dataframe = dataframe\n",
        "        self.batch_size = batch_size\n",
        "        self.shuffle = shuffle\n",
        "        self.image_size = image_size\n",
        "        self.predict = predict\n",
        "        self.on_epoch_end()\n",
        "   \n",
        "  def __load__(self, pat_id):\n",
        "        patIdWithExt = pat_id+'.dcm'\n",
        "        # load dicom file from pixel array\n",
        "        img = pydicom.dcmread(os.path.join(self.folder, patIdWithExt)).pixel_array\n",
        "        # create empty array\n",
        "        msk = np.zeros(img.shape) \n",
        "        \n",
        "        if pat_id in self.dataframe[\"patientId\"].values:\n",
        "            pat_info = self.dataframe[self.dataframe.patientId == pat_id]\n",
        "\n",
        "            # loop through patient rows in the df\n",
        "            for info in pat_info.iterrows():\n",
        "                row = info[1]\n",
        "                if row.Target == 1:\n",
        "                    x = int(row.x)\n",
        "                    y = int(row.y)\n",
        "                    msk[y: int(row.y) + int(row.height), x: int(row.x) + int(row.width)] = 1 \n",
        "      \n",
        "        img = cv2.resize(img, (self.image_size, self.image_size))\n",
        "        msk = cv2.resize(msk, (self.image_size, self.image_size))\n",
        "        img = np.expand_dims(img, -1)\n",
        "        msk = np.expand_dims(msk, -1)   \n",
        "\n",
        "        #img2 = np.concatenate((img,)*3, axis=-1) \n",
        "        #msk2 = np.concatenate((msk,)*3, axis=-1)\n",
        "        return img, msk\n",
        "\n",
        "  def __loadpredict__(self, pat_id):\n",
        "        patIdWithExt = pat_id+'.dcm'\n",
        "        # load dicom file from pixel array\n",
        "        img = pydicom.dcmread(os.path.join(self.folder, patIdWithExt)).pixel_array\n",
        "        # resize image\n",
        "        img = resize(img, (self.image_size, self.image_size), mode='reflect')\n",
        "        # add trailing channel dimension\n",
        "        img = np.expand_dims(img, -1)\n",
        "        return img\n",
        "\n",
        "  def __getitem__(self, index):\n",
        "        # select pat_ids by batches\n",
        "        batch_pat_ids = self.unique_patient_ids[index*self.batch_size : (index+1)*self.batch_size]\n",
        "\n",
        "        if self.predict:\n",
        "            # load files\n",
        "            imgs = [self.__loadpredict__(pat_id_row) for pat_id_row in batch_pat_ids]\n",
        "            # create numpy batch\n",
        "            imgs = np.array(imgs)\n",
        "            return imgs, batch_pat_ids\n",
        "        else:    \n",
        "            # load pat ids by loop\n",
        "            items = [self.__load__(pat_id_row) for pat_id_row in batch_pat_ids]\n",
        "            imgs, msks = zip(*items)\n",
        "\n",
        "            # create numpy batch\n",
        "            imgs = np.array(imgs)\n",
        "            msks = np.array(msks)\n",
        "        return imgs, msks\n",
        "\n",
        "  def __len__(self):\n",
        "        if self.predict:\n",
        "            return int(np.ceil(len(self.unique_patient_ids) / self.batch_size))\n",
        "        else:\n",
        "            # __len__ provides number of batches per epoch\n",
        "            return int(np.floor(self.unique_patient_ids.shape[0] / self.batch_size))\n",
        "\n",
        "  def on_epoch_end(self):\n",
        "        if self.predict:\n",
        "            self.indexes = np.arange(len(self.unique_patient_ids))\n",
        "        else:\n",
        "            self.indexes = np.arange(self.unique_patient_ids.shape[0])\n",
        "        if self.shuffle == True:\n",
        "              np.random.shuffle(self.indexes)"
      ],
      "execution_count": 13,
      "outputs": []
    },
    {
      "cell_type": "code",
      "metadata": {
        "id": "X7E84XVugHvT",
        "colab_type": "code",
        "colab": {}
      },
      "source": [
        "BATCH_SIZE = 64"
      ],
      "execution_count": 14,
      "outputs": []
    },
    {
      "cell_type": "code",
      "metadata": {
        "id": "CIElaIRStJWY",
        "colab_type": "code",
        "colab": {}
      },
      "source": [
        "train_gen = Generator(train_patient_Ids, train_img_path, train_df, batch_size=BATCH_SIZE, image_size=256)\n",
        "valid_gen = Generator(valid_train_patient_Ids, valid_img_path, valid_train_df, batch_size=BATCH_SIZE, image_size=256)"
      ],
      "execution_count": 15,
      "outputs": []
    },
    {
      "cell_type": "markdown",
      "metadata": {
        "id": "kL8txzZKauKJ",
        "colab_type": "text"
      },
      "source": [
        "#**Model Building**"
      ]
    },
    {
      "cell_type": "code",
      "metadata": {
        "id": "AmIpVBzOrDYW",
        "colab_type": "code",
        "colab": {}
      },
      "source": [
        "def create_downsample(filters, inputs):\n",
        "    x = keras.layers.BatchNormalization(momentum=0.9)(inputs)\n",
        "    x = keras.layers.LeakyReLU(0)(x)\n",
        "    x = keras.layers.Conv2D(filters, 3, padding='same', use_bias=False)(x)\n",
        "    x = keras.layers.MaxPool2D(2)(x)\n",
        "    return x\n",
        "\n",
        "def create_resblock(filters, inputs):  #create residual block\n",
        "  x = keras.layers.BatchNormalization(momentum = 0.9)(inputs)\n",
        "  x = keras.layers.LeakyReLU(0)(x)\n",
        "  x = keras.layers.Conv2D(filters, 3, padding = 'same', use_bias = False)(x)\n",
        "  x = keras.layers.BatchNormalization(momentum = 0.9)(x)\n",
        "  x = keras.layers.LeakyReLU(0)(x)\n",
        "  x = keras.layers.Conv2D(filters, 3, padding = 'same', use_bias = False)(x)\n",
        "  return keras.layers.add([x, inputs])\n",
        "\n",
        "def create_cnn_model(input_size, n_blocks = 1, depth = 4):\n",
        "  inputs = keras.Input(shape=(input_size, input_size, 1))\n",
        "  x = keras.layers.Conv2D(32, 3, padding='same', use_bias=False)(inputs)\n",
        "\n",
        "  filters = 32\n",
        "  for d in range(depth):\n",
        "        filters = filters * 2\n",
        "        x = create_downsample(filters, x)\n",
        "        for b in range(n_blocks):\n",
        "              x = create_resblock(filters, x)\n",
        "  \n",
        "  x = keras.layers.BatchNormalization(momentum=0.9)(x)\n",
        "  x = keras.layers.LeakyReLU(0)(x)\n",
        "  x = keras.layers.Conv2D(1, 1, activation='sigmoid')(x)\n",
        "  outputs = keras.layers.UpSampling2D(2**depth)(x)\n",
        "  model = keras.Model(inputs=inputs, outputs=outputs)\n",
        "  return model"
      ],
      "execution_count": 16,
      "outputs": []
    },
    {
      "cell_type": "code",
      "metadata": {
        "id": "KlFhqvjFugKI",
        "colab_type": "code",
        "colab": {
          "base_uri": "https://localhost:8080/",
          "height": 1000
        },
        "outputId": "3147c5c0-ffdf-44e1-a32e-e9d12259fafb"
      },
      "source": [
        "model = create_cnn_model(input_size=256)\n",
        "model.compile(optimizer=\"SGD\", loss='binary_crossentropy',\n",
        "              metrics=['accuracy', tensorflow.keras.metrics.MeanIoU(num_classes=2)])\n",
        "\n",
        "checkpoint = ModelCheckpoint(\"model_Unet_1.h5\", monitor=\"val_loss\", verbose=1,\n",
        "                             mode=\"auto\", period=1)\n",
        "stop = EarlyStopping(monitor=\"val_loss\", patience=10, mode=\"auto\")\n",
        "reduce_lr = ReduceLROnPlateau(monitor=\"val_loss\", factor=0.2, patience=5, min_lr=1e-6, verbose=1, mode=\"auto\")\n",
        "model.summary()"
      ],
      "execution_count": 20,
      "outputs": [
        {
          "output_type": "stream",
          "text": [
            "Model: \"model_3\"\n",
            "__________________________________________________________________________________________________\n",
            "Layer (type)                    Output Shape         Param #     Connected to                     \n",
            "==================================================================================================\n",
            "input_3 (InputLayer)            (None, 256, 256, 1)  0                                            \n",
            "__________________________________________________________________________________________________\n",
            "conv2d_29 (Conv2D)              (None, 256, 256, 32) 288         input_3[0][0]                    \n",
            "__________________________________________________________________________________________________\n",
            "batch_normalization_27 (BatchNo (None, 256, 256, 32) 128         conv2d_29[0][0]                  \n",
            "__________________________________________________________________________________________________\n",
            "leaky_re_lu_27 (LeakyReLU)      (None, 256, 256, 32) 0           batch_normalization_27[0][0]     \n",
            "__________________________________________________________________________________________________\n",
            "conv2d_30 (Conv2D)              (None, 256, 256, 64) 18432       leaky_re_lu_27[0][0]             \n",
            "__________________________________________________________________________________________________\n",
            "max_pooling2d_9 (MaxPooling2D)  (None, 128, 128, 64) 0           conv2d_30[0][0]                  \n",
            "__________________________________________________________________________________________________\n",
            "batch_normalization_28 (BatchNo (None, 128, 128, 64) 256         max_pooling2d_9[0][0]            \n",
            "__________________________________________________________________________________________________\n",
            "leaky_re_lu_28 (LeakyReLU)      (None, 128, 128, 64) 0           batch_normalization_28[0][0]     \n",
            "__________________________________________________________________________________________________\n",
            "conv2d_31 (Conv2D)              (None, 128, 128, 64) 36864       leaky_re_lu_28[0][0]             \n",
            "__________________________________________________________________________________________________\n",
            "batch_normalization_29 (BatchNo (None, 128, 128, 64) 256         conv2d_31[0][0]                  \n",
            "__________________________________________________________________________________________________\n",
            "leaky_re_lu_29 (LeakyReLU)      (None, 128, 128, 64) 0           batch_normalization_29[0][0]     \n",
            "__________________________________________________________________________________________________\n",
            "conv2d_32 (Conv2D)              (None, 128, 128, 64) 36864       leaky_re_lu_29[0][0]             \n",
            "__________________________________________________________________________________________________\n",
            "add_9 (Add)                     (None, 128, 128, 64) 0           conv2d_32[0][0]                  \n",
            "                                                                 max_pooling2d_9[0][0]            \n",
            "__________________________________________________________________________________________________\n",
            "batch_normalization_30 (BatchNo (None, 128, 128, 64) 256         add_9[0][0]                      \n",
            "__________________________________________________________________________________________________\n",
            "leaky_re_lu_30 (LeakyReLU)      (None, 128, 128, 64) 0           batch_normalization_30[0][0]     \n",
            "__________________________________________________________________________________________________\n",
            "conv2d_33 (Conv2D)              (None, 128, 128, 128 73728       leaky_re_lu_30[0][0]             \n",
            "__________________________________________________________________________________________________\n",
            "max_pooling2d_10 (MaxPooling2D) (None, 64, 64, 128)  0           conv2d_33[0][0]                  \n",
            "__________________________________________________________________________________________________\n",
            "batch_normalization_31 (BatchNo (None, 64, 64, 128)  512         max_pooling2d_10[0][0]           \n",
            "__________________________________________________________________________________________________\n",
            "leaky_re_lu_31 (LeakyReLU)      (None, 64, 64, 128)  0           batch_normalization_31[0][0]     \n",
            "__________________________________________________________________________________________________\n",
            "conv2d_34 (Conv2D)              (None, 64, 64, 128)  147456      leaky_re_lu_31[0][0]             \n",
            "__________________________________________________________________________________________________\n",
            "batch_normalization_32 (BatchNo (None, 64, 64, 128)  512         conv2d_34[0][0]                  \n",
            "__________________________________________________________________________________________________\n",
            "leaky_re_lu_32 (LeakyReLU)      (None, 64, 64, 128)  0           batch_normalization_32[0][0]     \n",
            "__________________________________________________________________________________________________\n",
            "conv2d_35 (Conv2D)              (None, 64, 64, 128)  147456      leaky_re_lu_32[0][0]             \n",
            "__________________________________________________________________________________________________\n",
            "add_10 (Add)                    (None, 64, 64, 128)  0           conv2d_35[0][0]                  \n",
            "                                                                 max_pooling2d_10[0][0]           \n",
            "__________________________________________________________________________________________________\n",
            "batch_normalization_33 (BatchNo (None, 64, 64, 128)  512         add_10[0][0]                     \n",
            "__________________________________________________________________________________________________\n",
            "leaky_re_lu_33 (LeakyReLU)      (None, 64, 64, 128)  0           batch_normalization_33[0][0]     \n",
            "__________________________________________________________________________________________________\n",
            "conv2d_36 (Conv2D)              (None, 64, 64, 256)  294912      leaky_re_lu_33[0][0]             \n",
            "__________________________________________________________________________________________________\n",
            "max_pooling2d_11 (MaxPooling2D) (None, 32, 32, 256)  0           conv2d_36[0][0]                  \n",
            "__________________________________________________________________________________________________\n",
            "batch_normalization_34 (BatchNo (None, 32, 32, 256)  1024        max_pooling2d_11[0][0]           \n",
            "__________________________________________________________________________________________________\n",
            "leaky_re_lu_34 (LeakyReLU)      (None, 32, 32, 256)  0           batch_normalization_34[0][0]     \n",
            "__________________________________________________________________________________________________\n",
            "conv2d_37 (Conv2D)              (None, 32, 32, 256)  589824      leaky_re_lu_34[0][0]             \n",
            "__________________________________________________________________________________________________\n",
            "batch_normalization_35 (BatchNo (None, 32, 32, 256)  1024        conv2d_37[0][0]                  \n",
            "__________________________________________________________________________________________________\n",
            "leaky_re_lu_35 (LeakyReLU)      (None, 32, 32, 256)  0           batch_normalization_35[0][0]     \n",
            "__________________________________________________________________________________________________\n",
            "conv2d_38 (Conv2D)              (None, 32, 32, 256)  589824      leaky_re_lu_35[0][0]             \n",
            "__________________________________________________________________________________________________\n",
            "add_11 (Add)                    (None, 32, 32, 256)  0           conv2d_38[0][0]                  \n",
            "                                                                 max_pooling2d_11[0][0]           \n",
            "__________________________________________________________________________________________________\n",
            "batch_normalization_36 (BatchNo (None, 32, 32, 256)  1024        add_11[0][0]                     \n",
            "__________________________________________________________________________________________________\n",
            "leaky_re_lu_36 (LeakyReLU)      (None, 32, 32, 256)  0           batch_normalization_36[0][0]     \n",
            "__________________________________________________________________________________________________\n",
            "conv2d_39 (Conv2D)              (None, 32, 32, 512)  1179648     leaky_re_lu_36[0][0]             \n",
            "__________________________________________________________________________________________________\n",
            "max_pooling2d_12 (MaxPooling2D) (None, 16, 16, 512)  0           conv2d_39[0][0]                  \n",
            "__________________________________________________________________________________________________\n",
            "batch_normalization_37 (BatchNo (None, 16, 16, 512)  2048        max_pooling2d_12[0][0]           \n",
            "__________________________________________________________________________________________________\n",
            "leaky_re_lu_37 (LeakyReLU)      (None, 16, 16, 512)  0           batch_normalization_37[0][0]     \n",
            "__________________________________________________________________________________________________\n",
            "conv2d_40 (Conv2D)              (None, 16, 16, 512)  2359296     leaky_re_lu_37[0][0]             \n",
            "__________________________________________________________________________________________________\n",
            "batch_normalization_38 (BatchNo (None, 16, 16, 512)  2048        conv2d_40[0][0]                  \n",
            "__________________________________________________________________________________________________\n",
            "leaky_re_lu_38 (LeakyReLU)      (None, 16, 16, 512)  0           batch_normalization_38[0][0]     \n",
            "__________________________________________________________________________________________________\n",
            "conv2d_41 (Conv2D)              (None, 16, 16, 512)  2359296     leaky_re_lu_38[0][0]             \n",
            "__________________________________________________________________________________________________\n",
            "add_12 (Add)                    (None, 16, 16, 512)  0           conv2d_41[0][0]                  \n",
            "                                                                 max_pooling2d_12[0][0]           \n",
            "__________________________________________________________________________________________________\n",
            "batch_normalization_39 (BatchNo (None, 16, 16, 512)  2048        add_12[0][0]                     \n",
            "__________________________________________________________________________________________________\n",
            "leaky_re_lu_39 (LeakyReLU)      (None, 16, 16, 512)  0           batch_normalization_39[0][0]     \n",
            "__________________________________________________________________________________________________\n",
            "conv2d_42 (Conv2D)              (None, 16, 16, 1)    513         leaky_re_lu_39[0][0]             \n",
            "__________________________________________________________________________________________________\n",
            "up_sampling2d_3 (UpSampling2D)  (None, 256, 256, 1)  0           conv2d_42[0][0]                  \n",
            "==================================================================================================\n",
            "Total params: 7,846,049\n",
            "Trainable params: 7,840,225\n",
            "Non-trainable params: 5,824\n",
            "__________________________________________________________________________________________________\n"
          ],
          "name": "stdout"
        }
      ]
    },
    {
      "cell_type": "code",
      "metadata": {
        "id": "5yALWJUJo3rj",
        "colab_type": "code",
        "colab": {
          "base_uri": "https://localhost:8080/",
          "height": 751
        },
        "outputId": "0ed91e9a-55d4-4373-90ba-f6aa2fe5928a"
      },
      "source": [
        "history = model.fit_generator(train_gen, \n",
        "                              validation_data=valid_gen, \n",
        "                              callbacks=[checkpoint, reduce_lr, stop],\n",
        "                              epochs=10, \n",
        "                              workers=13, \n",
        "                              steps_per_epoch=len(train_gen),\n",
        "                              validation_steps= len(valid_gen)//BATCH_SIZE,\n",
        "                              use_multiprocessing=True)"
      ],
      "execution_count": 21,
      "outputs": [
        {
          "output_type": "stream",
          "text": [
            "Epoch 1/10\n",
            "342/342 [==============================] - 786s 2s/step - loss: 0.1128 - accuracy: 0.9717 - mean_io_u_2: 0.4875 - val_loss: 0.0778 - val_accuracy: 0.9778 - val_mean_io_u_2: 0.4872\n",
            "\n",
            "Epoch 00001: saving model to model_Unet_1.h5\n",
            "Epoch 2/10\n",
            "342/342 [==============================] - 751s 2s/step - loss: 0.0849 - accuracy: 0.9741 - mean_io_u_2: 0.4873 - val_loss: 0.0699 - val_accuracy: 0.9796 - val_mean_io_u_2: 0.4872\n",
            "\n",
            "Epoch 00002: saving model to model_Unet_1.h5\n",
            "Epoch 3/10\n",
            "342/342 [==============================] - 754s 2s/step - loss: 0.0814 - accuracy: 0.9742 - mean_io_u_2: 0.4872 - val_loss: 0.0917 - val_accuracy: 0.9677 - val_mean_io_u_2: 0.4872\n",
            "\n",
            "Epoch 00003: saving model to model_Unet_1.h5\n",
            "Epoch 4/10\n",
            "342/342 [==============================] - 757s 2s/step - loss: 0.0796 - accuracy: 0.9743 - mean_io_u_2: 0.4872 - val_loss: 0.0962 - val_accuracy: 0.9680 - val_mean_io_u_2: 0.4872\n",
            "\n",
            "Epoch 00004: saving model to model_Unet_1.h5\n",
            "Epoch 5/10\n",
            "342/342 [==============================] - 755s 2s/step - loss: 0.0782 - accuracy: 0.9744 - mean_io_u_2: 0.4872 - val_loss: 0.0803 - val_accuracy: 0.9683 - val_mean_io_u_2: 0.4872\n",
            "\n",
            "Epoch 00005: saving model to model_Unet_1.h5\n",
            "Epoch 6/10\n",
            "342/342 [==============================] - 757s 2s/step - loss: 0.0770 - accuracy: 0.9746 - mean_io_u_2: 0.4872 - val_loss: 0.0754 - val_accuracy: 0.9746 - val_mean_io_u_2: 0.4872\n",
            "\n",
            "Epoch 00006: saving model to model_Unet_1.h5\n",
            "Epoch 7/10\n",
            "342/342 [==============================] - 757s 2s/step - loss: 0.0762 - accuracy: 0.9747 - mean_io_u_2: 0.4872 - val_loss: 0.0879 - val_accuracy: 0.9717 - val_mean_io_u_2: 0.4872\n",
            "\n",
            "Epoch 00007: saving model to model_Unet_1.h5\n",
            "\n",
            "Epoch 00007: ReduceLROnPlateau reducing learning rate to 0.0019999999552965165.\n",
            "Epoch 8/10\n",
            "342/342 [==============================] - 756s 2s/step - loss: 0.0748 - accuracy: 0.9748 - mean_io_u_2: 0.4872 - val_loss: 0.0545 - val_accuracy: 0.9846 - val_mean_io_u_2: 0.4872\n",
            "\n",
            "Epoch 00008: saving model to model_Unet_1.h5\n",
            "Epoch 9/10\n",
            "342/342 [==============================] - 756s 2s/step - loss: 0.0746 - accuracy: 0.9748 - mean_io_u_2: 0.4872 - val_loss: 0.1033 - val_accuracy: 0.9622 - val_mean_io_u_2: 0.4872\n",
            "\n",
            "Epoch 00009: saving model to model_Unet_1.h5\n",
            "Epoch 10/10\n",
            "342/342 [==============================] - 755s 2s/step - loss: 0.0744 - accuracy: 0.9749 - mean_io_u_2: 0.4872 - val_loss: 0.0930 - val_accuracy: 0.9656 - val_mean_io_u_2: 0.4872\n",
            "\n",
            "Epoch 00010: saving model to model_Unet_1.h5\n"
          ],
          "name": "stdout"
        }
      ]
    },
    {
      "cell_type": "markdown",
      "metadata": {
        "id": "hD1SNqKra2F-",
        "colab_type": "text"
      },
      "source": [
        "#**Note** The model with UNet architecture has given good accuracy in the training and validation dataset.\n",
        "Training - Accuracy: 97%, Loss: 6%   \n",
        "Validation - Accuracy: 97%, Loss: 5%\n",
        "\n",
        "The IOU value metric is around 48% in both Validation and Training dataset, which is considerably low, need to be increased with the performance tuning."
      ]
    },
    {
      "cell_type": "code",
      "metadata": {
        "id": "jdP8GHAd_T8G",
        "colab_type": "code",
        "colab": {
          "base_uri": "https://localhost:8080/",
          "height": 265
        },
        "outputId": "f8b32328-3894-4262-b20c-6027428d19de"
      },
      "source": [
        "plt.figure(figsize=(12,4))\n",
        "plt.subplot(131)\n",
        "plt.plot(history.epoch, history.history[\"loss\"], label=\"Train loss\")\n",
        "plt.plot(history.epoch, history.history[\"val_loss\"], label=\"Valid loss\")\n",
        "plt.legend()\n",
        "plt.subplot(132)\n",
        "plt.plot(history.epoch, history.history[\"accuracy\"], label=\"Train accuracy\")\n",
        "plt.plot(history.epoch, history.history[\"val_accuracy\"], label=\"Valid accuracy\")\n",
        "plt.legend()\n",
        "plt.show()"
      ],
      "execution_count": 22,
      "outputs": [
        {
          "output_type": "display_data",
          "data": {
            "image/png": "[encoded data removed]",
            "text/plain": [
              "<Figure size 864x288 with 2 Axes>"
            ]
          },
          "metadata": {
            "tags": [],
            "needs_background": "light"
          }
        }
      ]
    },
    {
      "cell_type": "markdown",
      "metadata": {
        "id": "eFTlV9Rra1yy",
        "colab_type": "text"
      },
      "source": [
        "#**Model Testing**"
      ]
    },
    {
      "cell_type": "markdown",
      "metadata": {
        "id": "nz8_BQpCb6la",
        "colab_type": "text"
      },
      "source": [
        "**Note** The Model has been tested for few test samples for to see the model predictions and compare with the model training."
      ]
    },
    {
      "cell_type": "code",
      "metadata": {
        "id": "XbUiWPJ4OWzl",
        "colab_type": "code",
        "colab": {}
      },
      "source": [
        "valid_test_samples = valid_test_df[valid_test_df.Target == 1].patientId.unique()"
      ],
      "execution_count": 31,
      "outputs": []
    },
    {
      "cell_type": "code",
      "metadata": {
        "id": "D1tBXnRRQ-9F",
        "colab_type": "code",
        "colab": {}
      },
      "source": [
        "test_gen = Generator(valid_test_samples[:10], valid_img_path, valid_test_df, batch_size=1, image_size=256, predict=False)"
      ],
      "execution_count": 33,
      "outputs": []
    },
    {
      "cell_type": "code",
      "metadata": {
        "id": "cgLeXWa01M8A",
        "colab_type": "code",
        "colab": {
          "base_uri": "https://localhost:8080/",
          "height": 34
        },
        "outputId": "05b6be9e-7130-4f07-87e0-32a2f52d56ed"
      },
      "source": [
        "sample_df=valid_test_patient_Ids[:10]\n",
        "sample_df[0:1]"
      ],
      "execution_count": 28,
      "outputs": [
        {
          "output_type": "execute_result",
          "data": {
            "text/plain": [
              "array(['f2ed2022-f1e9-499f-b1a2-549d4090c9e4'], dtype=object)"
            ]
          },
          "metadata": {
            "tags": []
          },
          "execution_count": 28
        }
      ]
    },
    {
      "cell_type": "code",
      "metadata": {
        "id": "OB-OdSWHoMbQ",
        "colab_type": "code",
        "colab": {}
      },
      "source": [
        "## Dataset for prediction\n",
        "x, y = test_gen.__getitem__(2)\n",
        "result = model.predict(x)"
      ],
      "execution_count": 36,
      "outputs": []
    },
    {
      "cell_type": "code",
      "metadata": {
        "id": "KvfRoBEWoZMB",
        "colab_type": "code",
        "colab": {
          "base_uri": "https://localhost:8080/",
          "height": 157
        },
        "outputId": "13808d03-7db1-4e81-9dbe-16380796049d"
      },
      "source": [
        "fig = plt.figure()\n",
        "fig.subplots_adjust(hspace=0.4, wspace=0.4)\n",
        "\n",
        "ax = fig.add_subplot(1, 3, 1)\n",
        "ax.imshow(np.reshape(x[0], (256, 256)), cmap=\"gray\")\n",
        "ax = fig.add_subplot(1, 3, 2)\n",
        "ax.imshow(np.reshape(y[0], (256, 256)), cmap=\"gray\")\n",
        "ax = fig.add_subplot(1, 3, 3)\n",
        "ax.imshow(np.reshape(result[0], (256, 256)), cmap=\"gray\")"
      ],
      "execution_count": 37,
      "outputs": [
        {
          "output_type": "execute_result",
          "data": {
            "text/plain": [
              "<matplotlib.image.AxesImage at 0x7fb6fefcd2e8>"
            ]
          },
          "metadata": {
            "tags": []
          },
          "execution_count": 37
        },
        {
          "output_type": "display_data",
          "data": {
            "image/png": "[encoded data removed]",
            "text/plain": [
              "<Figure size 432x288 with 3 Axes>"
            ]
          },
          "metadata": {
            "tags": [],
            "needs_background": "light"
          }
        }
      ]
    },
    {
      "cell_type": "code",
      "metadata": {
        "id": "VumcEVzITTTv",
        "colab_type": "code",
        "colab": {
          "base_uri": "https://localhost:8080/",
          "height": 632
        },
        "outputId": "807506da-af8d-4f74-c017-cfffeb0eefe1"
      },
      "source": [
        "i=1\n",
        "for info in valid_test_samples[:5]:\n",
        "      x, y = test_gen.__getitem__(i)\n",
        "      result = model.predict(x)\n",
        "      fig = plt.figure()\n",
        "      fig.subplots_adjust(hspace=0.4, wspace=0.4)\n",
        "\n",
        "      ax = fig.add_subplot(1, 3, 1)\n",
        "      ax.imshow(np.reshape(x[0], (256, 256)), cmap=\"gray\")\n",
        "      ax = fig.add_subplot(1, 3, 2)\n",
        "      ax.imshow(np.reshape(y[0], (256, 256)), cmap=\"gray\")\n",
        "      ax = fig.add_subplot(1, 3, 3)\n",
        "      ax.imshow(np.reshape(result[0], (256, 256)), cmap=\"gray\")\n",
        "\n",
        "      i = i+1"
      ],
      "execution_count": 48,
      "outputs": [
        {
          "output_type": "display_data",
          "data": {
            "image/png": "[encoded data removed]",
            "text/plain": [
              "<Figure size 432x288 with 3 Axes>"
            ]
          },
          "metadata": {
            "tags": [],
            "needs_background": "light"
          }
        },
        {
          "output_type": "display_data",
          "data": {
            "image/png": "[encoded data removed]",
            "text/plain": [
              "<Figure size 432x288 with 3 Axes>"
            ]
          },
          "metadata": {
            "tags": [],
            "needs_background": "light"
          }
        },
        {
          "output_type": "display_data",
          "data": {
            "image/png": "[encoded data removed]",
            "text/plain": [
              "<Figure size 432x288 with 3 Axes>"
            ]
          },
          "metadata": {
            "tags": [],
            "needs_background": "light"
          }
        },
        {
          "output_type": "display_data",
          "data": {
            "image/png": "[encoded data removed]",
            "text/plain": [
              "<Figure size 432x288 with 3 Axes>"
            ]
          },
          "metadata": {
            "tags": [],
            "needs_background": "light"
          }
        },
        {
          "output_type": "display_data",
          "data": {
            "image/png": "[encoded data removed]",
            "text/plain": [
              "<Figure size 432x288 with 3 Axes>"
            ]
          },
          "metadata": {
            "tags": [],
            "needs_background": "light"
          }
        }
      ]
    }
  ]
}