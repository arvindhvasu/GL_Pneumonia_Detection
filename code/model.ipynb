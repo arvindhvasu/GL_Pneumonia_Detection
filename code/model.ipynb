{
  "nbformat": 4,
  "nbformat_minor": 0,
  "metadata": {
    "colab": {
      "name": "Untitled1.ipynb",
      "provenance": []
    },
    "kernelspec": {
      "name": "python3",
      "display_name": "Python 3"
    }
  },
  "cells": [
    {
      "cell_type": "markdown",
      "metadata": {
        "id": "4HDcJ05LXm1S",
        "colab_type": "text"
      },
      "source": [
        "#**SUMMARY**\n",
        "\n",
        "Filename    : model.ipynb   \n",
        "Description : The file contains logic for creating model\n",
        "\n",
        "Below steps were performed for data preparation,   \n",
        "      1.   Building a pneumonia detection model starting from basic CNN and then   improving upon it.   \n",
        "      2.   Train the model     \n",
        "      3.   To deal with large training time, save the weights so that you can use them when training the model for the second time without starting from scratch.   \n",
        "\n",
        "\n",
        "**Revision History**  \n",
        "Date        ||       Description               ||              Author  \n",
        "07-06-2020   ||   Initial logic for model creation   ||   Arvindh   \n",
        "  \n",
        "\n"
      ]
    },
    {
      "cell_type": "markdown",
      "metadata": {
        "id": "yvhRx5MRYiHa",
        "colab_type": "text"
      },
      "source": [
        "#**Import Libraries**"
      ]
    },
    {
      "cell_type": "code",
      "metadata": {
        "id": "VZ4Jfrc8YSc4",
        "colab_type": "code",
        "colab": {}
      },
      "source": [
        "%tensorflow_version 2.x"
      ],
      "execution_count": 0,
      "outputs": []
    },
    {
      "cell_type": "code",
      "metadata": {
        "id": "KHYQn7IXYSy6",
        "colab_type": "code",
        "outputId": "17ab1fe3-e0cd-44af-b85c-e6830082e8f2",
        "colab": {
          "base_uri": "https://localhost:8080/",
          "height": 34
        }
      },
      "source": [
        "import tensorflow\n",
        "tensorflow.__version__"
      ],
      "execution_count": 2,
      "outputs": [
        {
          "output_type": "execute_result",
          "data": {
            "text/plain": [
              "'2.2.0'"
            ]
          },
          "metadata": {
            "tags": []
          },
          "execution_count": 2
        }
      ]
    },
    {
      "cell_type": "code",
      "metadata": {
        "id": "Sa5yDwoJYbNy",
        "colab_type": "code",
        "outputId": "ea368297-f2f9-4792-df7e-34ae8d95f11b",
        "colab": {
          "base_uri": "https://localhost:8080/",
          "height": 71
        }
      },
      "source": [
        "import pandas as pd \n",
        "import numpy as np\n",
        "from seaborn import countplot\n",
        "from matplotlib.pyplot import figure, show\n",
        "import os\n",
        "import matplotlib\n",
        "import matplotlib.pyplot as plt\n",
        "from matplotlib.patches import Rectangle\n",
        "import seaborn as sns"
      ],
      "execution_count": 3,
      "outputs": [
        {
          "output_type": "stream",
          "text": [
            "/usr/local/lib/python3.6/dist-packages/statsmodels/tools/_testing.py:19: FutureWarning: pandas.util.testing is deprecated. Use the functions in the public API at pandas.testing instead.\n",
            "  import pandas.util.testing as tm\n"
          ],
          "name": "stderr"
        }
      ]
    },
    {
      "cell_type": "code",
      "metadata": {
        "id": "Z85yjH-RZRR3",
        "colab_type": "code",
        "outputId": "546af3df-514d-469b-d2f3-dc8d0c04775c",
        "colab": {
          "base_uri": "https://localhost:8080/",
          "height": 139
        }
      },
      "source": [
        "!pip3 install pydicom\n",
        "import pydicom\n",
        "import os\n",
        "from skimage.transform import resize\n",
        "import keras\n",
        "import pandas as pd\n",
        "import pickle\n",
        "import cv2"
      ],
      "execution_count": 4,
      "outputs": [
        {
          "output_type": "stream",
          "text": [
            "Collecting pydicom\n",
            "\u001b[?25l  Downloading https://files.pythonhosted.org/packages/d3/56/342e1f8ce5afe63bf65c23d0b2c1cd5a05600caad1c211c39725d3a4cc56/pydicom-2.0.0-py3-none-any.whl (35.4MB)\n",
            "\u001b[K     |████████████████████████████████| 35.5MB 1.3MB/s \n",
            "\u001b[?25hInstalling collected packages: pydicom\n",
            "Successfully installed pydicom-2.0.0\n"
          ],
          "name": "stdout"
        },
        {
          "output_type": "stream",
          "text": [
            "Using TensorFlow backend.\n"
          ],
          "name": "stderr"
        }
      ]
    },
    {
      "cell_type": "code",
      "metadata": {
        "id": "bQzsbUTrZX_3",
        "colab_type": "code",
        "colab": {}
      },
      "source": [
        "from keras.optimizers import Adam\n",
        "from keras.callbacks import ModelCheckpoint, EarlyStopping, ReduceLROnPlateau"
      ],
      "execution_count": 0,
      "outputs": []
    },
    {
      "cell_type": "markdown",
      "metadata": {
        "id": "Z4EqYTeKYdSy",
        "colab_type": "text"
      },
      "source": [
        "#Mount Google Drive"
      ]
    },
    {
      "cell_type": "code",
      "metadata": {
        "id": "_3vVLc5MYfrr",
        "colab_type": "code",
        "outputId": "c4420bca-2653-4f8f-ec80-f98b5c306d5a",
        "colab": {
          "base_uri": "https://localhost:8080/",
          "height": 34
        }
      },
      "source": [
        "from google.colab import drive\n",
        "drive.mount('/content/drive')"
      ],
      "execution_count": 19,
      "outputs": [
        {
          "output_type": "stream",
          "text": [
            "Drive already mounted at /content/drive; to attempt to forcibly remount, call drive.mount(\"/content/drive\", force_remount=True).\n"
          ],
          "name": "stdout"
        }
      ]
    },
    {
      "cell_type": "code",
      "metadata": {
        "id": "io6GZGSFYqdR",
        "colab_type": "code",
        "colab": {}
      },
      "source": [
        "#Set your project path \n",
        "project_path =  'drive/My Drive/Colab Notebooks/Capstone'\n",
        "train_img_path = 'drive/My Drive/Colab Notebooks/Capstone/dataset/stage_2_train_images'\n",
        "valid_img_path = 'drive/My Drive/Colab Notebooks/Capstone/dataset/stage_2_train_images'\n",
        "test_img_path = 'drive/My Drive/Colab Notebooks/Capstone/dataset/stage_2_test_images'"
      ],
      "execution_count": 0,
      "outputs": []
    },
    {
      "cell_type": "code",
      "metadata": {
        "id": "auaGzcAlaYy8",
        "colab_type": "code",
        "colab": {}
      },
      "source": [
        "train_df_pick = \"/train_df_pickle\"\n",
        "valid_df_pick = \"/valid_df_pickle\"\n",
        "\n",
        "# we open the file for reading\n",
        "fileObject = open(project_path+train_df_pick,'rb')  \n",
        "fileObject1 = open(project_path+valid_df_pick,'rb')  \n",
        "\n",
        "# load the object from the file into temp var b\n",
        "train_df = pickle.load(fileObject)  \n",
        "valid_df = pickle.load(fileObject1) "
      ],
      "execution_count": 0,
      "outputs": []
    },
    {
      "cell_type": "code",
      "metadata": {
        "id": "hFWhWGKTi-_7",
        "colab_type": "code",
        "outputId": "3ac6368d-0011-42d0-fc97-59f0a13ed386",
        "colab": {
          "base_uri": "https://localhost:8080/",
          "height": 34
        }
      },
      "source": [
        "train_patient_Ids = train_df.patientId.unique()\n",
        "print(\"The number of unique patient id in the training dataset is \"+ str(train_patient_Ids.shape[0]))"
      ],
      "execution_count": 9,
      "outputs": [
        {
          "output_type": "stream",
          "text": [
            "The number of unique patient id in the training dataset is 21908\n"
          ],
          "name": "stdout"
        }
      ]
    },
    {
      "cell_type": "code",
      "metadata": {
        "id": "PCNm18Nsjv1B",
        "colab_type": "code",
        "outputId": "4a79d66f-9545-4326-e29e-bc7f8f0ccbe1",
        "colab": {
          "base_uri": "https://localhost:8080/",
          "height": 34
        }
      },
      "source": [
        "valid_patient_Ids = valid_df.patientId.unique()\n",
        "print(\"The number of unique patient id in the validation dataset is \"+ str(valid_patient_Ids.shape[0]))"
      ],
      "execution_count": 10,
      "outputs": [
        {
          "output_type": "stream",
          "text": [
            "The number of unique patient id in the validation dataset is 5914\n"
          ],
          "name": "stdout"
        }
      ]
    },
    {
      "cell_type": "markdown",
      "metadata": {
        "id": "ZATT1GkQblKx",
        "colab_type": "text"
      },
      "source": [
        "#Custom Data generator"
      ]
    },
    {
      "cell_type": "code",
      "metadata": {
        "id": "2V_4EBVvbjta",
        "colab_type": "code",
        "colab": {}
      },
      "source": [
        "class Generator(keras.utils.Sequence):\n",
        "  def __init__(self, unique_patient_ids, folder, dataframe, batch_size=100, shuffle=False, image_size=256, predict=False):\n",
        "        self.unique_patient_ids = unique_patient_ids\n",
        "        self.folder = folder\n",
        "        self.dataframe = dataframe\n",
        "        self.batch_size = batch_size\n",
        "        self.shuffle = shuffle\n",
        "        self.image_size = image_size\n",
        "        self.predict = predict\n",
        "        self.on_epoch_end()\n",
        "   \n",
        "  def __load__(self, pat_id):\n",
        "        patIdWithExt = pat_id+'.dcm'\n",
        "        # load dicom file from pixel array\n",
        "        img = pydicom.dcmread(os.path.join(self.folder, patIdWithExt)).pixel_array\n",
        "        # create empty array\n",
        "        msk = np.zeros(img.shape) \n",
        "        \n",
        "        if pat_id in self.dataframe[\"patientId\"].values:\n",
        "            pat_info = self.dataframe[self.dataframe.patientId == pat_id]\n",
        "\n",
        "            # loop through patient rows in the df\n",
        "            for info in pat_info.iterrows():\n",
        "                row = info[1]\n",
        "                if row.Target == 1:\n",
        "                    x = int(row.x)\n",
        "                    y = int(row.y)\n",
        "                    msk[y: int(row.y) + int(row.height), x: int(row.x) + int(row.width)] = 1 \n",
        "      \n",
        "        img = cv2.resize(img, (self.image_size, self.image_size))\n",
        "        msk = cv2.resize(msk, (self.image_size, self.image_size))\n",
        "        img = np.expand_dims(img, -1)\n",
        "        msk = np.expand_dims(msk, -1)   \n",
        "\n",
        "        #img2 = np.concatenate((img,)*3, axis=-1) \n",
        "        #msk2 = np.concatenate((msk,)*3, axis=-1)\n",
        "        return img, msk\n",
        "\n",
        "  def __loadpredict__(self, pat_id):\n",
        "        patIdWithExt = pat_id\n",
        "        # load dicom file from pixel array\n",
        "        img = pydicom.dcmread(os.path.join(self.folder, patIdWithExt)).pixel_array\n",
        "        # resize image\n",
        "        img = resize(img, (self.image_size, self.image_size), mode='reflect')\n",
        "        # add trailing channel dimension\n",
        "        img = np.expand_dims(img, -1)\n",
        "        return img\n",
        "\n",
        "  def __getitem__(self, index):\n",
        "        if self.predict:\n",
        "            # load files\n",
        "            imgs = [self.__loadpredict__(pat_id_row) for pat_id_row in self.unique_patient_ids]\n",
        "            # create numpy batch\n",
        "            imgs = np.array(imgs)\n",
        "            return imgs, self.unique_patient_ids\n",
        "        else:    \n",
        "            # select pat_ids by batches\n",
        "            batch_pat_ids = self.unique_patient_ids[index*self.batch_size : (index+1)*self.batch_size]\n",
        "\n",
        "            # load pat ids by loop\n",
        "            items = [self.__load__(pat_id_row) for pat_id_row in batch_pat_ids]\n",
        "            imgs, msks = zip(*items)\n",
        "\n",
        "            # create numpy batch\n",
        "            imgs = np.array(imgs)\n",
        "            msks = np.array(msks)\n",
        "        return imgs, msks\n",
        "\n",
        "  def __len__(self):\n",
        "        if self.predict:\n",
        "            return int(np.ceil(len(self.unique_patient_ids) / self.batch_size))\n",
        "        else:\n",
        "            # __len__ provides number of batches per epoch\n",
        "            return int(np.floor(self.unique_patient_ids.shape[0] / self.batch_size))\n",
        "\n",
        "  def on_epoch_end(self):\n",
        "        if self.predict:\n",
        "            self.indexes = np.arange(len(self.unique_patient_ids))\n",
        "        else:\n",
        "            self.indexes = np.arange(self.unique_patient_ids.shape[0])\n",
        "        if self.shuffle == True:\n",
        "              np.random.shuffle(self.indexes)"
      ],
      "execution_count": 0,
      "outputs": []
    },
    {
      "cell_type": "code",
      "metadata": {
        "id": "Ti1eu2kpoC21",
        "colab_type": "code",
        "colab": {}
      },
      "source": [
        "#To be used finally\n",
        "#train_gen = Generator(train_patient_Ids, train_img_path, train_df, batch_size=32, shuffle=False, image_size=256)\n",
        "#valid_gen = Generator(valid_patient_Ids, valid_img_path, valid_df, batch_size=32, shuffle=False, image_size=256)"
      ],
      "execution_count": 0,
      "outputs": []
    },
    {
      "cell_type": "code",
      "metadata": {
        "id": "CIElaIRStJWY",
        "colab_type": "code",
        "colab": {}
      },
      "source": [
        "train_gen = Generator(train_patient_Ids[:500], train_img_path, train_df, batch_size=100, shuffle=False, image_size=256)\n",
        "valid_gen = Generator(valid_patient_Ids[:250], valid_img_path, valid_df, batch_size=100, shuffle=False, image_size=256)"
      ],
      "execution_count": 0,
      "outputs": []
    },
    {
      "cell_type": "code",
      "metadata": {
        "id": "AmIpVBzOrDYW",
        "colab_type": "code",
        "colab": {}
      },
      "source": [
        "def create_downsample(filters, inputs):\n",
        "    x = keras.layers.BatchNormalization(momentum=0.9)(inputs)\n",
        "    x = keras.layers.LeakyReLU(0)(x)\n",
        "    x = keras.layers.Conv2D(filters, 3, padding='same', use_bias=False)(x)\n",
        "    x = keras.layers.MaxPool2D(2)(x)\n",
        "    return x\n",
        "\n",
        "def create_cnn_model(input_size):\n",
        "  inputs = keras.Input(shape=(input_size, input_size, 1))\n",
        "  x = keras.layers.Conv2D(32, 3, padding='same', use_bias=False)(inputs)\n",
        "\n",
        "  filters = 32\n",
        "  for d in range(4):\n",
        "        filters = filters * 2\n",
        "        x = create_downsample(filters, x)\n",
        "  \n",
        "  x = keras.layers.BatchNormalization(momentum=0.9)(x)\n",
        "  x = keras.layers.LeakyReLU(0)(x)\n",
        "  x = keras.layers.Conv2D(1, 1, activation='sigmoid')(x)\n",
        "  outputs = keras.layers.UpSampling2D(2**4)(x)\n",
        "  model = keras.Model(inputs=inputs, outputs=outputs)\n",
        "  return model"
      ],
      "execution_count": 0,
      "outputs": []
    },
    {
      "cell_type": "code",
      "metadata": {
        "id": "KlFhqvjFugKI",
        "colab_type": "code",
        "colab": {
          "base_uri": "https://localhost:8080/",
          "height": 901
        },
        "outputId": "724c4863-f905-40ac-ac3b-4ca76701947d"
      },
      "source": [
        "model = create_cnn_model(input_size=256)\n",
        "model.compile(optimizer='adam',loss='binary_crossentropy',\n",
        "              metrics=['accuracy'])\n",
        "\n",
        "checkpoint = ModelCheckpoint(\"model_1.h5\", monitor=\"val_loss\", verbose=1, save_best_only=True,\n",
        "                             save_weights_only=True, mode=\"auto\", period=1)\n",
        "stop = EarlyStopping(monitor=\"val_loss\", patience=10, mode=\"auto\")\n",
        "reduce_lr = ReduceLROnPlateau(monitor=\"val_loss\", factor=0.2, patience=5, min_lr=1e-6, verbose=1, mode=\"auto\")\n",
        "model.summary()"
      ],
      "execution_count": 25,
      "outputs": [
        {
          "output_type": "stream",
          "text": [
            "Model: \"model_4\"\n",
            "_________________________________________________________________\n",
            "Layer (type)                 Output Shape              Param #   \n",
            "=================================================================\n",
            "input_4 (InputLayer)         (None, 256, 256, 1)       0         \n",
            "_________________________________________________________________\n",
            "conv2d_19 (Conv2D)           (None, 256, 256, 32)      288       \n",
            "_________________________________________________________________\n",
            "batch_normalization_16 (Batc (None, 256, 256, 32)      128       \n",
            "_________________________________________________________________\n",
            "leaky_re_lu_16 (LeakyReLU)   (None, 256, 256, 32)      0         \n",
            "_________________________________________________________________\n",
            "conv2d_20 (Conv2D)           (None, 256, 256, 64)      18432     \n",
            "_________________________________________________________________\n",
            "max_pooling2d_13 (MaxPooling (None, 128, 128, 64)      0         \n",
            "_________________________________________________________________\n",
            "batch_normalization_17 (Batc (None, 128, 128, 64)      256       \n",
            "_________________________________________________________________\n",
            "leaky_re_lu_17 (LeakyReLU)   (None, 128, 128, 64)      0         \n",
            "_________________________________________________________________\n",
            "conv2d_21 (Conv2D)           (None, 128, 128, 128)     73728     \n",
            "_________________________________________________________________\n",
            "max_pooling2d_14 (MaxPooling (None, 64, 64, 128)       0         \n",
            "_________________________________________________________________\n",
            "batch_normalization_18 (Batc (None, 64, 64, 128)       512       \n",
            "_________________________________________________________________\n",
            "leaky_re_lu_18 (LeakyReLU)   (None, 64, 64, 128)       0         \n",
            "_________________________________________________________________\n",
            "conv2d_22 (Conv2D)           (None, 64, 64, 256)       294912    \n",
            "_________________________________________________________________\n",
            "max_pooling2d_15 (MaxPooling (None, 32, 32, 256)       0         \n",
            "_________________________________________________________________\n",
            "batch_normalization_19 (Batc (None, 32, 32, 256)       1024      \n",
            "_________________________________________________________________\n",
            "leaky_re_lu_19 (LeakyReLU)   (None, 32, 32, 256)       0         \n",
            "_________________________________________________________________\n",
            "conv2d_23 (Conv2D)           (None, 32, 32, 512)       1179648   \n",
            "_________________________________________________________________\n",
            "max_pooling2d_16 (MaxPooling (None, 16, 16, 512)       0         \n",
            "_________________________________________________________________\n",
            "batch_normalization_20 (Batc (None, 16, 16, 512)       2048      \n",
            "_________________________________________________________________\n",
            "leaky_re_lu_20 (LeakyReLU)   (None, 16, 16, 512)       0         \n",
            "_________________________________________________________________\n",
            "conv2d_24 (Conv2D)           (None, 16, 16, 1)         513       \n",
            "_________________________________________________________________\n",
            "up_sampling2d_4 (UpSampling2 (None, 256, 256, 1)       0         \n",
            "=================================================================\n",
            "Total params: 1,571,489\n",
            "Trainable params: 1,569,505\n",
            "Non-trainable params: 1,984\n",
            "_________________________________________________________________\n"
          ],
          "name": "stdout"
        }
      ]
    },
    {
      "cell_type": "code",
      "metadata": {
        "id": "5yALWJUJo3rj",
        "colab_type": "code",
        "outputId": "90b6d2e6-9085-400f-b770-52b94e08e98d",
        "colab": {
          "base_uri": "https://localhost:8080/",
          "height": 343
        }
      },
      "source": [
        "history = model.fit_generator(train_gen, \n",
        "                              validation_data=valid_gen, \n",
        "                              callbacks=[checkpoint, reduce_lr, stop],\n",
        "                              epochs=4, \n",
        "                              workers=1, \n",
        "                              use_multiprocessing=False)"
      ],
      "execution_count": 26,
      "outputs": [
        {
          "output_type": "stream",
          "text": [
            "Epoch 1/4\n"
          ],
          "name": "stdout"
        },
        {
          "output_type": "stream",
          "text": [
            "/usr/local/lib/python3.6/dist-packages/keras/utils/data_utils.py:616: UserWarning: The input 1 could not be retrieved. It could be because a worker has died.\n",
            "  UserWarning)\n"
          ],
          "name": "stderr"
        },
        {
          "output_type": "stream",
          "text": [
            "5/5 [==============================] - 438s 88s/step - loss: 0.5004 - accuracy: 0.8080 - val_loss: 0.2044 - val_accuracy: 0.9555\n",
            "\n",
            "Epoch 00001: val_loss improved from inf to 0.20439, saving model to model_1.h5\n",
            "Epoch 2/4\n",
            "5/5 [==============================] - 356s 71s/step - loss: 0.1901 - accuracy: 0.9554 - val_loss: 0.1658 - val_accuracy: 0.9700\n",
            "\n",
            "Epoch 00002: val_loss improved from 0.20439 to 0.16582, saving model to model_1.h5\n",
            "Epoch 3/4\n",
            "5/5 [==============================] - 348s 70s/step - loss: 0.1567 - accuracy: 0.9573 - val_loss: 0.1367 - val_accuracy: 0.9724\n",
            "\n",
            "Epoch 00003: val_loss improved from 0.16582 to 0.13674, saving model to model_1.h5\n",
            "Epoch 4/4\n",
            "5/5 [==============================] - 344s 69s/step - loss: 0.1470 - accuracy: 0.9577 - val_loss: 0.1149 - val_accuracy: 0.9725\n",
            "\n",
            "Epoch 00004: val_loss improved from 0.13674 to 0.11488, saving model to model_1.h5\n"
          ],
          "name": "stdout"
        }
      ]
    },
    {
      "cell_type": "code",
      "metadata": {
        "id": "jdP8GHAd_T8G",
        "colab_type": "code",
        "colab": {
          "base_uri": "https://localhost:8080/",
          "height": 265
        },
        "outputId": "5a35293c-566e-4342-c7ef-9e98ea8318bc"
      },
      "source": [
        "plt.figure(figsize=(12,4))\n",
        "plt.subplot(131)\n",
        "plt.plot(history.epoch, history.history[\"loss\"], label=\"Train loss\")\n",
        "plt.plot(history.epoch, history.history[\"val_loss\"], label=\"Valid loss\")\n",
        "plt.legend()\n",
        "plt.subplot(132)\n",
        "plt.plot(history.epoch, history.history[\"accuracy\"], label=\"Train accuracy\")\n",
        "plt.plot(history.epoch, history.history[\"val_accuracy\"], label=\"Valid accuracy\")\n",
        "plt.legend()\n",
        "plt.show()"
      ],
      "execution_count": 27,
      "outputs": [
        {
          "output_type": "display_data",
          "data": {
            "image/png": "[encoded data removed]",
            "text/plain": [
              "<Figure size 864x288 with 2 Axes>"
            ]
          },
          "metadata": {
            "tags": [],
            "needs_background": "light"
          }
        }
      ]
    },
    {
      "cell_type": "code",
      "metadata": {
        "id": "38U-D36qQREx",
        "colab_type": "code",
        "colab": {
          "base_uri": "https://localhost:8080/",
          "height": 34
        },
        "outputId": "7453996c-99cd-401d-8a2c-775008d2c332"
      },
      "source": [
        "test_filenames = os.listdir(test_img_path)\n",
        "print('n test samples:', len(test_filenames))"
      ],
      "execution_count": 28,
      "outputs": [
        {
          "output_type": "stream",
          "text": [
            "n test samples: 3000\n"
          ],
          "name": "stdout"
        }
      ]
    },
    {
      "cell_type": "code",
      "metadata": {
        "id": "1kuCXE6kRLdv",
        "colab_type": "code",
        "colab": {
          "base_uri": "https://localhost:8080/",
          "height": 34
        },
        "outputId": "7c4448c2-b0b4-4c41-850f-664f3a119657"
      },
      "source": [
        "len(test_filenames[:2])"
      ],
      "execution_count": 33,
      "outputs": [
        {
          "output_type": "execute_result",
          "data": {
            "text/plain": [
              "2"
            ]
          },
          "metadata": {
            "tags": []
          },
          "execution_count": 33
        }
      ]
    },
    {
      "cell_type": "markdown",
      "metadata": {
        "id": "eFTlV9Rra1yy",
        "colab_type": "text"
      },
      "source": [
        "#Test dataset"
      ]
    },
    {
      "cell_type": "code",
      "metadata": {
        "id": "D1tBXnRRQ-9F",
        "colab_type": "code",
        "colab": {}
      },
      "source": [
        "test_gen = Generator(test_filenames[:100], test_img_path, valid_df, batch_size=100, shuffle=False, image_size=256, predict=True)"
      ],
      "execution_count": 0,
      "outputs": []
    },
    {
      "cell_type": "code",
      "metadata": {
        "id": "IRPtcMCJUV3g",
        "colab_type": "code",
        "colab": {
          "base_uri": "https://localhost:8080/",
          "height": 71
        },
        "outputId": "5510d90a-168c-4ce2-c6f6-d702c4a60cbf"
      },
      "source": [
        "pred = model.predict(test_gen)"
      ],
      "execution_count": 40,
      "outputs": [
        {
          "output_type": "stream",
          "text": [
            "/usr/local/lib/python3.6/dist-packages/keras/utils/data_utils.py:616: UserWarning: The input 0 could not be retrieved. It could be because a worker has died.\n",
            "  UserWarning)\n"
          ],
          "name": "stderr"
        }
      ]
    },
    {
      "cell_type": "code",
      "metadata": {
        "id": "86aOly9LaYW3",
        "colab_type": "code",
        "colab": {
          "base_uri": "https://localhost:8080/",
          "height": 136
        },
        "outputId": "dcb2df3f-c217-4b7f-dd76-ce9dece35cef"
      },
      "source": [
        "pred[2]"
      ],
      "execution_count": 58,
      "outputs": [
        {
          "output_type": "execute_result",
          "data": {
            "text/plain": [
              "array([[0.00461602],\n",
              "       [0.00461602],\n",
              "       [0.00461602],\n",
              "       ...,\n",
              "       [0.00488329],\n",
              "       [0.00488329],\n",
              "       [0.00488329]], dtype=float32)"
            ]
          },
          "metadata": {
            "tags": []
          },
          "execution_count": 58
        }
      ]
    }
  ]
}