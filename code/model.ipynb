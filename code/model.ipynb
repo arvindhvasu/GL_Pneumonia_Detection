{
  "nbformat": 4,
  "nbformat_minor": 0,
  "metadata": {
    "colab": {
      "name": "Untitled1.ipynb",
      "provenance": []
    },
    "kernelspec": {
      "name": "python3",
      "display_name": "Python 3"
    }
  },
  "cells": [
    {
      "cell_type": "markdown",
      "metadata": {
        "id": "ucGBjgmLc3Mj",
        "colab_type": "text"
      },
      "source": [
        "#Model Building \n",
        "\n",
        "\n",
        "1.   Building a pneumonia detection model starting from basic CNN and then   improving upon it.\n",
        "2.   Train the model \n",
        "3.   To deal with large training time, save the weights so that you can use them when training the model for the second time without starting from scratch."
      ]
    }
  ]
}