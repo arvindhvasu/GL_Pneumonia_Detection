{
  "nbformat": 4,
  "nbformat_minor": 0,
  "metadata": {
    "colab": {
      "name": "Untitled1.ipynb",
      "provenance": [],
      "toc_visible": true
    },
    "kernelspec": {
      "name": "python3",
      "display_name": "Python 3"
    },
    "accelerator": "GPU"
  },
  "cells": [
    {
      "cell_type": "markdown",
      "metadata": {
        "id": "4HDcJ05LXm1S",
        "colab_type": "text"
      },
      "source": [
        "#**SUMMARY**\n",
        "\n",
        "Filename    : model.ipynb   \n",
        "Description : The file contains logic for creating model\n",
        "\n",
        "Below steps were performed for data preparation,   \n",
        "      1.   Building a pneumonia detection model starting from basic CNN and then   improving upon it.   \n",
        "      2.   Train the model     \n",
        "      3.   To deal with large training time, save the weights so that you can use them when training the model for the second time without starting from scratch.   \n",
        "\n",
        "\n",
        "**Revision History**  \n",
        "Date        ||       Description               ||              Author  \n",
        "07-06-2020   ||   Initial logic for model creation   ||   Arvindh   \n",
        "  \n",
        "\n"
      ]
    },
    {
      "cell_type": "markdown",
      "metadata": {
        "id": "yvhRx5MRYiHa",
        "colab_type": "text"
      },
      "source": [
        "#**Import Libraries**"
      ]
    },
    {
      "cell_type": "code",
      "metadata": {
        "id": "VZ4Jfrc8YSc4",
        "colab_type": "code",
        "colab": {}
      },
      "source": [
        "%tensorflow_version 2.x"
      ],
      "execution_count": 0,
      "outputs": []
    },
    {
      "cell_type": "code",
      "metadata": {
        "id": "KHYQn7IXYSy6",
        "colab_type": "code",
        "outputId": "0aad429a-3a21-4281-c7c2-88a4acf311f6",
        "colab": {
          "base_uri": "https://localhost:8080/",
          "height": 51
        }
      },
      "source": [
        "import tensorflow\n",
        "import keras\n",
        "from keras import backend as k\n",
        "print(\"Backend: \" + k.backend() + \" || tensorflow version: \" + tensorflow.__version__)"
      ],
      "execution_count": 2,
      "outputs": [
        {
          "output_type": "stream",
          "text": [
            "Backend: tensorflow || tensorflow version: 2.2.0\n"
          ],
          "name": "stdout"
        },
        {
          "output_type": "stream",
          "text": [
            "Using TensorFlow backend.\n"
          ],
          "name": "stderr"
        }
      ]
    },
    {
      "cell_type": "code",
      "metadata": {
        "id": "Sa5yDwoJYbNy",
        "colab_type": "code",
        "colab": {}
      },
      "source": [
        "import pandas as pd \n",
        "import numpy as np\n",
        "from matplotlib.pyplot import figure, show\n",
        "import os\n",
        "import matplotlib\n",
        "import matplotlib.pyplot as plt\n",
        "import warnings\n",
        "warnings.filterwarnings('ignore')\n"
      ],
      "execution_count": 0,
      "outputs": []
    },
    {
      "cell_type": "code",
      "metadata": {
        "id": "Z85yjH-RZRR3",
        "colab_type": "code",
        "outputId": "ed02b321-5970-4a89-b4c7-247696519147",
        "colab": {
          "base_uri": "https://localhost:8080/",
          "height": 34
        }
      },
      "source": [
        "!pip3 install pydicom\n",
        "import pydicom\n",
        "from skimage.transform import resize\n",
        "import pickle\n",
        "import cv2"
      ],
      "execution_count": 4,
      "outputs": [
        {
          "output_type": "stream",
          "text": [
            "Requirement already satisfied: pydicom in /usr/local/lib/python3.6/dist-packages (2.0.0)\n"
          ],
          "name": "stdout"
        }
      ]
    },
    {
      "cell_type": "code",
      "metadata": {
        "id": "bQzsbUTrZX_3",
        "colab_type": "code",
        "colab": {}
      },
      "source": [
        "from keras.optimizers import Adam\n",
        "from keras.callbacks import ModelCheckpoint, EarlyStopping, ReduceLROnPlateau"
      ],
      "execution_count": 0,
      "outputs": []
    },
    {
      "cell_type": "markdown",
      "metadata": {
        "id": "Z4EqYTeKYdSy",
        "colab_type": "text"
      },
      "source": [
        "#Mount Google Drive"
      ]
    },
    {
      "cell_type": "code",
      "metadata": {
        "id": "_3vVLc5MYfrr",
        "colab_type": "code",
        "outputId": "521135bf-54c7-44d6-cb55-3a34b56da6cd",
        "colab": {
          "base_uri": "https://localhost:8080/",
          "height": 54
        }
      },
      "source": [
        "from google.colab import drive\n",
        "drive.mount('/content/drive')"
      ],
      "execution_count": 6,
      "outputs": [
        {
          "output_type": "stream",
          "text": [
            "Drive already mounted at /content/drive; to attempt to forcibly remount, call drive.mount(\"/content/drive\", force_remount=True).\n"
          ],
          "name": "stdout"
        }
      ]
    },
    {
      "cell_type": "code",
      "metadata": {
        "id": "_KQZdYfXwxCl",
        "colab_type": "code",
        "colab": {}
      },
      "source": [
        "#Set your project path \n",
        "project_path =  'drive/My Drive/Colab Notebooks/Capstone'"
      ],
      "execution_count": 0,
      "outputs": []
    },
    {
      "cell_type": "code",
      "metadata": {
        "id": "s3SuJh12w2Jk",
        "colab_type": "code",
        "colab": {}
      },
      "source": [
        "#changed the project base path\n",
        "os.chdir(project_path)"
      ],
      "execution_count": 0,
      "outputs": []
    },
    {
      "cell_type": "code",
      "metadata": {
        "id": "io6GZGSFYqdR",
        "colab_type": "code",
        "colab": {}
      },
      "source": [
        "#Set your data path \n",
        "train_img_path = 'dataset/stage_2_train_images'\n",
        "valid_img_path = 'dataset/stage_2_train_images'\n",
        "test_img_path = 'dataset/stage_2_test_images'"
      ],
      "execution_count": 0,
      "outputs": []
    },
    {
      "cell_type": "code",
      "metadata": {
        "id": "auaGzcAlaYy8",
        "colab_type": "code",
        "colab": {}
      },
      "source": [
        "train_df_pick = \"train_df_pickle\"\n",
        "valid_df_pick = \"valid_df_pickle\"\n",
        "\n",
        "# we open the file for reading\n",
        "fileObject = open(train_df_pick,'rb')  \n",
        "fileObject1 = open(valid_df_pick,'rb')  \n",
        "\n",
        "# load the object from the file into temp var b\n",
        "train_df = pickle.load(fileObject)  \n",
        "valid_df = pickle.load(fileObject1) "
      ],
      "execution_count": 0,
      "outputs": []
    },
    {
      "cell_type": "code",
      "metadata": {
        "id": "hFWhWGKTi-_7",
        "colab_type": "code",
        "outputId": "59a26cf7-d234-4e6f-f718-f20f34a7946c",
        "colab": {
          "base_uri": "https://localhost:8080/",
          "height": 51
        }
      },
      "source": [
        "train_patient_Ids = train_df.patientId.unique()\n",
        "print(train_df.shape, 'training data')\n",
        "print(\"The number of unique patient id in the training dataset is \"+ str(train_patient_Ids.shape[0]))"
      ],
      "execution_count": 14,
      "outputs": [
        {
          "output_type": "stream",
          "text": [
            "(24181, 10) training data\n",
            "The number of unique patient id in the training dataset is 21908\n"
          ],
          "name": "stdout"
        }
      ]
    },
    {
      "cell_type": "markdown",
      "metadata": {
        "id": "-zJ0JwpCaUs3",
        "colab_type": "text"
      },
      "source": [
        "Splitted the Validation dataset into Validation and Test dataset with the ratio of 95:5 based on the 'Target' column."
      ]
    },
    {
      "cell_type": "code",
      "metadata": {
        "id": "Q8_KZBZdfg9b",
        "colab_type": "code",
        "colab": {
          "base_uri": "https://localhost:8080/",
          "height": 102
        },
        "outputId": "31c18871-ee11-4b86-a3e5-995e4ad85630"
      },
      "source": [
        "from sklearn.model_selection import train_test_split\n",
        "valid_train_df, valid_test_df = train_test_split(valid_df, test_size=0.05,\n",
        "                                    stratify=valid_df['Target'])\n",
        "valid_train_patient_Ids = valid_train_df.patientId.unique()\n",
        "valid_test_patient_Ids = valid_test_df.patientId.unique()\n",
        "print(valid_train_df.shape, 'validation data')\n",
        "print(\"The number of unique patient id in the validation dataset is \"+ str(valid_train_patient_Ids.shape[0]))\n",
        "print(\"---------------------------------------------------------------------\")\n",
        "print(valid_test_df.shape, 'test data')\n",
        "print(\"The number of unique patient id in the test dataset is \"+ str(valid_test_patient_Ids.shape[0]))"
      ],
      "execution_count": 15,
      "outputs": [
        {
          "output_type": "stream",
          "text": [
            "(5743, 10) validation data\n",
            "The number of unique patient id in the validation dataset is 5618\n",
            "---------------------------------------------------------------------\n",
            "(303, 10) test data\n",
            "The number of unique patient id in the test dataset is 302\n"
          ],
          "name": "stdout"
        }
      ]
    },
    {
      "cell_type": "markdown",
      "metadata": {
        "id": "ZATT1GkQblKx",
        "colab_type": "text"
      },
      "source": [
        "#Custom Data generator"
      ]
    },
    {
      "cell_type": "code",
      "metadata": {
        "id": "2V_4EBVvbjta",
        "colab_type": "code",
        "colab": {}
      },
      "source": [
        "class Generator(keras.utils.Sequence):\n",
        "  def __init__(self, unique_patient_ids, folder, dataframe, batch_size=100, shuffle=False, image_size=256, predict=False):\n",
        "        self.unique_patient_ids = unique_patient_ids\n",
        "        self.folder = folder\n",
        "        self.dataframe = dataframe\n",
        "        self.batch_size = batch_size\n",
        "        self.shuffle = shuffle\n",
        "        self.image_size = image_size\n",
        "        self.predict = predict\n",
        "        self.on_epoch_end()\n",
        "   \n",
        "  def __load__(self, pat_id):\n",
        "        patIdWithExt = pat_id+'.dcm'\n",
        "        # load dicom file from pixel array\n",
        "        img = pydicom.dcmread(os.path.join(self.folder, patIdWithExt)).pixel_array\n",
        "        # create empty array\n",
        "        msk = np.zeros(img.shape) \n",
        "        \n",
        "        if pat_id in self.dataframe[\"patientId\"].values:\n",
        "            pat_info = self.dataframe[self.dataframe.patientId == pat_id]\n",
        "\n",
        "            # loop through patient rows in the df\n",
        "            for info in pat_info.iterrows():\n",
        "                row = info[1]\n",
        "                if row.Target == 1:\n",
        "                    x = int(row.x)\n",
        "                    y = int(row.y)\n",
        "                    msk[y: int(row.y) + int(row.height), x: int(row.x) + int(row.width)] = 1 \n",
        "      \n",
        "        img = cv2.resize(img, (self.image_size, self.image_size))\n",
        "        msk = cv2.resize(msk, (self.image_size, self.image_size))\n",
        "        img = np.expand_dims(img, -1)\n",
        "        msk = np.expand_dims(msk, -1)   \n",
        "\n",
        "        #img2 = np.concatenate((img,)*3, axis=-1) \n",
        "        #msk2 = np.concatenate((msk,)*3, axis=-1)\n",
        "        return img, msk\n",
        "\n",
        "  def __loadpredict__(self, pat_id):\n",
        "        patIdWithExt = pat_id+'.dcm'\n",
        "        # load dicom file from pixel array\n",
        "        img = pydicom.dcmread(os.path.join(self.folder, patIdWithExt)).pixel_array\n",
        "        # resize image\n",
        "        img = resize(img, (self.image_size, self.image_size), mode='reflect')\n",
        "        # add trailing channel dimension\n",
        "        img = np.expand_dims(img, -1)\n",
        "        return img\n",
        "\n",
        "  def __getitem__(self, index):\n",
        "        # select pat_ids by batches\n",
        "        batch_pat_ids = self.unique_patient_ids[index*self.batch_size : (index+1)*self.batch_size]\n",
        "\n",
        "        if self.predict:\n",
        "            # load files\n",
        "            imgs = [self.__loadpredict__(pat_id_row) for pat_id_row in batch_pat_ids]\n",
        "            # create numpy batch\n",
        "            imgs = np.array(imgs)\n",
        "            return imgs, batch_pat_ids\n",
        "        else:    \n",
        "            # load pat ids by loop\n",
        "            items = [self.__load__(pat_id_row) for pat_id_row in batch_pat_ids]\n",
        "            imgs, msks = zip(*items)\n",
        "\n",
        "            # create numpy batch\n",
        "            imgs = np.array(imgs)\n",
        "            msks = np.array(msks)\n",
        "        return imgs, msks\n",
        "\n",
        "  def __len__(self):\n",
        "        if self.predict:\n",
        "            return int(np.ceil(len(self.unique_patient_ids) / self.batch_size))\n",
        "        else:\n",
        "            # __len__ provides number of batches per epoch\n",
        "            return int(np.floor(self.unique_patient_ids.shape[0] / self.batch_size))\n",
        "\n",
        "  def on_epoch_end(self):\n",
        "        if self.predict:\n",
        "            self.indexes = np.arange(len(self.unique_patient_ids))\n",
        "        else:\n",
        "            self.indexes = np.arange(self.unique_patient_ids.shape[0])\n",
        "        if self.shuffle == True:\n",
        "              np.random.shuffle(self.indexes)"
      ],
      "execution_count": 0,
      "outputs": []
    },
    {
      "cell_type": "code",
      "metadata": {
        "id": "X7E84XVugHvT",
        "colab_type": "code",
        "colab": {}
      },
      "source": [
        "BATCH_SIZE = 100"
      ],
      "execution_count": 0,
      "outputs": []
    },
    {
      "cell_type": "code",
      "metadata": {
        "id": "CIElaIRStJWY",
        "colab_type": "code",
        "colab": {}
      },
      "source": [
        "train_gen = Generator(train_patient_Ids, train_img_path, train_df, batch_size=BATCH_SIZE, image_size=256)\n",
        "valid_gen = Generator(valid_train_patient_Ids, valid_img_path, valid_train_df, batch_size=BATCH_SIZE, image_size=256)"
      ],
      "execution_count": 0,
      "outputs": []
    },
    {
      "cell_type": "markdown",
      "metadata": {
        "id": "kL8txzZKauKJ",
        "colab_type": "text"
      },
      "source": [
        "#**Model Building**"
      ]
    },
    {
      "cell_type": "code",
      "metadata": {
        "id": "AmIpVBzOrDYW",
        "colab_type": "code",
        "colab": {}
      },
      "source": [
        "def create_downsample(filters, inputs):\n",
        "    x = keras.layers.BatchNormalization(momentum=0.9)(inputs)\n",
        "    x = keras.layers.LeakyReLU(0)(x)\n",
        "    x = keras.layers.Conv2D(filters, 3, padding='same', use_bias=False)(x)\n",
        "    x = keras.layers.MaxPool2D(2)(x)\n",
        "    return x\n",
        "\n",
        "def create_resblock(filters, inputs):  #create residual block\n",
        "  x = keras.layers.BatchNormalization(momentum = 0.9)(inputs)\n",
        "  x = keras.layers.LeakyReLU(0)(x)\n",
        "  x = keras.layers.Conv2D(filters, 3, padding = 'same', use_bias = False)(x)\n",
        "  x = keras.layers.BatchNormalization(momentum = 0.9)(x)\n",
        "  x = keras.layers.LeakyReLU(0)(x)\n",
        "  x = keras.layers.Conv2D(filters, 3, padding = 'same', use_bias = False)(x)\n",
        "  return keras.layers.add([x, inputs])\n",
        "\n",
        "def create_cnn_model(input_size, n_blocks = 1, depth = 4):\n",
        "  inputs = keras.Input(shape=(input_size, input_size, 1))\n",
        "  x = keras.layers.Conv2D(32, 3, padding='same', use_bias=False)(inputs)\n",
        "\n",
        "  filters = 32\n",
        "  for d in range(depth):\n",
        "        filters = filters * 2\n",
        "        x = create_downsample(filters, x)\n",
        "        for b in range(n_blocks):\n",
        "              x = create_resblock(filters, x)\n",
        "  \n",
        "  x = keras.layers.BatchNormalization(momentum=0.9)(x)\n",
        "  x = keras.layers.LeakyReLU(0)(x)\n",
        "  x = keras.layers.Conv2D(1, 1, activation='sigmoid')(x)\n",
        "  outputs = keras.layers.UpSampling2D(2**depth)(x)\n",
        "  model = keras.Model(inputs=inputs, outputs=outputs)\n",
        "  return model"
      ],
      "execution_count": 0,
      "outputs": []
    },
    {
      "cell_type": "code",
      "metadata": {
        "id": "KlFhqvjFugKI",
        "colab_type": "code",
        "outputId": "561d5012-5250-4c78-ea73-d36b6bbbf8bc",
        "colab": {
          "base_uri": "https://localhost:8080/",
          "height": 1000
        }
      },
      "source": [
        "model = create_cnn_model(input_size=256)\n",
        "model.compile(optimizer='adam',loss='binary_crossentropy',\n",
        "              metrics=['accuracy', tensorflow.keras.metrics.MeanIoU(num_classes=2)])\n",
        "\n",
        "checkpoint = ModelCheckpoint(\"model_Unet.h5\", monitor=\"val_loss\", verbose=1,\n",
        "                             mode=\"auto\", period=1)\n",
        "stop = EarlyStopping(monitor=\"val_loss\", patience=10, mode=\"auto\")\n",
        "reduce_lr = ReduceLROnPlateau(monitor=\"val_loss\", factor=0.2, patience=5, min_lr=1e-6, verbose=1, mode=\"auto\")\n",
        "model.summary()"
      ],
      "execution_count": 127,
      "outputs": [
        {
          "output_type": "stream",
          "text": [
            "Model: \"model_6\"\n",
            "__________________________________________________________________________________________________\n",
            "Layer (type)                    Output Shape         Param #     Connected to                     \n",
            "==================================================================================================\n",
            "input_6 (InputLayer)            (None, 256, 256, 1)  0                                            \n",
            "__________________________________________________________________________________________________\n",
            "conv2d_50 (Conv2D)              (None, 256, 256, 32) 288         input_6[0][0]                    \n",
            "__________________________________________________________________________________________________\n",
            "batch_normalization_45 (BatchNo (None, 256, 256, 32) 128         conv2d_50[0][0]                  \n",
            "__________________________________________________________________________________________________\n",
            "leaky_re_lu_45 (LeakyReLU)      (None, 256, 256, 32) 0           batch_normalization_45[0][0]     \n",
            "__________________________________________________________________________________________________\n",
            "conv2d_51 (Conv2D)              (None, 256, 256, 64) 18432       leaky_re_lu_45[0][0]             \n",
            "__________________________________________________________________________________________________\n",
            "max_pooling2d_12 (MaxPooling2D) (None, 128, 128, 64) 0           conv2d_51[0][0]                  \n",
            "__________________________________________________________________________________________________\n",
            "batch_normalization_46 (BatchNo (None, 128, 128, 64) 256         max_pooling2d_12[0][0]           \n",
            "__________________________________________________________________________________________________\n",
            "leaky_re_lu_46 (LeakyReLU)      (None, 128, 128, 64) 0           batch_normalization_46[0][0]     \n",
            "__________________________________________________________________________________________________\n",
            "conv2d_52 (Conv2D)              (None, 128, 128, 64) 36864       leaky_re_lu_46[0][0]             \n",
            "__________________________________________________________________________________________________\n",
            "batch_normalization_47 (BatchNo (None, 128, 128, 64) 256         conv2d_52[0][0]                  \n",
            "__________________________________________________________________________________________________\n",
            "leaky_re_lu_47 (LeakyReLU)      (None, 128, 128, 64) 0           batch_normalization_47[0][0]     \n",
            "__________________________________________________________________________________________________\n",
            "conv2d_53 (Conv2D)              (None, 128, 128, 64) 36864       leaky_re_lu_47[0][0]             \n",
            "__________________________________________________________________________________________________\n",
            "add_15 (Add)                    (None, 128, 128, 64) 0           conv2d_53[0][0]                  \n",
            "                                                                 max_pooling2d_12[0][0]           \n",
            "__________________________________________________________________________________________________\n",
            "batch_normalization_48 (BatchNo (None, 128, 128, 64) 256         add_15[0][0]                     \n",
            "__________________________________________________________________________________________________\n",
            "leaky_re_lu_48 (LeakyReLU)      (None, 128, 128, 64) 0           batch_normalization_48[0][0]     \n",
            "__________________________________________________________________________________________________\n",
            "conv2d_54 (Conv2D)              (None, 128, 128, 128 73728       leaky_re_lu_48[0][0]             \n",
            "__________________________________________________________________________________________________\n",
            "max_pooling2d_13 (MaxPooling2D) (None, 64, 64, 128)  0           conv2d_54[0][0]                  \n",
            "__________________________________________________________________________________________________\n",
            "batch_normalization_49 (BatchNo (None, 64, 64, 128)  512         max_pooling2d_13[0][0]           \n",
            "__________________________________________________________________________________________________\n",
            "leaky_re_lu_49 (LeakyReLU)      (None, 64, 64, 128)  0           batch_normalization_49[0][0]     \n",
            "__________________________________________________________________________________________________\n",
            "conv2d_55 (Conv2D)              (None, 64, 64, 128)  147456      leaky_re_lu_49[0][0]             \n",
            "__________________________________________________________________________________________________\n",
            "batch_normalization_50 (BatchNo (None, 64, 64, 128)  512         conv2d_55[0][0]                  \n",
            "__________________________________________________________________________________________________\n",
            "leaky_re_lu_50 (LeakyReLU)      (None, 64, 64, 128)  0           batch_normalization_50[0][0]     \n",
            "__________________________________________________________________________________________________\n",
            "conv2d_56 (Conv2D)              (None, 64, 64, 128)  147456      leaky_re_lu_50[0][0]             \n",
            "__________________________________________________________________________________________________\n",
            "add_16 (Add)                    (None, 64, 64, 128)  0           conv2d_56[0][0]                  \n",
            "                                                                 max_pooling2d_13[0][0]           \n",
            "__________________________________________________________________________________________________\n",
            "batch_normalization_51 (BatchNo (None, 64, 64, 128)  512         add_16[0][0]                     \n",
            "__________________________________________________________________________________________________\n",
            "leaky_re_lu_51 (LeakyReLU)      (None, 64, 64, 128)  0           batch_normalization_51[0][0]     \n",
            "__________________________________________________________________________________________________\n",
            "conv2d_57 (Conv2D)              (None, 64, 64, 256)  294912      leaky_re_lu_51[0][0]             \n",
            "__________________________________________________________________________________________________\n",
            "max_pooling2d_14 (MaxPooling2D) (None, 32, 32, 256)  0           conv2d_57[0][0]                  \n",
            "__________________________________________________________________________________________________\n",
            "batch_normalization_52 (BatchNo (None, 32, 32, 256)  1024        max_pooling2d_14[0][0]           \n",
            "__________________________________________________________________________________________________\n",
            "leaky_re_lu_52 (LeakyReLU)      (None, 32, 32, 256)  0           batch_normalization_52[0][0]     \n",
            "__________________________________________________________________________________________________\n",
            "conv2d_58 (Conv2D)              (None, 32, 32, 256)  589824      leaky_re_lu_52[0][0]             \n",
            "__________________________________________________________________________________________________\n",
            "batch_normalization_53 (BatchNo (None, 32, 32, 256)  1024        conv2d_58[0][0]                  \n",
            "__________________________________________________________________________________________________\n",
            "leaky_re_lu_53 (LeakyReLU)      (None, 32, 32, 256)  0           batch_normalization_53[0][0]     \n",
            "__________________________________________________________________________________________________\n",
            "conv2d_59 (Conv2D)              (None, 32, 32, 256)  589824      leaky_re_lu_53[0][0]             \n",
            "__________________________________________________________________________________________________\n",
            "add_17 (Add)                    (None, 32, 32, 256)  0           conv2d_59[0][0]                  \n",
            "                                                                 max_pooling2d_14[0][0]           \n",
            "__________________________________________________________________________________________________\n",
            "batch_normalization_54 (BatchNo (None, 32, 32, 256)  1024        add_17[0][0]                     \n",
            "__________________________________________________________________________________________________\n",
            "leaky_re_lu_54 (LeakyReLU)      (None, 32, 32, 256)  0           batch_normalization_54[0][0]     \n",
            "__________________________________________________________________________________________________\n",
            "conv2d_60 (Conv2D)              (None, 32, 32, 512)  1179648     leaky_re_lu_54[0][0]             \n",
            "__________________________________________________________________________________________________\n",
            "max_pooling2d_15 (MaxPooling2D) (None, 16, 16, 512)  0           conv2d_60[0][0]                  \n",
            "__________________________________________________________________________________________________\n",
            "batch_normalization_55 (BatchNo (None, 16, 16, 512)  2048        max_pooling2d_15[0][0]           \n",
            "__________________________________________________________________________________________________\n",
            "leaky_re_lu_55 (LeakyReLU)      (None, 16, 16, 512)  0           batch_normalization_55[0][0]     \n",
            "__________________________________________________________________________________________________\n",
            "conv2d_61 (Conv2D)              (None, 16, 16, 512)  2359296     leaky_re_lu_55[0][0]             \n",
            "__________________________________________________________________________________________________\n",
            "batch_normalization_56 (BatchNo (None, 16, 16, 512)  2048        conv2d_61[0][0]                  \n",
            "__________________________________________________________________________________________________\n",
            "leaky_re_lu_56 (LeakyReLU)      (None, 16, 16, 512)  0           batch_normalization_56[0][0]     \n",
            "__________________________________________________________________________________________________\n",
            "conv2d_62 (Conv2D)              (None, 16, 16, 512)  2359296     leaky_re_lu_56[0][0]             \n",
            "__________________________________________________________________________________________________\n",
            "add_18 (Add)                    (None, 16, 16, 512)  0           conv2d_62[0][0]                  \n",
            "                                                                 max_pooling2d_15[0][0]           \n",
            "__________________________________________________________________________________________________\n",
            "batch_normalization_57 (BatchNo (None, 16, 16, 512)  2048        add_18[0][0]                     \n",
            "__________________________________________________________________________________________________\n",
            "leaky_re_lu_57 (LeakyReLU)      (None, 16, 16, 512)  0           batch_normalization_57[0][0]     \n",
            "__________________________________________________________________________________________________\n",
            "conv2d_63 (Conv2D)              (None, 16, 16, 1)    513         leaky_re_lu_57[0][0]             \n",
            "__________________________________________________________________________________________________\n",
            "up_sampling2d_6 (UpSampling2D)  (None, 256, 256, 1)  0           conv2d_63[0][0]                  \n",
            "==================================================================================================\n",
            "Total params: 7,846,049\n",
            "Trainable params: 7,840,225\n",
            "Non-trainable params: 5,824\n",
            "__________________________________________________________________________________________________\n"
          ],
          "name": "stdout"
        }
      ]
    },
    {
      "cell_type": "code",
      "metadata": {
        "id": "5yALWJUJo3rj",
        "colab_type": "code",
        "outputId": "bff4b381-66dd-42ce-949b-18ebab62328e",
        "colab": {
          "base_uri": "https://localhost:8080/",
          "height": 309
        }
      },
      "source": [
        "history = model.fit_generator(train_gen, \n",
        "                              validation_data=valid_gen, \n",
        "                              callbacks=[checkpoint, reduce_lr, stop],\n",
        "                              epochs=4, \n",
        "                              workers=12, \n",
        "                              steps_per_epoch=len(train_gen),\n",
        "                              validation_steps= len(valid_gen)//BATCH_SIZE,\n",
        "                              use_multiprocessing=True)"
      ],
      "execution_count": 150,
      "outputs": [
        {
          "output_type": "stream",
          "text": [
            "Epoch 1/4\n",
            "219/219 [==============================] - 1068s 5s/step - loss: 0.0801 - accuracy: 0.9741 - mean_io_u_6: 0.4844 - val_loss: 0.0679 - val_accuracy: 0.9756 - val_mean_io_u_6: 0.4852\n",
            "\n",
            "Epoch 00001: saving model to model_Unet.h5\n",
            "Epoch 2/4\n",
            "219/219 [==============================] - 508s 2s/step - loss: 0.0744 - accuracy: 0.9745 - mean_io_u_6: 0.4855 - val_loss: 0.0686 - val_accuracy: 0.9755 - val_mean_io_u_6: 0.4859\n",
            "\n",
            "Epoch 00002: saving model to model_Unet.h5\n",
            "Epoch 3/4\n",
            "219/219 [==============================] - 503s 2s/step - loss: 0.0707 - accuracy: 0.9747 - mean_io_u_6: 0.4861 - val_loss: 0.0579 - val_accuracy: 0.9753 - val_mean_io_u_6: 0.4862\n",
            "\n",
            "Epoch 00003: saving model to model_Unet.h5\n",
            "Epoch 4/4\n",
            "219/219 [==============================] - 510s 2s/step - loss: 0.0684 - accuracy: 0.9752 - mean_io_u_6: 0.4863 - val_loss: 0.0579 - val_accuracy: 0.9756 - val_mean_io_u_6: 0.4865\n",
            "\n",
            "Epoch 00004: saving model to model_Unet.h5\n"
          ],
          "name": "stdout"
        }
      ]
    },
    {
      "cell_type": "markdown",
      "metadata": {
        "id": "hD1SNqKra2F-",
        "colab_type": "text"
      },
      "source": [
        "#**Note** The model with UNet architecture has given good accuracy in the training and validation dataset.\n",
        "Training - Accuracy: 97%, Loss: 6%   \n",
        "Validation - Accuracy: 97%, Loss: 5%\n",
        "\n",
        "The IOU value metric is around 48% in both Validation and Training dataset, which is considerably low, need to be increased with the performance tuning."
      ]
    },
    {
      "cell_type": "code",
      "metadata": {
        "id": "jdP8GHAd_T8G",
        "colab_type": "code",
        "outputId": "43a0faba-3b22-4454-af90-1dec61c995fb",
        "colab": {
          "base_uri": "https://localhost:8080/",
          "height": 265
        }
      },
      "source": [
        "plt.figure(figsize=(12,4))\n",
        "plt.subplot(131)\n",
        "plt.plot(history.epoch, history.history[\"loss\"], label=\"Train loss\")\n",
        "plt.plot(history.epoch, history.history[\"val_loss\"], label=\"Valid loss\")\n",
        "plt.legend()\n",
        "plt.subplot(132)\n",
        "plt.plot(history.epoch, history.history[\"accuracy\"], label=\"Train accuracy\")\n",
        "plt.plot(history.epoch, history.history[\"val_accuracy\"], label=\"Valid accuracy\")\n",
        "plt.legend()\n",
        "plt.show()"
      ],
      "execution_count": 151,
      "outputs": [
        {
          "output_type": "display_data",
          "data": {
            "image/png": "[encoded data removed]",
            "text/plain": [
              "<Figure size 864x288 with 2 Axes>"
            ]
          },
          "metadata": {
            "tags": [],
            "needs_background": "light"
          }
        }
      ]
    },
    {
      "cell_type": "markdown",
      "metadata": {
        "id": "eFTlV9Rra1yy",
        "colab_type": "text"
      },
      "source": [
        "#**Model Testing**"
      ]
    },
    {
      "cell_type": "markdown",
      "metadata": {
        "id": "nz8_BQpCb6la",
        "colab_type": "text"
      },
      "source": [
        "**Note** The Model has been tested for few test samples for to see the model predictions and compare with the model training."
      ]
    },
    {
      "cell_type": "code",
      "metadata": {
        "id": "D1tBXnRRQ-9F",
        "colab_type": "code",
        "colab": {}
      },
      "source": [
        "test_gen = Generator(valid_test_patient_Ids[:10], valid_img_path, valid_test_df, batch_size=1, image_size=256, predict=False)"
      ],
      "execution_count": 0,
      "outputs": []
    },
    {
      "cell_type": "code",
      "metadata": {
        "id": "cgLeXWa01M8A",
        "colab_type": "code",
        "colab": {
          "base_uri": "https://localhost:8080/",
          "height": 34
        },
        "outputId": "32453a19-ab1c-4cba-aaec-1b85dbb44e8b"
      },
      "source": [
        "sample_df=valid_test_patient_Ids[:10]\n",
        "sample_df[1:2]"
      ],
      "execution_count": 154,
      "outputs": [
        {
          "output_type": "execute_result",
          "data": {
            "text/plain": [
              "array(['becced78-9df7-4e9a-94c8-7cb750d41507'], dtype=object)"
            ]
          },
          "metadata": {
            "tags": []
          },
          "execution_count": 154
        }
      ]
    },
    {
      "cell_type": "code",
      "metadata": {
        "id": "OB-OdSWHoMbQ",
        "colab_type": "code",
        "colab": {}
      },
      "source": [
        "## Dataset for prediction\n",
        "x, y = test_gen.__getitem__(1)\n",
        "result = model.predict(x)"
      ],
      "execution_count": 0,
      "outputs": []
    },
    {
      "cell_type": "code",
      "metadata": {
        "id": "MFiN6t1YwAxE",
        "colab_type": "code",
        "colab": {
          "base_uri": "https://localhost:8080/",
          "height": 97
        },
        "outputId": "7462aad0-f4eb-4eba-eafc-97bc1f8edb57"
      },
      "source": [
        "valid_test_df[valid_test_df.patientId == 'becced78-9df7-4e9a-94c8-7cb750d41507']"
      ],
      "execution_count": 157,
      "outputs": [
        {
          "output_type": "execute_result",
          "data": {
            "text/html": [
              "<div>\n",
              "<style scoped>\n",
              "    .dataframe tbody tr th:only-of-type {\n",
              "        vertical-align: middle;\n",
              "    }\n",
              "\n",
              "    .dataframe tbody tr th {\n",
              "        vertical-align: top;\n",
              "    }\n",
              "\n",
              "    .dataframe thead th {\n",
              "        text-align: right;\n",
              "    }\n",
              "</style>\n",
              "<table border=\"1\" class=\"dataframe\">\n",
              "  <thead>\n",
              "    <tr style=\"text-align: right;\">\n",
              "      <th></th>\n",
              "      <th>patientId</th>\n",
              "      <th>x</th>\n",
              "      <th>y</th>\n",
              "      <th>width</th>\n",
              "      <th>height</th>\n",
              "      <th>Target</th>\n",
              "      <th>class</th>\n",
              "      <th>PatientAge</th>\n",
              "      <th>PatientSex</th>\n",
              "      <th>ViewPosition</th>\n",
              "    </tr>\n",
              "  </thead>\n",
              "  <tbody>\n",
              "    <tr>\n",
              "      <th>26694</th>\n",
              "      <td>becced78-9df7-4e9a-94c8-7cb750d41507</td>\n",
              "      <td>568.0</td>\n",
              "      <td>119.0</td>\n",
              "      <td>190.0</td>\n",
              "      <td>498.0</td>\n",
              "      <td>1</td>\n",
              "      <td>Lung Opacity</td>\n",
              "      <td>52</td>\n",
              "      <td>F</td>\n",
              "      <td>AP</td>\n",
              "    </tr>\n",
              "  </tbody>\n",
              "</table>\n",
              "</div>"
            ],
            "text/plain": [
              "                                  patientId      x  ...  PatientSex  ViewPosition\n",
              "26694  becced78-9df7-4e9a-94c8-7cb750d41507  568.0  ...           F            AP\n",
              "\n",
              "[1 rows x 10 columns]"
            ]
          },
          "metadata": {
            "tags": []
          },
          "execution_count": 157
        }
      ]
    },
    {
      "cell_type": "code",
      "metadata": {
        "id": "KvfRoBEWoZMB",
        "colab_type": "code",
        "colab": {
          "base_uri": "https://localhost:8080/",
          "height": 157
        },
        "outputId": "7dc320af-44d4-4ea7-bfb9-868c59680082"
      },
      "source": [
        "fig = plt.figure()\n",
        "fig.subplots_adjust(hspace=0.4, wspace=0.4)\n",
        "\n",
        "ax = fig.add_subplot(1, 3, 1)\n",
        "ax.imshow(np.reshape(x[0], (256, 256)), cmap=\"gray\")\n",
        "ax = fig.add_subplot(1, 3, 2)\n",
        "ax.imshow(np.reshape(y[0], (256, 256)), cmap=\"gray\")\n",
        "ax = fig.add_subplot(1, 3, 3)\n",
        "ax.imshow(np.reshape(result[0], (256, 256)), cmap=\"gray\")"
      ],
      "execution_count": 158,
      "outputs": [
        {
          "output_type": "execute_result",
          "data": {
            "text/plain": [
              "<matplotlib.image.AxesImage at 0x7f88c8335c50>"
            ]
          },
          "metadata": {
            "tags": []
          },
          "execution_count": 158
        },
        {
          "output_type": "display_data",
          "data": {
            "image/png": "[encoded data removed]",
            "text/plain": [
              "<Figure size 432x288 with 3 Axes>"
            ]
          },
          "metadata": {
            "tags": [],
            "needs_background": "light"
          }
        }
      ]
    }
  ]
}