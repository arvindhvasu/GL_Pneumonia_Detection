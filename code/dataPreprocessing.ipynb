{
  "nbformat": 4,
  "nbformat_minor": 0,
  "metadata": {
    "colab": {
      "name": "Untitled1.ipynb",
      "provenance": []
    },
    "kernelspec": {
      "name": "python3",
      "display_name": "Python 3"
    }
  },
  "cells": [
    {
      "cell_type": "markdown",
      "metadata": {
        "id": "ucGBjgmLc3Mj",
        "colab_type": "text"
      },
      "source": [
        "#Pre-Processing, Data Visualization, EDA  \n",
        "\n",
        "\n",
        "1.   Exploring the given Data files, classes and images of different classes.\n",
        "2.   Dealing with missing values\n",
        "3.   Visualization of different classes\n",
        "4.   Analysis from the visualization of different classes. "
      ]
    },
    {
      "cell_type": "markdown",
      "metadata": {
        "id": "o4XsqlpE9YOU",
        "colab_type": "text"
      },
      "source": [
        "Problem Statement: Automatically detect Lung Opacities\n",
        "Pre-Processing, Data Visualization, EDA\n",
        "\n",
        "Exploring the given Data files, classes and images of different classes.\n",
        "Dealing with missing values\n",
        "Visualization of different classes\n",
        "Analysis from the visualization of different classes.\n",
        "Model Building\n",
        "\n",
        "Building a pneumonia detection model starting from basic CNN and then improving upon it.\n",
        "Train the model\n",
        "To deal with large training time, save the weights so that you can use them when training the model for the second time without starting from scratch.\n",
        "Test the Model, Fine-tuning and Repeat\n",
        "\n",
        "Test the model and report as per evaluation metrics\n",
        "Try different models\n",
        "Set different hyper parameters, by trying different optimizers, loss functions, epochs, learning rate, batch size, checkpointing, early stopping etc. for these models to fine-tune them\n",
        "Report evaluation metrics for these models along with your observation on how changing different hyper parameters leads to change in the final evaluation metric.\n",
        "May 23/24 - Project approach, and responsibilities sharing\n",
        "\n",
        "May 30/31 - Milestone 1: EDA and Pre-processing\n",
        "Jun 06/07 - Milestone 1: Modelling, Accuracy and Generalization, Interim Report Submission\n",
        "Jun 13/14 - Milestone 2: Interim Report Submission, Model Evaluation, Performance Tuning\n",
        "Jun 20/21 - Milestone 2: Validation of Final Report\n",
        "Jun 27/28 - Milestone 2: Presentation to the Mentor\n",
        "Jul 04/05 - Final Report Submission\n",
        "Goal:¶"
      ]
    },
    {
      "cell_type": "code",
      "metadata": {
        "id": "yZS7iLjG5-HD",
        "colab_type": "code",
        "colab": {}
      },
      "source": [
        ""
      ],
      "execution_count": 0,
      "outputs": []
    },
    {
      "cell_type": "code",
      "metadata": {
        "id": "AaOwscrh7Dvb",
        "colab_type": "code",
        "outputId": "f8b56084-e00f-451c-b75e-48206dcc79b3",
        "colab": {
          "base_uri": "https://localhost:8080/",
          "height": 124
        }
      },
      "source": [
        "from google.colab import drive\n",
        "drive.mount('/content/drive')"
      ],
      "execution_count": 1,
      "outputs": [
        {
          "output_type": "stream",
          "text": [
            "Go to this URL in a browser: https://accounts.google.com/o/oauth2/auth?client_id=947318989803-6bn6qk8qdgf4n4g3pfee6491hc0brc4i.apps.googleusercontent.com&redirect_uri=urn%3aietf%3awg%3aoauth%3a2.0%3aoob&response_type=code&scope=email%20https%3a%2f%2fwww.googleapis.com%2fauth%2fdocs.test%20https%3a%2f%2fwww.googleapis.com%2fauth%2fdrive%20https%3a%2f%2fwww.googleapis.com%2fauth%2fdrive.photos.readonly%20https%3a%2f%2fwww.googleapis.com%2fauth%2fpeopleapi.readonly\n",
            "\n",
            "Enter your authorization code:\n",
            "··········\n",
            "Mounted at /content/drive\n"
          ],
          "name": "stdout"
        }
      ]
    },
    {
      "cell_type": "markdown",
      "metadata": {
        "id": "WJvfAKRI9WOp",
        "colab_type": "text"
      },
      "source": [
        ""
      ]
    },
    {
      "cell_type": "markdown",
      "metadata": {
        "id": "uuXqqkaC6AiI",
        "colab_type": "text"
      },
      "source": [
        ""
      ]
    }
  ]
}