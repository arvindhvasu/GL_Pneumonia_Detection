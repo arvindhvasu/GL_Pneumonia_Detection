{
  "nbformat": 4,
  "nbformat_minor": 0,
  "metadata": {
    "colab": {
      "name": "Untitled1.ipynb",
      "provenance": []
    },
    "kernelspec": {
      "name": "python3",
      "display_name": "Python 3"
    }
  },
  "cells": [
    {
      "cell_type": "markdown",
      "metadata": {
        "id": "ucGBjgmLc3Mj",
        "colab_type": "text"
      },
      "source": [
        "#Pre-Processing, Data Visualization, EDA  \n",
        "\n",
        "\n",
        "1.   Exploring the given Data files, classes and images of different classes.\n",
        "2.   Dealing with missing values\n",
        "3.   Visualization of different classes\n",
        "4.   Analysis from the visualization of different classes. \n",
        "5.   Test change"
      ]
    }
  ]
}