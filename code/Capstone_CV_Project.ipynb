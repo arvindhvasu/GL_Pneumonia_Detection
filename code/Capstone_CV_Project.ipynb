Project Description :

Data Set:

https://www.kaggle.com/c/rsna-pneumonia-detection-challenge/data

Pre-Processing, Data Visualization, EDA

 Exploring the given Data files, classes and images of different classes.
 Dealing with missing values
 Visualization of different classes
 Analysis from the visualization of different classes.

Model Building

 Building a pneumonia detection model starting from basic CNN and then improving upon it.
 Train the model
 To deal with large training time, save the weights so that you can use them when training the model for the second time without starting from scratch.

Test the Model, Fine-tuning and Repeat

 Test the model and report as per evaluation metrics 
 Try different models 
 Set different hyper parameters, by trying different optimizers, loss functions, epochs, learning rate, batch size, checkpointing, early stopping etc. for these models to fine-tune them 
 Report evaluation metrics for these models along with your observation on how changing different hyper parameters leads to change in the final evaluation metric.

Project Objectives

The objective of the project is,

 Learn to how to do build an Object Detection Model
 Use transfer learning to fine-tune a model. 
 Learn to set the optimizers, loss functions, epochs, learning rate, batch size, checkpointing, early stopping etc.
 Read different research papers of given domain to obtain the knowledge of advanced models for the given problem.
