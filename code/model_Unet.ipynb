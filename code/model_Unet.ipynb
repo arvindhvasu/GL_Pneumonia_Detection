{
  "nbformat": 4,
  "nbformat_minor": 0,
  "metadata": {
    "colab": {
      "name": "Untitled1.ipynb",
      "provenance": [],
      "toc_visible": true
    },
    "kernelspec": {
      "name": "python3",
      "display_name": "Python 3"
    }
  },
  "cells": [
    {
      "cell_type": "markdown",
      "metadata": {
        "id": "4HDcJ05LXm1S",
        "colab_type": "text"
      },
      "source": [
        "#**SUMMARY**\n",
        "\n",
        "Filename    : model.ipynb   \n",
        "Description : The file contains logic for creating model\n",
        "\n",
        "Below steps were performed for data preparation,   \n",
        "      1.   Building a pneumonia detection model starting from basic CNN and then   improving upon it.   \n",
        "      2.   Train the model     \n",
        "      3.   To deal with large training time, save the weights so that you can use them when training the model for the second time without starting from scratch.   \n",
        "\n",
        "\n",
        "**Revision History**  \n",
        "Date        ||       Description               ||              Author  \n",
        "07-06-2020   ||   Initial logic for model creation   ||   Arvindh   \n",
        "  \n",
        "\n"
      ]
    },
    {
      "cell_type": "markdown",
      "metadata": {
        "id": "yvhRx5MRYiHa",
        "colab_type": "text"
      },
      "source": [
        "#**Import Libraries**"
      ]
    },
    {
      "cell_type": "code",
      "metadata": {
        "id": "VZ4Jfrc8YSc4",
        "colab_type": "code",
        "colab": {}
      },
      "source": [
        "%tensorflow_version 2.x"
      ],
      "execution_count": 0,
      "outputs": []
    },
    {
      "cell_type": "code",
      "metadata": {
        "id": "KHYQn7IXYSy6",
        "colab_type": "code",
        "outputId": "9df9b3f6-87f2-453d-dd64-09a10bf8cae3",
        "colab": {
          "base_uri": "https://localhost:8080/",
          "height": 34
        }
      },
      "source": [
        "import tensorflow\n",
        "tensorflow.__version__"
      ],
      "execution_count": 2,
      "outputs": [
        {
          "output_type": "execute_result",
          "data": {
            "text/plain": [
              "'2.2.0'"
            ]
          },
          "metadata": {
            "tags": []
          },
          "execution_count": 2
        }
      ]
    },
    {
      "cell_type": "code",
      "metadata": {
        "id": "Sa5yDwoJYbNy",
        "colab_type": "code",
        "outputId": "1b504fbf-98a3-442e-809f-7f2a2b555739",
        "colab": {
          "base_uri": "https://localhost:8080/",
          "height": 71
        }
      },
      "source": [
        "import pandas as pd \n",
        "import numpy as np\n",
        "from seaborn import countplot\n",
        "from matplotlib.pyplot import figure, show\n",
        "import os\n",
        "import matplotlib\n",
        "import matplotlib.pyplot as plt\n",
        "from matplotlib.patches import Rectangle\n",
        "import seaborn as sns"
      ],
      "execution_count": 3,
      "outputs": [
        {
          "output_type": "stream",
          "text": [
            "/usr/local/lib/python3.6/dist-packages/statsmodels/tools/_testing.py:19: FutureWarning: pandas.util.testing is deprecated. Use the functions in the public API at pandas.testing instead.\n",
            "  import pandas.util.testing as tm\n"
          ],
          "name": "stderr"
        }
      ]
    },
    {
      "cell_type": "code",
      "metadata": {
        "id": "Z85yjH-RZRR3",
        "colab_type": "code",
        "outputId": "4cf59598-eeed-450a-a91a-772751938061",
        "colab": {
          "base_uri": "https://localhost:8080/",
          "height": 51
        }
      },
      "source": [
        "!pip3 install pydicom\n",
        "import pydicom\n",
        "import os\n",
        "from skimage.transform import resize\n",
        "import keras\n",
        "import pandas as pd\n",
        "import pickle\n",
        "import cv2"
      ],
      "execution_count": 4,
      "outputs": [
        {
          "output_type": "stream",
          "text": [
            "Requirement already satisfied: pydicom in /usr/local/lib/python3.6/dist-packages (2.0.0)\n"
          ],
          "name": "stdout"
        },
        {
          "output_type": "stream",
          "text": [
            "Using TensorFlow backend.\n"
          ],
          "name": "stderr"
        }
      ]
    },
    {
      "cell_type": "code",
      "metadata": {
        "id": "bQzsbUTrZX_3",
        "colab_type": "code",
        "colab": {}
      },
      "source": [
        "from keras.optimizers import Adam\n",
        "from keras.callbacks import ModelCheckpoint, EarlyStopping, ReduceLROnPlateau"
      ],
      "execution_count": 0,
      "outputs": []
    },
    {
      "cell_type": "markdown",
      "metadata": {
        "id": "Z4EqYTeKYdSy",
        "colab_type": "text"
      },
      "source": [
        "#Mount Google Drive"
      ]
    },
    {
      "cell_type": "code",
      "metadata": {
        "id": "_3vVLc5MYfrr",
        "colab_type": "code",
        "outputId": "44d77e18-c83e-45a0-994d-2a800a4af6ea",
        "colab": {
          "base_uri": "https://localhost:8080/",
          "height": 54
        }
      },
      "source": [
        "from google.colab import drive\n",
        "drive.mount('/content/drive')"
      ],
      "execution_count": 6,
      "outputs": [
        {
          "output_type": "stream",
          "text": [
            "Drive already mounted at /content/drive; to attempt to forcibly remount, call drive.mount(\"/content/drive\", force_remount=True).\n"
          ],
          "name": "stdout"
        }
      ]
    },
    {
      "cell_type": "code",
      "metadata": {
        "id": "io6GZGSFYqdR",
        "colab_type": "code",
        "colab": {}
      },
      "source": [
        "#Set your project path \n",
        "project_path =  'drive/My Drive/Colab Notebooks/Capstone'\n",
        "train_img_path = 'drive/My Drive/Colab Notebooks/Capstone/dataset/stage_2_train_images'\n",
        "valid_img_path = 'drive/My Drive/Colab Notebooks/Capstone/dataset/stage_2_train_images'\n",
        "test_img_path = 'drive/My Drive/Colab Notebooks/Capstone/dataset/stage_2_test_images'"
      ],
      "execution_count": 0,
      "outputs": []
    },
    {
      "cell_type": "code",
      "metadata": {
        "id": "auaGzcAlaYy8",
        "colab_type": "code",
        "colab": {}
      },
      "source": [
        "train_df_pick = \"/train_df_pickle\"\n",
        "valid_df_pick = \"/valid_df_pickle\"\n",
        "\n",
        "# we open the file for reading\n",
        "fileObject = open(project_path+train_df_pick,'rb')  \n",
        "fileObject1 = open(project_path+valid_df_pick,'rb')  \n",
        "\n",
        "# load the object from the file into temp var b\n",
        "train_df = pickle.load(fileObject)  \n",
        "valid_df = pickle.load(fileObject1) "
      ],
      "execution_count": 0,
      "outputs": []
    },
    {
      "cell_type": "code",
      "metadata": {
        "id": "hFWhWGKTi-_7",
        "colab_type": "code",
        "outputId": "258b3dec-2f6e-4a03-8716-6206ea8fe79e",
        "colab": {
          "base_uri": "https://localhost:8080/",
          "height": 34
        }
      },
      "source": [
        "train_patient_Ids = train_df.patientId.unique()\n",
        "print(\"The number of unique patient id in the training dataset is \"+ str(train_patient_Ids.shape[0]))"
      ],
      "execution_count": 9,
      "outputs": [
        {
          "output_type": "stream",
          "text": [
            "The number of unique patient id in the training dataset is 21908\n"
          ],
          "name": "stdout"
        }
      ]
    },
    {
      "cell_type": "code",
      "metadata": {
        "id": "PCNm18Nsjv1B",
        "colab_type": "code",
        "outputId": "e4af3421-23a6-44c2-bf81-ac99f1ff087c",
        "colab": {
          "base_uri": "https://localhost:8080/",
          "height": 34
        }
      },
      "source": [
        "valid_patient_Ids = valid_df.patientId.unique()\n",
        "print(\"The number of unique patient id in the validation dataset is \"+ str(valid_patient_Ids.shape[0]))"
      ],
      "execution_count": 10,
      "outputs": [
        {
          "output_type": "stream",
          "text": [
            "The number of unique patient id in the validation dataset is 5914\n"
          ],
          "name": "stdout"
        }
      ]
    },
    {
      "cell_type": "markdown",
      "metadata": {
        "id": "ZATT1GkQblKx",
        "colab_type": "text"
      },
      "source": [
        "#Custom Data generator"
      ]
    },
    {
      "cell_type": "code",
      "metadata": {
        "id": "2V_4EBVvbjta",
        "colab_type": "code",
        "colab": {}
      },
      "source": [
        "class Generator(keras.utils.Sequence):\n",
        "  def __init__(self, unique_patient_ids, folder, dataframe, batch_size=100, shuffle=False, image_size=256, predict=False):\n",
        "        self.unique_patient_ids = unique_patient_ids\n",
        "        self.folder = folder\n",
        "        self.dataframe = dataframe\n",
        "        self.batch_size = batch_size\n",
        "        self.shuffle = shuffle\n",
        "        self.image_size = image_size\n",
        "        self.predict = predict\n",
        "        self.on_epoch_end()\n",
        "   \n",
        "  def __load__(self, pat_id):\n",
        "        patIdWithExt = pat_id+'.dcm'\n",
        "        # load dicom file from pixel array\n",
        "        img = pydicom.dcmread(os.path.join(self.folder, patIdWithExt)).pixel_array\n",
        "        # create empty array\n",
        "        msk = np.zeros(img.shape) \n",
        "        \n",
        "        if pat_id in self.dataframe[\"patientId\"].values:\n",
        "            pat_info = self.dataframe[self.dataframe.patientId == pat_id]\n",
        "\n",
        "            # loop through patient rows in the df\n",
        "            for info in pat_info.iterrows():\n",
        "                row = info[1]\n",
        "                if row.Target == 1:\n",
        "                    x = int(row.x)\n",
        "                    y = int(row.y)\n",
        "                    msk[y: int(row.y) + int(row.height), x: int(row.x) + int(row.width)] = 1 \n",
        "      \n",
        "        img = cv2.resize(img, (self.image_size, self.image_size))\n",
        "        msk = cv2.resize(msk, (self.image_size, self.image_size))\n",
        "        img = np.expand_dims(img, -1)\n",
        "        msk = np.expand_dims(msk, -1)   \n",
        "\n",
        "        #img2 = np.concatenate((img,)*3, axis=-1) \n",
        "        #msk2 = np.concatenate((msk,)*3, axis=-1)\n",
        "        return img, msk\n",
        "\n",
        "  def __loadpredict__(self, pat_id):\n",
        "        patIdWithExt = pat_id\n",
        "        # load dicom file from pixel array\n",
        "        img = pydicom.dcmread(os.path.join(self.folder, patIdWithExt)).pixel_array\n",
        "        # resize image\n",
        "        img = resize(img, (self.image_size, self.image_size), mode='reflect')\n",
        "        # add trailing channel dimension\n",
        "        img = np.expand_dims(img, -1)\n",
        "        return img\n",
        "\n",
        "  def __getitem__(self, index):\n",
        "        if self.predict:\n",
        "            # load files\n",
        "            imgs = [self.__loadpredict__(pat_id_row) for pat_id_row in self.unique_patient_ids]\n",
        "            # create numpy batch\n",
        "            imgs = np.array(imgs)\n",
        "            return imgs, self.unique_patient_ids\n",
        "        else:    \n",
        "            # select pat_ids by batches\n",
        "            batch_pat_ids = self.unique_patient_ids[index*self.batch_size : (index+1)*self.batch_size]\n",
        "\n",
        "            # load pat ids by loop\n",
        "            items = [self.__load__(pat_id_row) for pat_id_row in batch_pat_ids]\n",
        "            imgs, msks = zip(*items)\n",
        "\n",
        "            # create numpy batch\n",
        "            imgs = np.array(imgs)\n",
        "            msks = np.array(msks)\n",
        "        return imgs, msks\n",
        "\n",
        "  def __len__(self):\n",
        "        if self.predict:\n",
        "            return int(np.ceil(len(self.unique_patient_ids) / self.batch_size))\n",
        "        else:\n",
        "            # __len__ provides number of batches per epoch\n",
        "            return int(np.floor(self.unique_patient_ids.shape[0] / self.batch_size))\n",
        "\n",
        "  def on_epoch_end(self):\n",
        "        if self.predict:\n",
        "            self.indexes = np.arange(len(self.unique_patient_ids))\n",
        "        else:\n",
        "            self.indexes = np.arange(self.unique_patient_ids.shape[0])\n",
        "        if self.shuffle == True:\n",
        "              np.random.shuffle(self.indexes)"
      ],
      "execution_count": 0,
      "outputs": []
    },
    {
      "cell_type": "code",
      "metadata": {
        "id": "Ti1eu2kpoC21",
        "colab_type": "code",
        "colab": {}
      },
      "source": [
        "#To be used finally\n",
        "#train_gen = Generator(train_patient_Ids, train_img_path, train_df, batch_size=32, shuffle=False, image_size=256)\n",
        "#valid_gen = Generator(valid_patient_Ids, valid_img_path, valid_df, batch_size=32, shuffle=False, image_size=256)"
      ],
      "execution_count": 0,
      "outputs": []
    },
    {
      "cell_type": "code",
      "metadata": {
        "id": "CIElaIRStJWY",
        "colab_type": "code",
        "colab": {}
      },
      "source": [
        "train_gen = Generator(train_patient_Ids[:300], train_img_path, train_df, batch_size=50, shuffle=False, image_size=256)\n",
        "valid_gen = Generator(valid_patient_Ids[:150], valid_img_path, valid_df, batch_size=50, shuffle=False, image_size=256)"
      ],
      "execution_count": 0,
      "outputs": []
    },
    {
      "cell_type": "code",
      "metadata": {
        "id": "AmIpVBzOrDYW",
        "colab_type": "code",
        "colab": {}
      },
      "source": [
        "def create_downsample(filters, inputs):\n",
        "    x = keras.layers.BatchNormalization(momentum=0.9)(inputs)\n",
        "    x = keras.layers.LeakyReLU(0)(x)\n",
        "    x = keras.layers.Conv2D(filters, 3, padding='same', use_bias=False)(x)\n",
        "    x = keras.layers.MaxPool2D(2)(x)\n",
        "    return x\n",
        "\n",
        "def create_cnn_model(input_size, depth):\n",
        "  inputs = keras.Input(shape=(input_size, input_size, 1))\n",
        "  x = keras.layers.Conv2D(32, 3, padding='same', use_bias=False)(inputs)\n",
        "\n",
        "  filters = 32\n",
        "  for d in range(depth):\n",
        "        filters = filters * 2\n",
        "        x = create_downsample(filters, x)\n",
        "  \n",
        "  x = keras.layers.BatchNormalization(momentum=0.9)(x)\n",
        "  x = keras.layers.LeakyReLU(0)(x)\n",
        "  x = keras.layers.Conv2D(1, 1, activation='sigmoid')(x)\n",
        "  outputs = keras.layers.UpSampling2D(2**depth)(x)\n",
        "  model = keras.Model(inputs=inputs, outputs=outputs)\n",
        "  return model"
      ],
      "execution_count": 0,
      "outputs": []
    },
    {
      "cell_type": "code",
      "metadata": {
        "id": "KlFhqvjFugKI",
        "colab_type": "code",
        "outputId": "29a936ec-2ad0-48f4-df9c-b9b20e8bdc3b",
        "colab": {
          "base_uri": "https://localhost:8080/",
          "height": 901
        }
      },
      "source": [
        "model = create_cnn_model(input_size=256, depth= 4)\n",
        "model.compile(optimizer='adam',loss='binary_crossentropy',\n",
        "              metrics=['accuracy', tensorflow.keras.metrics.MeanIoU(num_classes=2)])\n",
        "\n",
        "checkpoint = ModelCheckpoint(\"model_1.h5\", monitor=\"val_loss\", verbose=1, save_best_only=True,\n",
        "                             save_weights_only=True, mode=\"auto\", period=1)\n",
        "stop = EarlyStopping(monitor=\"val_loss\", patience=10, mode=\"auto\")\n",
        "reduce_lr = ReduceLROnPlateau(monitor=\"val_loss\", factor=0.2, patience=5, min_lr=1e-6, verbose=1, mode=\"auto\")\n",
        "model.summary()"
      ],
      "execution_count": 15,
      "outputs": [
        {
          "output_type": "stream",
          "text": [
            "Model: \"model_1\"\n",
            "_________________________________________________________________\n",
            "Layer (type)                 Output Shape              Param #   \n",
            "=================================================================\n",
            "input_1 (InputLayer)         (None, 256, 256, 1)       0         \n",
            "_________________________________________________________________\n",
            "conv2d_1 (Conv2D)            (None, 256, 256, 32)      288       \n",
            "_________________________________________________________________\n",
            "batch_normalization_1 (Batch (None, 256, 256, 32)      128       \n",
            "_________________________________________________________________\n",
            "leaky_re_lu_1 (LeakyReLU)    (None, 256, 256, 32)      0         \n",
            "_________________________________________________________________\n",
            "conv2d_2 (Conv2D)            (None, 256, 256, 64)      18432     \n",
            "_________________________________________________________________\n",
            "max_pooling2d_1 (MaxPooling2 (None, 128, 128, 64)      0         \n",
            "_________________________________________________________________\n",
            "batch_normalization_2 (Batch (None, 128, 128, 64)      256       \n",
            "_________________________________________________________________\n",
            "leaky_re_lu_2 (LeakyReLU)    (None, 128, 128, 64)      0         \n",
            "_________________________________________________________________\n",
            "conv2d_3 (Conv2D)            (None, 128, 128, 128)     73728     \n",
            "_________________________________________________________________\n",
            "max_pooling2d_2 (MaxPooling2 (None, 64, 64, 128)       0         \n",
            "_________________________________________________________________\n",
            "batch_normalization_3 (Batch (None, 64, 64, 128)       512       \n",
            "_________________________________________________________________\n",
            "leaky_re_lu_3 (LeakyReLU)    (None, 64, 64, 128)       0         \n",
            "_________________________________________________________________\n",
            "conv2d_4 (Conv2D)            (None, 64, 64, 256)       294912    \n",
            "_________________________________________________________________\n",
            "max_pooling2d_3 (MaxPooling2 (None, 32, 32, 256)       0         \n",
            "_________________________________________________________________\n",
            "batch_normalization_4 (Batch (None, 32, 32, 256)       1024      \n",
            "_________________________________________________________________\n",
            "leaky_re_lu_4 (LeakyReLU)    (None, 32, 32, 256)       0         \n",
            "_________________________________________________________________\n",
            "conv2d_5 (Conv2D)            (None, 32, 32, 512)       1179648   \n",
            "_________________________________________________________________\n",
            "max_pooling2d_4 (MaxPooling2 (None, 16, 16, 512)       0         \n",
            "_________________________________________________________________\n",
            "batch_normalization_5 (Batch (None, 16, 16, 512)       2048      \n",
            "_________________________________________________________________\n",
            "leaky_re_lu_5 (LeakyReLU)    (None, 16, 16, 512)       0         \n",
            "_________________________________________________________________\n",
            "conv2d_6 (Conv2D)            (None, 16, 16, 1)         513       \n",
            "_________________________________________________________________\n",
            "up_sampling2d_1 (UpSampling2 (None, 256, 256, 1)       0         \n",
            "=================================================================\n",
            "Total params: 1,571,489\n",
            "Trainable params: 1,569,505\n",
            "Non-trainable params: 1,984\n",
            "_________________________________________________________________\n"
          ],
          "name": "stdout"
        }
      ]
    },
    {
      "cell_type": "code",
      "metadata": {
        "id": "5yALWJUJo3rj",
        "colab_type": "code",
        "outputId": "b80d8fb9-cf75-4167-98eb-89f75a8af5a9",
        "colab": {
          "base_uri": "https://localhost:8080/",
          "height": 309
        }
      },
      "source": [
        "history = model.fit_generator(train_gen, \n",
        "                              validation_data=valid_gen, \n",
        "                              callbacks=[checkpoint, reduce_lr, stop],\n",
        "                              epochs=4, \n",
        "                              workers=1, \n",
        "                              steps_per_epoch=len(train_gen),\n",
        "                              validation_steps= len(valid_gen),\n",
        "                              use_multiprocessing=False)"
      ],
      "execution_count": 16,
      "outputs": [
        {
          "output_type": "stream",
          "text": [
            "Epoch 1/4\n",
            "6/6 [==============================] - 248s 41s/step - loss: 0.5604 - accuracy: 0.8454 - mean_io_u: 0.4786 - val_loss: 0.1302 - val_accuracy: 0.9713 - val_mean_io_u: 0.4796\n",
            "\n",
            "Epoch 00001: val_loss improved from inf to 0.13017, saving model to model_1.h5\n",
            "Epoch 2/4\n",
            "6/6 [==============================] - 235s 39s/step - loss: 0.1791 - accuracy: 0.9573 - mean_io_u: 0.4800 - val_loss: 0.1096 - val_accuracy: 0.9747 - val_mean_io_u: 0.4812\n",
            "\n",
            "Epoch 00002: val_loss improved from 0.13017 to 0.10959, saving model to model_1.h5\n",
            "Epoch 3/4\n",
            "6/6 [==============================] - 235s 39s/step - loss: 0.1584 - accuracy: 0.9592 - mean_io_u: 0.4813 - val_loss: 0.1052 - val_accuracy: 0.9747 - val_mean_io_u: 0.4816\n",
            "\n",
            "Epoch 00003: val_loss improved from 0.10959 to 0.10523, saving model to model_1.h5\n",
            "Epoch 4/4\n",
            "6/6 [==============================] - 233s 39s/step - loss: 0.1490 - accuracy: 0.9593 - mean_io_u: 0.4814 - val_loss: 0.0949 - val_accuracy: 0.9747 - val_mean_io_u: 0.4818\n",
            "\n",
            "Epoch 00004: val_loss improved from 0.10523 to 0.09490, saving model to model_1.h5\n"
          ],
          "name": "stdout"
        }
      ]
    },
    {
      "cell_type": "code",
      "metadata": {
        "id": "jdP8GHAd_T8G",
        "colab_type": "code",
        "outputId": "e65ea056-ac2d-4c90-ef68-4912d93b0a07",
        "colab": {
          "base_uri": "https://localhost:8080/",
          "height": 268
        }
      },
      "source": [
        "plt.figure(figsize=(12,4))\n",
        "plt.subplot(131)\n",
        "plt.plot(history.epoch, history.history[\"loss\"], label=\"Train loss\")\n",
        "plt.plot(history.epoch, history.history[\"val_loss\"], label=\"Valid loss\")\n",
        "plt.legend()\n",
        "plt.subplot(132)\n",
        "plt.plot(history.epoch, history.history[\"accuracy\"], label=\"Train accuracy\")\n",
        "plt.plot(history.epoch, history.history[\"val_accuracy\"], label=\"Valid accuracy\")\n",
        "plt.legend()\n",
        "plt.show()"
      ],
      "execution_count": 17,
      "outputs": [
        {
          "output_type": "display_data",
          "data": {
            "image/png": "[encoded data removed]",
            "text/plain": [
              "<Figure size 864x288 with 2 Axes>"
            ]
          },
          "metadata": {
            "tags": [],
            "needs_background": "light"
          }
        }
      ]
    },
    {
      "cell_type": "code",
      "metadata": {
        "id": "XbOF6U0NkyN5",
        "colab_type": "code",
        "colab": {}
      },
      "source": [
        "model_eval = model.evaluate_generator(generator=valid_gen,\n",
        "steps=len(valid_gen))"
      ],
      "execution_count": 0,
      "outputs": []
    },
    {
      "cell_type": "code",
      "metadata": {
        "id": "38U-D36qQREx",
        "colab_type": "code",
        "outputId": "3dc54428-1e87-4d41-ecf9-4905d20807fa",
        "colab": {
          "base_uri": "https://localhost:8080/",
          "height": 34
        }
      },
      "source": [
        "test_filenames = os.listdir(test_img_path)\n",
        "print('n test samples:', len(test_filenames))"
      ],
      "execution_count": 19,
      "outputs": [
        {
          "output_type": "stream",
          "text": [
            "n test samples: 3000\n"
          ],
          "name": "stdout"
        }
      ]
    },
    {
      "cell_type": "markdown",
      "metadata": {
        "id": "eFTlV9Rra1yy",
        "colab_type": "text"
      },
      "source": [
        "#Test dataset"
      ]
    },
    {
      "cell_type": "code",
      "metadata": {
        "id": "D1tBXnRRQ-9F",
        "colab_type": "code",
        "colab": {}
      },
      "source": [
        "test_gen = Generator(test_filenames[:100], test_img_path, valid_df, batch_size=50, shuffle=False, image_size=256, predict=True)"
      ],
      "execution_count": 0,
      "outputs": []
    },
    {
      "cell_type": "code",
      "metadata": {
        "id": "7gCFHK7Zl3U_",
        "colab_type": "code",
        "colab": {
          "base_uri": "https://localhost:8080/",
          "height": 34
        },
        "outputId": "df30be37-7cc3-465a-f571-f0f5f6ad983b"
      },
      "source": [
        "STEP_SIZE_TEST=len(test_gen)//test_gen.batch_size\n",
        "pred=model.predict_generator(test_gen,\n",
        "steps=len(test_gen),\n",
        "verbose=1)"
      ],
      "execution_count": 27,
      "outputs": [
        {
          "output_type": "stream",
          "text": [
            "2/2 [==============================] - 85s 43s/step\n"
          ],
          "name": "stdout"
        }
      ]
    },
    {
      "cell_type": "code",
      "metadata": {
        "id": "53GL7NR9mT1B",
        "colab_type": "code",
        "colab": {}
      },
      "source": [
        "predicted_class_indices=np.argmax(pred, axis=1)"
      ],
      "execution_count": 0,
      "outputs": []
    },
    {
      "cell_type": "code",
      "metadata": {
        "id": "Ad7nAf0Sul9H",
        "colab_type": "code",
        "colab": {
          "base_uri": "https://localhost:8080/",
          "height": 34
        },
        "outputId": "5ecd6c42-d2dc-4be1-fd86-469c0dfba331"
      },
      "source": [
        "predicted_class_indices.shape"
      ],
      "execution_count": 35,
      "outputs": [
        {
          "output_type": "execute_result",
          "data": {
            "text/plain": [
              "(200, 256, 1)"
            ]
          },
          "metadata": {
            "tags": []
          },
          "execution_count": 35
        }
      ]
    }
  ]
}