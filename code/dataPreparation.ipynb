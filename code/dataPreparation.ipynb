{
  "nbformat": 4,
  "nbformat_minor": 0,
  "metadata": {
    "colab": {
      "name": "dataPreparation.ipynb",
      "provenance": [],
      "toc_visible": true
    },
    "kernelspec": {
      "name": "python3",
      "display_name": "Python 3"
    }
  },
  "cells": [
    {
      "cell_type": "markdown",
      "metadata": {
        "id": "QOkjUarjv8uu",
        "colab_type": "text"
      },
      "source": [
        "#**SUMMARY**\n",
        "\n",
        "Filename    : dataPreparation.ipynb   \n",
        "Description : The file contains logic for preparing the train and test datasets\n",
        "\n",
        "Below steps were performed for data preparation,   \n",
        "      1.   Using sklearn.model_selection - train_test_split function split the result dataframe into 80-20.  \n",
        "      2.   Analyse the trin and test dataframe  \n",
        "      3.   Balance out the Train dataframe based on the dataframe classes.  \n",
        "      4.   Extract the final train and test dataframe into pickle files.\n",
        "\n",
        "\n",
        "**Revision History**  \n",
        "Date        ||       Description               ||              Author  \n",
        "03-06-2020   ||   Initial logic for data preparation   ||   Arvindh   \n",
        "  \n",
        "\n"
      ]
    },
    {
      "cell_type": "markdown",
      "metadata": {
        "id": "7y3LJKvi1A5G",
        "colab_type": "text"
      },
      "source": [
        "#**Import Libraries**"
      ]
    },
    {
      "cell_type": "code",
      "metadata": {
        "id": "axoQ0I4bw_px",
        "colab_type": "code",
        "colab": {}
      },
      "source": [
        "%tensorflow_version 2.x"
      ],
      "execution_count": 0,
      "outputs": []
    },
    {
      "cell_type": "code",
      "metadata": {
        "id": "1PbxKo1MxHaV",
        "colab_type": "code",
        "colab": {
          "base_uri": "https://localhost:8080/",
          "height": 34
        },
        "outputId": "a35d3bcc-5e98-4296-9657-5a59c5a9559f"
      },
      "source": [
        "import tensorflow\n",
        "tensorflow.__version__"
      ],
      "execution_count": 2,
      "outputs": [
        {
          "output_type": "execute_result",
          "data": {
            "text/plain": [
              "'2.2.0'"
            ]
          },
          "metadata": {
            "tags": []
          },
          "execution_count": 2
        }
      ]
    },
    {
      "cell_type": "code",
      "metadata": {
        "id": "u9ThRgyPxJeB",
        "colab_type": "code",
        "colab": {
          "base_uri": "https://localhost:8080/",
          "height": 71
        },
        "outputId": "0efb0fb4-e4c2-4203-c315-601dbe5224e3"
      },
      "source": [
        "import pandas as pd \n",
        "import numpy as np\n",
        "from seaborn import countplot\n",
        "from matplotlib.pyplot import figure, show\n",
        "import os\n",
        "\n",
        "import matplotlib\n",
        "import matplotlib.pyplot as plt\n",
        "from matplotlib.patches import Rectangle\n",
        "import seaborn as sns"
      ],
      "execution_count": 3,
      "outputs": [
        {
          "output_type": "stream",
          "text": [
            "/usr/local/lib/python3.6/dist-packages/statsmodels/tools/_testing.py:19: FutureWarning: pandas.util.testing is deprecated. Use the functions in the public API at pandas.testing instead.\n",
            "  import pandas.util.testing as tm\n"
          ],
          "name": "stderr"
        }
      ]
    },
    {
      "cell_type": "markdown",
      "metadata": {
        "id": "Tqr8GMmoxRvI",
        "colab_type": "text"
      },
      "source": [
        "#Mount Google Drive"
      ]
    },
    {
      "cell_type": "code",
      "metadata": {
        "id": "XRCn65m1xUSV",
        "colab_type": "code",
        "colab": {
          "base_uri": "https://localhost:8080/",
          "height": 122
        },
        "outputId": "01d0d2aa-6112-4aa3-aac7-56e12bbbcfef"
      },
      "source": [
        "from google.colab import drive\n",
        "drive.mount('/content/drive')"
      ],
      "execution_count": 4,
      "outputs": [
        {
          "output_type": "stream",
          "text": [
            "Go to this URL in a browser: https://accounts.google.com/o/oauth2/auth?client_id=947318989803-6bn6qk8qdgf4n4g3pfee6491hc0brc4i.apps.googleusercontent.com&redirect_uri=urn%3aietf%3awg%3aoauth%3a2.0%3aoob&response_type=code&scope=email%20https%3a%2f%2fwww.googleapis.com%2fauth%2fdocs.test%20https%3a%2f%2fwww.googleapis.com%2fauth%2fdrive%20https%3a%2f%2fwww.googleapis.com%2fauth%2fdrive.photos.readonly%20https%3a%2f%2fwww.googleapis.com%2fauth%2fpeopleapi.readonly\n",
            "\n",
            "Enter your authorization code:\n",
            "··········\n",
            "Mounted at /content/drive\n"
          ],
          "name": "stdout"
        }
      ]
    },
    {
      "cell_type": "code",
      "metadata": {
        "id": "8foOjVPixWTV",
        "colab_type": "code",
        "colab": {}
      },
      "source": [
        "#Set your project path \n",
        "project_path =  'drive/My Drive/Colab Notebooks/Capstone'"
      ],
      "execution_count": 0,
      "outputs": []
    },
    {
      "cell_type": "markdown",
      "metadata": {
        "id": "DrNRwpLF1KOw",
        "colab_type": "text"
      },
      "source": [
        "#**Import Tain Class dataframe from the pickle file**"
      ]
    },
    {
      "cell_type": "code",
      "metadata": {
        "id": "HB78BzwJyP2I",
        "colab_type": "code",
        "colab": {}
      },
      "source": [
        "import pickle\n",
        "\n",
        "file_Name = \"/train_class_df_pickle\""
      ],
      "execution_count": 0,
      "outputs": []
    },
    {
      "cell_type": "code",
      "metadata": {
        "id": "EcMWmrPlyTl4",
        "colab_type": "code",
        "colab": {
          "base_uri": "https://localhost:8080/",
          "height": 289
        },
        "outputId": "a889e8e0-8c5b-43c5-f02b-414006ccc037"
      },
      "source": [
        "# we open the file for reading\n",
        "fileObject = open(project_path+file_Name,'rb')  \n",
        "# load the object from the file into temp var b\n",
        "train_class_df_pick = pickle.load(fileObject)  \n",
        "train_class_df_pick.head(5)"
      ],
      "execution_count": 7,
      "outputs": [
        {
          "output_type": "execute_result",
          "data": {
            "text/html": [
              "<div>\n",
              "<style scoped>\n",
              "    .dataframe tbody tr th:only-of-type {\n",
              "        vertical-align: middle;\n",
              "    }\n",
              "\n",
              "    .dataframe tbody tr th {\n",
              "        vertical-align: top;\n",
              "    }\n",
              "\n",
              "    .dataframe thead th {\n",
              "        text-align: right;\n",
              "    }\n",
              "</style>\n",
              "<table border=\"1\" class=\"dataframe\">\n",
              "  <thead>\n",
              "    <tr style=\"text-align: right;\">\n",
              "      <th></th>\n",
              "      <th>patientId</th>\n",
              "      <th>x</th>\n",
              "      <th>y</th>\n",
              "      <th>width</th>\n",
              "      <th>height</th>\n",
              "      <th>Target</th>\n",
              "      <th>class</th>\n",
              "      <th>PatientAge</th>\n",
              "      <th>PatientSex</th>\n",
              "      <th>ViewPosition</th>\n",
              "    </tr>\n",
              "  </thead>\n",
              "  <tbody>\n",
              "    <tr>\n",
              "      <th>0</th>\n",
              "      <td>0004cfab-14fd-4e49-80ba-63a80b6bddd6</td>\n",
              "      <td>NaN</td>\n",
              "      <td>NaN</td>\n",
              "      <td>NaN</td>\n",
              "      <td>NaN</td>\n",
              "      <td>0</td>\n",
              "      <td>No Lung Opacity / Not Normal</td>\n",
              "      <td>51</td>\n",
              "      <td>F</td>\n",
              "      <td>PA</td>\n",
              "    </tr>\n",
              "    <tr>\n",
              "      <th>1</th>\n",
              "      <td>00313ee0-9eaa-42f4-b0ab-c148ed3241cd</td>\n",
              "      <td>NaN</td>\n",
              "      <td>NaN</td>\n",
              "      <td>NaN</td>\n",
              "      <td>NaN</td>\n",
              "      <td>0</td>\n",
              "      <td>No Lung Opacity / Not Normal</td>\n",
              "      <td>48</td>\n",
              "      <td>F</td>\n",
              "      <td>PA</td>\n",
              "    </tr>\n",
              "    <tr>\n",
              "      <th>2</th>\n",
              "      <td>00322d4d-1c29-4943-afc9-b6754be640eb</td>\n",
              "      <td>NaN</td>\n",
              "      <td>NaN</td>\n",
              "      <td>NaN</td>\n",
              "      <td>NaN</td>\n",
              "      <td>0</td>\n",
              "      <td>No Lung Opacity / Not Normal</td>\n",
              "      <td>19</td>\n",
              "      <td>M</td>\n",
              "      <td>AP</td>\n",
              "    </tr>\n",
              "    <tr>\n",
              "      <th>3</th>\n",
              "      <td>003d8fa0-6bf1-40ed-b54c-ac657f8495c5</td>\n",
              "      <td>NaN</td>\n",
              "      <td>NaN</td>\n",
              "      <td>NaN</td>\n",
              "      <td>NaN</td>\n",
              "      <td>0</td>\n",
              "      <td>Normal</td>\n",
              "      <td>28</td>\n",
              "      <td>M</td>\n",
              "      <td>PA</td>\n",
              "    </tr>\n",
              "    <tr>\n",
              "      <th>4</th>\n",
              "      <td>00436515-870c-4b36-a041-de91049b9ab4</td>\n",
              "      <td>264.0</td>\n",
              "      <td>152.0</td>\n",
              "      <td>213.0</td>\n",
              "      <td>379.0</td>\n",
              "      <td>1</td>\n",
              "      <td>Lung Opacity</td>\n",
              "      <td>32</td>\n",
              "      <td>F</td>\n",
              "      <td>AP</td>\n",
              "    </tr>\n",
              "  </tbody>\n",
              "</table>\n",
              "</div>"
            ],
            "text/plain": [
              "                              patientId      x  ...  PatientSex  ViewPosition\n",
              "0  0004cfab-14fd-4e49-80ba-63a80b6bddd6    NaN  ...           F            PA\n",
              "1  00313ee0-9eaa-42f4-b0ab-c148ed3241cd    NaN  ...           F            PA\n",
              "2  00322d4d-1c29-4943-afc9-b6754be640eb    NaN  ...           M            AP\n",
              "3  003d8fa0-6bf1-40ed-b54c-ac657f8495c5    NaN  ...           M            PA\n",
              "4  00436515-870c-4b36-a041-de91049b9ab4  264.0  ...           F            AP\n",
              "\n",
              "[5 rows x 10 columns]"
            ]
          },
          "metadata": {
            "tags": []
          },
          "execution_count": 7
        }
      ]
    },
    {
      "cell_type": "code",
      "metadata": {
        "id": "_PnUDZP3ybaP",
        "colab_type": "code",
        "colab": {
          "base_uri": "https://localhost:8080/",
          "height": 306
        },
        "outputId": "0a365ada-68cd-4bae-ed69-d4537d34c12f"
      },
      "source": [
        "train_class_df_pick.info()"
      ],
      "execution_count": 9,
      "outputs": [
        {
          "output_type": "stream",
          "text": [
            "<class 'pandas.core.frame.DataFrame'>\n",
            "Int64Index: 30227 entries, 0 to 37627\n",
            "Data columns (total 10 columns):\n",
            " #   Column        Non-Null Count  Dtype  \n",
            "---  ------        --------------  -----  \n",
            " 0   patientId     30227 non-null  object \n",
            " 1   x             9555 non-null   float64\n",
            " 2   y             9555 non-null   float64\n",
            " 3   width         9555 non-null   float64\n",
            " 4   height        9555 non-null   float64\n",
            " 5   Target        30227 non-null  int64  \n",
            " 6   class         30227 non-null  object \n",
            " 7   PatientAge    30227 non-null  object \n",
            " 8   PatientSex    30227 non-null  object \n",
            " 9   ViewPosition  30227 non-null  object \n",
            "dtypes: float64(4), int64(1), object(5)\n",
            "memory usage: 2.5+ MB\n"
          ],
          "name": "stdout"
        }
      ]
    },
    {
      "cell_type": "markdown",
      "metadata": {
        "id": "vR9HJV281VJS",
        "colab_type": "text"
      },
      "source": [
        "#**Train & Test Split**"
      ]
    },
    {
      "cell_type": "code",
      "metadata": {
        "id": "sERUrcgOymM_",
        "colab_type": "code",
        "colab": {
          "base_uri": "https://localhost:8080/",
          "height": 51
        },
        "outputId": "c736f282-4520-409d-d0ea-253d4c73ddf0"
      },
      "source": [
        "from sklearn.model_selection import train_test_split\n",
        "train_df, valid_df = train_test_split(train_class_df_pick, test_size=0.20,\n",
        "                                    stratify=train_class_df_pick['class'])\n",
        "print(train_df.shape, 'training data')\n",
        "print(valid_df.shape, 'validation data')"
      ],
      "execution_count": 10,
      "outputs": [
        {
          "output_type": "stream",
          "text": [
            "(24181, 10) training data\n",
            "(6046, 10) validation data\n"
          ],
          "name": "stdout"
        }
      ]
    },
    {
      "cell_type": "markdown",
      "metadata": {
        "id": "y1DbkU2Y1Z6_",
        "colab_type": "text"
      },
      "source": [
        "Note: The final dataframe  with 30227 rows from the EDA has been used for spliting the train and test dataframes in the ratio of 80:20 based on the property 'class'.\n",
        "\n",
        "**Training dataframe has 24181 rows of data.**   \n",
        "**Validation dataframe has 6046 rows of data.**  "
      ]
    },
    {
      "cell_type": "markdown",
      "metadata": {
        "id": "TpFvG26l2Z2r",
        "colab_type": "text"
      },
      "source": [
        "# Lets check the distribution of 'Target' property over the 'class' property in both train and validation dataframes."
      ]
    },
    {
      "cell_type": "code",
      "metadata": {
        "id": "AA_7q_yNynxv",
        "colab_type": "code",
        "colab": {
          "base_uri": "https://localhost:8080/",
          "height": 404
        },
        "outputId": "fe90d447-9f9b-4416-ca2c-bd176e9d79f8"
      },
      "source": [
        "fig, (ax1, ax2) = plt.subplots(1, 2, figsize = (15, 6))\n",
        "ax1.set_title(\"Training set\")\n",
        "ax2.set_title(\"Validation set\")\n",
        "countplot(data=train_df,x=\"Target\", hue=\"class\", ax= ax1)\n",
        "countplot(data=valid_df,x=\"Target\", hue=\"class\", ax= ax2)\n",
        "show()"
      ],
      "execution_count": 11,
      "outputs": [
        {
          "output_type": "display_data",
          "data": {
            "image/png": "[encoded data removed]",
            "text/plain": [
              "<Figure size 1080x432 with 2 Axes>"
            ]
          },
          "metadata": {
            "tags": [],
            "needs_background": "light"
          }
        }
      ]
    },
    {
      "cell_type": "markdown",
      "metadata": {
        "id": "9HDsL-D_2u_s",
        "colab_type": "text"
      },
      "source": [
        "# Lets check the distribution of 'PatientSex' property over the 'class' property in both train and validation dataframes."
      ]
    },
    {
      "cell_type": "code",
      "metadata": {
        "id": "fd8CcMyhypb5",
        "colab_type": "code",
        "colab": {
          "base_uri": "https://localhost:8080/",
          "height": 404
        },
        "outputId": "4dae0255-7ffb-40ee-f873-c1f75ebb7a99"
      },
      "source": [
        "fig, (ax1, ax2) = plt.subplots(1, 2, figsize = (15, 6))\n",
        "ax1.set_title(\"Training set\")\n",
        "ax2.set_title(\"Validation set\")\n",
        "countplot(data=train_df,x=\"PatientSex\", hue=\"class\", ax= ax1)\n",
        "countplot(data=valid_df,x=\"PatientSex\", hue=\"class\", ax= ax2)\n",
        "show()"
      ],
      "execution_count": 12,
      "outputs": [
        {
          "output_type": "display_data",
          "data": {
            "image/png": "[encoded data removed]",
            "text/plain": [
              "<Figure size 1080x432 with 2 Axes>"
            ]
          },
          "metadata": {
            "tags": [],
            "needs_background": "light"
          }
        }
      ]
    },
    {
      "cell_type": "markdown",
      "metadata": {
        "id": "gXMiNEAr25RD",
        "colab_type": "text"
      },
      "source": [
        "Note: The result of two countplots describes that there is unbalanced data with respect to the corresponding categories."
      ]
    },
    {
      "cell_type": "markdown",
      "metadata": {
        "id": "lle-oQA83f4h",
        "colab_type": "text"
      },
      "source": [
        "#**Balance the data samples in training dataframe**"
      ]
    },
    {
      "cell_type": "code",
      "metadata": {
        "id": "0nw_bIub3e9h",
        "colab_type": "code",
        "colab": {}
      },
      "source": [
        "TEST_SAMPLES = 21000"
      ],
      "execution_count": 0,
      "outputs": []
    },
    {
      "cell_type": "markdown",
      "metadata": {
        "id": "JnxXvNcz384L",
        "colab_type": "text"
      },
      "source": [
        "Note: the test samples are considered as 21000, because 7000 data samples can be retrieved from each 'class' property"
      ]
    },
    {
      "cell_type": "code",
      "metadata": {
        "id": "bVfZrGnNyrDh",
        "colab_type": "code",
        "colab": {
          "base_uri": "https://localhost:8080/",
          "height": 560
        },
        "outputId": "88448c5c-5ca8-42c8-bd2d-bb25c1d9e1b0"
      },
      "source": [
        "fig, (ax1, ax2) = plt.subplots(1, 2, figsize = (15, 6))\n",
        "ax1.set_title(\"Training set - unbalanced\")\n",
        "ax2.set_title(\"Training set - Balanced by 'class'\")\n",
        "train_df.groupby('class').size().plot.bar(ax=ax1)\n",
        "bal_train_df = train_df.groupby('class').\\\n",
        "    apply(lambda x: x.sample(TEST_SAMPLES//3)).\\\n",
        "    reset_index(drop=True)\n",
        "bal_train_df.groupby('class').size().plot.bar(ax=ax2) \n",
        "print(bal_train_df.shape[0], 'new training size')"
      ],
      "execution_count": 28,
      "outputs": [
        {
          "output_type": "stream",
          "text": [
            "21000 new training size\n"
          ],
          "name": "stdout"
        },
        {
          "output_type": "display_data",
          "data": {
            "image/png": "[encoded data removed]",
            "text/plain": [
              "<Figure size 1080x432 with 2 Axes>"
            ]
          },
          "metadata": {
            "tags": [],
            "needs_background": "light"
          }
        }
      ]
    },
    {
      "cell_type": "markdown",
      "metadata": {
        "id": "BVRLFeOU4wZG",
        "colab_type": "text"
      },
      "source": [
        "Lets check the stats for the first balanced dataframe "
      ]
    },
    {
      "cell_type": "code",
      "metadata": {
        "id": "PfzUD1wL4vul",
        "colab_type": "code",
        "colab": {
          "base_uri": "https://localhost:8080/",
          "height": 306
        },
        "outputId": "11c37d9b-62bb-45b3-88e1-74a747075874"
      },
      "source": [
        "bal_train_df.info()"
      ],
      "execution_count": 29,
      "outputs": [
        {
          "output_type": "stream",
          "text": [
            "<class 'pandas.core.frame.DataFrame'>\n",
            "RangeIndex: 21000 entries, 0 to 20999\n",
            "Data columns (total 10 columns):\n",
            " #   Column        Non-Null Count  Dtype  \n",
            "---  ------        --------------  -----  \n",
            " 0   patientId     21000 non-null  object \n",
            " 1   x             7000 non-null   float64\n",
            " 2   y             7000 non-null   float64\n",
            " 3   width         7000 non-null   float64\n",
            " 4   height        7000 non-null   float64\n",
            " 5   Target        21000 non-null  int64  \n",
            " 6   class         21000 non-null  object \n",
            " 7   PatientAge    21000 non-null  object \n",
            " 8   PatientSex    21000 non-null  object \n",
            " 9   ViewPosition  21000 non-null  object \n",
            "dtypes: float64(4), int64(1), object(5)\n",
            "memory usage: 1.6+ MB\n"
          ],
          "name": "stdout"
        }
      ]
    },
    {
      "cell_type": "markdown",
      "metadata": {
        "id": "fjof94NY4pk-",
        "colab_type": "text"
      },
      "source": [
        "# Lets check the distribution of 'PatientSex' property over the 'class' property in first balanced dataframe."
      ]
    },
    {
      "cell_type": "code",
      "metadata": {
        "id": "piwJetm1ytEe",
        "colab_type": "code",
        "colab": {
          "base_uri": "https://localhost:8080/",
          "height": 388
        },
        "outputId": "fc8f214b-6494-41d9-cb13-02d8fa1e0cca"
      },
      "source": [
        "figure(figsize = (15, 6))\n",
        "countplot(data=bal_train_df,x=\"PatientSex\", hue=\"class\")\n",
        "show()"
      ],
      "execution_count": 14,
      "outputs": [
        {
          "output_type": "display_data",
          "data": {
            "image/png": "[encoded data removed]",
            "text/plain": [
              "<Figure size 1080x432 with 1 Axes>"
            ]
          },
          "metadata": {
            "tags": [],
            "needs_background": "light"
          }
        }
      ]
    },
    {
      "cell_type": "markdown",
      "metadata": {
        "id": "kJTcBe8C5iqG",
        "colab_type": "text"
      },
      "source": [
        "#**Balance the data samples in balanced dataframe**"
      ]
    },
    {
      "cell_type": "code",
      "metadata": {
        "id": "L7NvPJPK5hty",
        "colab_type": "code",
        "colab": {}
      },
      "source": [
        "TEST_SAMPLES1 = 18000"
      ],
      "execution_count": 0,
      "outputs": []
    },
    {
      "cell_type": "markdown",
      "metadata": {
        "id": "HA01n1Uc52u8",
        "colab_type": "text"
      },
      "source": [
        "Note: the test samples are considered as 18000, because 9000 data samples can be retrieved from each 'PatientSex' property"
      ]
    },
    {
      "cell_type": "code",
      "metadata": {
        "id": "5YlWEa1kyuv2",
        "colab_type": "code",
        "colab": {
          "base_uri": "https://localhost:8080/",
          "height": 420
        },
        "outputId": "3f46abf4-9c02-4396-a0dd-8574d56f3f6b"
      },
      "source": [
        "fig, (ax1, ax2) = plt.subplots(1, 2, figsize = (15, 6))\n",
        "ax1.set_title(\"New Training set - unbalanced\")\n",
        "ax2.set_title(\"New Training set - Balanced by 'PatientSex'\")\n",
        "bal_train_df.groupby('PatientSex').size().plot.bar(ax=ax1)\n",
        "bal_train_df_2 = bal_train_df.groupby('PatientSex').\\\n",
        "    apply(lambda x: x.sample(TEST_SAMPLES1//2)).\\\n",
        "    reset_index(drop=True)\n",
        "bal_train_df_2.groupby('PatientSex').size().plot.bar(ax=ax2) \n",
        "print(bal_train_df_2.shape[0], 'new training size')"
      ],
      "execution_count": 31,
      "outputs": [
        {
          "output_type": "stream",
          "text": [
            "18000 new training size\n"
          ],
          "name": "stdout"
        },
        {
          "output_type": "display_data",
          "data": {
            "image/png": "[encoded data removed]",
            "text/plain": [
              "<Figure size 1080x432 with 2 Axes>"
            ]
          },
          "metadata": {
            "tags": [],
            "needs_background": "light"
          }
        }
      ]
    },
    {
      "cell_type": "markdown",
      "metadata": {
        "id": "UArgd8Ct6NvM",
        "colab_type": "text"
      },
      "source": [
        "Lets check the distribution from the second balanced dataframe."
      ]
    },
    {
      "cell_type": "code",
      "metadata": {
        "id": "GFtftoaVywge",
        "colab_type": "code",
        "colab": {
          "base_uri": "https://localhost:8080/",
          "height": 388
        },
        "outputId": "d93a28a6-85e9-4c3d-a89d-5b394a5fc2d0"
      },
      "source": [
        "figure(figsize = (15, 6))\n",
        "countplot(data=bal_train_df_2,x=\"Target\", hue=\"class\")\n",
        "show()"
      ],
      "execution_count": 16,
      "outputs": [
        {
          "output_type": "display_data",
          "data": {
            "image/png": "[encoded data removed]",
            "text/plain": [
              "<Figure size 1080x432 with 1 Axes>"
            ]
          },
          "metadata": {
            "tags": [],
            "needs_background": "light"
          }
        }
      ]
    },
    {
      "cell_type": "code",
      "metadata": {
        "id": "voaBeC4Nyx4H",
        "colab_type": "code",
        "colab": {
          "base_uri": "https://localhost:8080/",
          "height": 388
        },
        "outputId": "0e9c8754-8c9b-4e93-e7d6-54fbb4288bba"
      },
      "source": [
        "figure(figsize = (15, 6))\n",
        "countplot(data=bal_train_df_2,x=\"PatientSex\", hue=\"Target\")\n",
        "show()"
      ],
      "execution_count": 17,
      "outputs": [
        {
          "output_type": "display_data",
          "data": {
            "image/png": "[encoded data removed]",
            "text/plain": [
              "<Figure size 1080x432 with 1 Axes>"
            ]
          },
          "metadata": {
            "tags": [],
            "needs_background": "light"
          }
        }
      ]
    },
    {
      "cell_type": "code",
      "metadata": {
        "id": "N0r2PNuLyzZZ",
        "colab_type": "code",
        "colab": {
          "base_uri": "https://localhost:8080/",
          "height": 272
        },
        "outputId": "cb2c95d2-0e31-4ccc-8bb7-9c216bfe4fd3"
      },
      "source": [
        "figure(figsize = (20, 5))\n",
        "countplot(data = bal_train_df_2, x = 'PatientAge', hue = 'Target');"
      ],
      "execution_count": 18,
      "outputs": [
        {
          "output_type": "display_data",
          "data": {
            "image/png": "[encoded data removed]",
            "text/plain": [
              "<Figure size 1440x360 with 1 Axes>"
            ]
          },
          "metadata": {
            "tags": [],
            "needs_background": "light"
          }
        }
      ]
    },
    {
      "cell_type": "code",
      "metadata": {
        "id": "duoOELn8y092",
        "colab_type": "code",
        "colab": {
          "base_uri": "https://localhost:8080/",
          "height": 279
        },
        "outputId": "52eaab40-1b80-41cc-800a-7b99eba6e64d"
      },
      "source": [
        "countplot(data = bal_train_df_2, x = 'ViewPosition', hue = 'Target');"
      ],
      "execution_count": 19,
      "outputs": [
        {
          "output_type": "display_data",
          "data": {
            "image/png": "[encoded data removed]",
            "text/plain": [
              "<Figure size 432x288 with 1 Axes>"
            ]
          },
          "metadata": {
            "tags": [],
            "needs_background": "light"
          }
        }
      ]
    },
    {
      "cell_type": "code",
      "metadata": {
        "id": "eYle1Wp8y2x1",
        "colab_type": "code",
        "colab": {
          "base_uri": "https://localhost:8080/",
          "height": 306
        },
        "outputId": "070b6f90-ee38-4949-b1fa-c3994897cf0b"
      },
      "source": [
        "bal_train_df_2.info()"
      ],
      "execution_count": 20,
      "outputs": [
        {
          "output_type": "stream",
          "text": [
            "<class 'pandas.core.frame.DataFrame'>\n",
            "RangeIndex: 18000 entries, 0 to 17999\n",
            "Data columns (total 10 columns):\n",
            " #   Column        Non-Null Count  Dtype  \n",
            "---  ------        --------------  -----  \n",
            " 0   patientId     18000 non-null  object \n",
            " 1   x             5929 non-null   float64\n",
            " 2   y             5929 non-null   float64\n",
            " 3   width         5929 non-null   float64\n",
            " 4   height        5929 non-null   float64\n",
            " 5   Target        18000 non-null  int64  \n",
            " 6   class         18000 non-null  object \n",
            " 7   PatientAge    18000 non-null  object \n",
            " 8   PatientSex    18000 non-null  object \n",
            " 9   ViewPosition  18000 non-null  object \n",
            "dtypes: float64(4), int64(1), object(5)\n",
            "memory usage: 1.4+ MB\n"
          ],
          "name": "stdout"
        }
      ]
    },
    {
      "cell_type": "markdown",
      "metadata": {
        "id": "as91yGCh6ZKF",
        "colab_type": "text"
      },
      "source": [
        "Lets check the validation dataframe informations & distributions"
      ]
    },
    {
      "cell_type": "code",
      "metadata": {
        "id": "JmxaaY3Qy4L1",
        "colab_type": "code",
        "colab": {
          "base_uri": "https://localhost:8080/",
          "height": 306
        },
        "outputId": "568013d9-a1e4-4519-fbfb-bf5dba62b238"
      },
      "source": [
        "valid_df.info()"
      ],
      "execution_count": 21,
      "outputs": [
        {
          "output_type": "stream",
          "text": [
            "<class 'pandas.core.frame.DataFrame'>\n",
            "Int64Index: 6046 entries, 35092 to 36704\n",
            "Data columns (total 10 columns):\n",
            " #   Column        Non-Null Count  Dtype  \n",
            "---  ------        --------------  -----  \n",
            " 0   patientId     6046 non-null   object \n",
            " 1   x             1911 non-null   float64\n",
            " 2   y             1911 non-null   float64\n",
            " 3   width         1911 non-null   float64\n",
            " 4   height        1911 non-null   float64\n",
            " 5   Target        6046 non-null   int64  \n",
            " 6   class         6046 non-null   object \n",
            " 7   PatientAge    6046 non-null   object \n",
            " 8   PatientSex    6046 non-null   object \n",
            " 9   ViewPosition  6046 non-null   object \n",
            "dtypes: float64(4), int64(1), object(5)\n",
            "memory usage: 679.6+ KB\n"
          ],
          "name": "stdout"
        }
      ]
    },
    {
      "cell_type": "code",
      "metadata": {
        "id": "yxTDV2w-y5q2",
        "colab_type": "code",
        "colab": {
          "base_uri": "https://localhost:8080/",
          "height": 388
        },
        "outputId": "ee1510a0-a611-423a-bc3a-890458db56a4"
      },
      "source": [
        "figure(figsize = (15, 6))\n",
        "countplot(data=valid_df,x=\"Target\", hue=\"class\")\n",
        "show()"
      ],
      "execution_count": 22,
      "outputs": [
        {
          "output_type": "display_data",
          "data": {
            "image/png": "[encoded data removed]",
            "text/plain": [
              "<Figure size 1080x432 with 1 Axes>"
            ]
          },
          "metadata": {
            "tags": [],
            "needs_background": "light"
          }
        }
      ]
    },
    {
      "cell_type": "code",
      "metadata": {
        "id": "YldnlU3Yy7nR",
        "colab_type": "code",
        "colab": {
          "base_uri": "https://localhost:8080/",
          "height": 388
        },
        "outputId": "ab66dcc5-3dae-43e7-f35d-54b994697994"
      },
      "source": [
        "figure(figsize = (15, 6))\n",
        "countplot(data=valid_df,x=\"PatientSex\", hue=\"class\")\n",
        "show()"
      ],
      "execution_count": 23,
      "outputs": [
        {
          "output_type": "display_data",
          "data": {
            "image/png": "[encoded data removed]",
            "text/plain": [
              "<Figure size 1080x432 with 1 Axes>"
            ]
          },
          "metadata": {
            "tags": [],
            "needs_background": "light"
          }
        }
      ]
    },
    {
      "cell_type": "code",
      "metadata": {
        "id": "byEz8s38y9Y9",
        "colab_type": "code",
        "colab": {
          "base_uri": "https://localhost:8080/",
          "height": 388
        },
        "outputId": "c3e9f378-5c2e-4ddf-b4b6-d01f23698afd"
      },
      "source": [
        "figure(figsize = (15, 6))\n",
        "countplot(data=valid_df,x=\"PatientSex\", hue=\"Target\")\n",
        "show()"
      ],
      "execution_count": 24,
      "outputs": [
        {
          "output_type": "display_data",
          "data": {
            "image/png": "[encoded data removed]",
            "text/plain": [
              "<Figure size 1080x432 with 1 Axes>"
            ]
          },
          "metadata": {
            "tags": [],
            "needs_background": "light"
          }
        }
      ]
    },
    {
      "cell_type": "markdown",
      "metadata": {
        "id": "WVJunMP66jWR",
        "colab_type": "text"
      },
      "source": [
        "#**Create Pickle files for Train & Validation datasets**"
      ]
    },
    {
      "cell_type": "code",
      "metadata": {
        "id": "D5Rd9ffjzVyw",
        "colab_type": "code",
        "colab": {}
      },
      "source": [
        "train_df_pick = \"train_df_pickle\"\n",
        "valid_df_pick = \"valid_df_pickle\""
      ],
      "execution_count": 0,
      "outputs": []
    },
    {
      "cell_type": "code",
      "metadata": {
        "id": "NCdR4WWbzPB9",
        "colab_type": "code",
        "colab": {}
      },
      "source": [
        "# open the file for writing\n",
        "fileObject = open(train_df_pick,'wb') \n",
        "fileObject1 = open(valid_df_pick,'wb') \n",
        "\n",
        "pickle.dump(bal_train_df_2, fileObject) \n",
        "pickle.dump(valid_df, fileObject1)   \n",
        "\n",
        "# here we close the fileObjects\n",
        "fileObject.close()\n",
        "fileObject1.close()"
      ],
      "execution_count": 0,
      "outputs": []
    },
    {
      "cell_type": "markdown",
      "metadata": {
        "id": "uXOtZ-NW6s5h",
        "colab_type": "text"
      },
      "source": [
        "#**Note**:\n",
        "From data preparation the balanced train and validation dataset has been created and can be used for Model building."
      ]
    }
  ]
}