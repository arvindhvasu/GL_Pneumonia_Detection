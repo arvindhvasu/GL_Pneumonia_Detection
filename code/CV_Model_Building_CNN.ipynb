{
  "nbformat": 4,
  "nbformat_minor": 0,
  "metadata": {
    "colab": {
      "name": "Capstone_CV_Model Building_CNN.ipynb",
      "provenance": [],
      "collapsed_sections": []
    },
    "kernelspec": {
      "name": "python3",
      "display_name": "Python 3"
    }
  },
  "cells": [
    {
      "cell_type": "markdown",
      "metadata": {
        "id": "buck0yg6-3tw",
        "colab_type": "text"
      },
      "source": [
        "Model Building.\n",
        "\n",
        "**Program structure**\n",
        "\n",
        "1. Import packages, pickle files\n",
        "2. Use custom data generator\n",
        "3. Model building using ConvNets\n",
        "4. Visualize model using TensorBoard\n",
        "5. Visualize predictions\n"
      ]
    },
    {
      "cell_type": "markdown",
      "metadata": {
        "id": "EOz9b72k-6qS",
        "colab_type": "text"
      },
      "source": [
        "## Import packages & pickle files"
      ]
    },
    {
      "cell_type": "code",
      "metadata": {
        "id": "kcKzKIy599XS",
        "colab_type": "code",
        "outputId": "500e92c2-280f-40d5-c674-0fc899ba887c",
        "colab": {
          "base_uri": "https://localhost:8080/",
          "height": 34
        }
      },
      "source": [
        "#%tensorflow_version 2.x\n",
        "import tensorflow as tf\n",
        "tf.__version__"
      ],
      "execution_count": 0,
      "outputs": [
        {
          "output_type": "execute_result",
          "data": {
            "text/plain": [
              "'2.2.0'"
            ]
          },
          "metadata": {
            "tags": []
          },
          "execution_count": 17
        }
      ]
    },
    {
      "cell_type": "code",
      "metadata": {
        "id": "GzAEvIsi-BGX",
        "colab_type": "code",
        "colab": {}
      },
      "source": [
        "import pandas as pd\n",
        "import numpy as np\n",
        "import seaborn as sns\n",
        "import matplotlib.pyplot as plt\n",
        "%matplotlib inline\n",
        "import os\n",
        "from matplotlib.patches import Rectangle"
      ],
      "execution_count": 0,
      "outputs": []
    },
    {
      "cell_type": "code",
      "metadata": {
        "id": "r8kaa1VS-BDi",
        "colab_type": "code",
        "outputId": "2ae87e53-2f56-4203-d5e8-b1598f848e1b",
        "colab": {
          "base_uri": "https://localhost:8080/",
          "height": 34
        }
      },
      "source": [
        "!pip3 install pydicom\n",
        "import pydicom\n",
        "import os\n",
        "from skimage.transform import resize\n",
        "import keras\n",
        "import pickle\n",
        "import cv2"
      ],
      "execution_count": 0,
      "outputs": [
        {
          "output_type": "stream",
          "text": [
            "Requirement already satisfied: pydicom in /usr/local/lib/python3.6/dist-packages (2.0.0)\n"
          ],
          "name": "stdout"
        }
      ]
    },
    {
      "cell_type": "code",
      "metadata": {
        "id": "bfOxCIdU-BAy",
        "colab_type": "code",
        "colab": {}
      },
      "source": [
        "from keras.optimizers import Adam, SGD\n",
        "from keras.callbacks import ModelCheckpoint, EarlyStopping, ReduceLROnPlateau"
      ],
      "execution_count": 0,
      "outputs": []
    },
    {
      "cell_type": "code",
      "metadata": {
        "id": "uc_y-PWt-A-p",
        "colab_type": "code",
        "colab": {}
      },
      "source": [
        "#Set project path\n",
        "\n",
        "project_path = '/content/drive/My Drive/Colab Notebooks/CAPSTONE/Data/'\n",
        "train_img_path = project_path+'stage_2_train_images'\n",
        "valid_img_path = project_path+'stage_2_train_images'\n",
        "test_img_path = project_path+'stage_2_test_images'"
      ],
      "execution_count": 0,
      "outputs": []
    },
    {
      "cell_type": "markdown",
      "metadata": {
        "id": "C0ijoCcnamWM",
        "colab_type": "text"
      },
      "source": [
        "**Load Pickle files**"
      ]
    },
    {
      "cell_type": "code",
      "metadata": {
        "id": "SQLN_Npi-A81",
        "colab_type": "code",
        "colab": {}
      },
      "source": [
        "#Set pickle files\n",
        "train_data_pickle = '/train_data_pickle'\n",
        "valid_data_pickle = '/valid_data_pickle'\n",
        "\n",
        "#Open file for reading\n",
        "fileObject = open(project_path+train_data_pickle, 'rb')\n",
        "fileObject1 = open(project_path+valid_data_pickle, 'rb')\n",
        "\n",
        "#Load object from the file\n",
        "train_data = pickle.load(fileObject)\n",
        "valid_data = pickle.load(fileObject1)"
      ],
      "execution_count": 0,
      "outputs": []
    },
    {
      "cell_type": "code",
      "metadata": {
        "id": "cqROHNbZ-A5N",
        "colab_type": "code",
        "outputId": "7cf57abe-1c6b-4a5e-97eb-e62326674c99",
        "colab": {
          "base_uri": "https://localhost:8080/",
          "height": 51
        }
      },
      "source": [
        "#Find unique patient_ids in train, valid set\n",
        "\n",
        "train_patient_ids = train_data['patientId'].unique()\n",
        "print('Unique patient_id in training dataset: {}'. format(train_patient_ids.shape[0]))\n",
        "\n",
        "valid_patient_ids = valid_data['patientId'].unique()\n",
        "print('Unique patient_id in validation dataset: {}'. format(valid_patient_ids.shape[0]))"
      ],
      "execution_count": 0,
      "outputs": [
        {
          "output_type": "stream",
          "text": [
            "Unique patient_id in training dataset: 21908\n",
            "Unique patient_id in validation dataset: 5914\n"
          ],
          "name": "stdout"
        }
      ]
    },
    {
      "cell_type": "markdown",
      "metadata": {
        "id": "V252gyJJEV2h",
        "colab_type": "text"
      },
      "source": [
        "## Data Generator"
      ]
    },
    {
      "cell_type": "markdown",
      "metadata": {
        "id": "RCUSYJZj90au",
        "colab_type": "text"
      },
      "source": [
        "When working with large datasets, existing RAM cannot suffice our processing requirements. Thus data generators are used that helps to load mini-batches of data into the model dynamically.\n",
        "\n",
        "There are 2 types of Generators:\n",
        "\n",
        "* ImageDataGenerator - Use this to process only image data\n",
        "* CustomDataGenerator - Use this to process image, and other types of data \n",
        "\n",
        "**Using Custom Data Generator**"
      ]
    },
    {
      "cell_type": "code",
      "metadata": {
        "id": "GziSmsAU-A3k",
        "colab_type": "code",
        "colab": {}
      },
      "source": [
        "class Generator(keras.utils.Sequence):\n",
        "  def __init__(self,unique_patient_ids, folder, dataframe, batch_size = 32, shuffle = False, image_size = 256, predict = False): #try batch size of 32\n",
        "    self.unique_patient_ids = unique_patient_ids\n",
        "    self.folder = folder\n",
        "    self.dataframe = dataframe\n",
        "    self.batch_size = batch_size\n",
        "    self.shuffle = shuffle\n",
        "    self.image_size = image_size\n",
        "    self.predict = predict\n",
        "    self.on_epoch_end()\n",
        "\n",
        "  def __load__(self, pat_id):\n",
        "    patIdWithExt = pat_id+'.dcm'\n",
        "    #load dicom file from pixel array\n",
        "    img = pydicom.dcmread(os.path.join(self.folder, patIdWithExt)).pixel_array\n",
        "    #create empty array\n",
        "    mask = np.zeros(img.shape)\n",
        "\n",
        "    if pat_id in self.dataframe['patientId'].values:\n",
        "      pat_info = self.dataframe[self.dataframe.patientId == pat_id]\n",
        "\n",
        "      #loop through patient rows in data\n",
        "      for info in pat_info.iterrows():\n",
        "        row = info[1]\n",
        "        if row.Target == 1:\n",
        "          x = int(row.x)\n",
        "          y = int(row.y)\n",
        "          mask[y: int(row.y) + int(row.height), x: int(row.y)+ int(row.width)] = 1\n",
        "\n",
        "    img = cv2.resize(img, (self.image_size, self.image_size))\n",
        "    mask = cv2.resize(mask, (self.image_size, self.image_size))\n",
        "    img = np.expand_dims(img, -1)\n",
        "    mask = np.expand_dims(mask, -1)\n",
        "    #img2 = np.concatenate((img,)*3, axis = -1)\n",
        "    #mask2 = np.concatenate((mask,)*3, axis = -1)\n",
        "    return img, mask\n",
        "\n",
        "  def __loadpredict__(self, pat_id):\n",
        "    patIdWithExt = pat_id\n",
        "    #load dicom file from pixel array\n",
        "    img = pydicom.dcmread(os.path.join(self.folder, patIdWithExt)).pixel_array\n",
        "    #resize image\n",
        "    img = resize(img, (self.image_size, self.image_size), mode = 'reflect')\n",
        "    #add trailing channel dimension\n",
        "    img = np.expan_dims(img, -1)\n",
        "    return img    \n",
        "\n",
        "\n",
        "  def __getitem__(self, index): #called with batch_number as an argument to obtain a given batch of data\n",
        "    if self.predict:\n",
        "      #load files\n",
        "      imgs = [self.__loadpredict__(pat_id_row) for pat_id_row in self.unique_patient_ids]\n",
        "      #create numpy batch\n",
        "      imgs = np.array(imgs)\n",
        "      return imgs, self.unique_patient_ids\n",
        "    else:\n",
        "      #select pat_ids by batches\n",
        "      batch_pat_ids = self.unique_patient_ids[index*self.batch_size : (index+1)* self.batch_size]\n",
        "\n",
        "      #load pat_ids by loop\n",
        "      items = [self.__load__(pat_id_row) for pat_id_row in batch_pat_ids]\n",
        "      imgs, masks = zip(*items)\n",
        "\n",
        "      #create numpy batch\n",
        "      imgs = np.array(imgs)\n",
        "      masks = np.array(masks)\n",
        "    return imgs, masks\n",
        "\n",
        "  def __len__(self): #returns no. of steps in the epoch using samples and batch_size\n",
        "    if self.predict:\n",
        "      return int(np.ceil(len(self.unique_patient_ids) / self.batch_size))\n",
        "    else:\n",
        "      # __len__ provides number of batches per epoch\n",
        "      return int(np.floor(self.unique_patient_ids.shape[0] / self.batch_size))\n",
        "\n",
        "  def on_epoch_end(self): #This method is called after every epoch. Here we shuffle order of the dataset\n",
        "    if self.predict:\n",
        "      self.indexes = np.arange(len(self.unique_patient_ids))\n",
        "    else:\n",
        "      self.indexes = np.arange(self.unique_patient_ids.shape[0])\n",
        "    if self.shuffle == True:\n",
        "      np.random.shuffle(self.indexes)\n"
      ],
      "execution_count": 0,
      "outputs": []
    },
    {
      "cell_type": "code",
      "metadata": {
        "id": "Y-mPyqSP-A0O",
        "colab_type": "code",
        "colab": {}
      },
      "source": [
        "#To be used finally\n",
        "#train_gen = Generator(train_patient_ids, train_img_path, train_data, batch_size=32, shuffle=False, image_size=256)\n",
        "#valid_gen = Generator(valid_patient_ids, valid_img_path, valid_data, batch_size=32, shuffle=False, image_size=256)"
      ],
      "execution_count": 0,
      "outputs": []
    },
    {
      "cell_type": "code",
      "metadata": {
        "id": "PMylDoXr-Ax2",
        "colab_type": "code",
        "colab": {}
      },
      "source": [
        "train_gen = Generator(train_patient_ids[:500], train_img_path, train_data, batch_size=32, shuffle=False, image_size=256)\n",
        "valid_gen = Generator(valid_patient_ids[:250], valid_img_path, valid_data, batch_size=32, shuffle=False, image_size=256)"
      ],
      "execution_count": 0,
      "outputs": []
    },
    {
      "cell_type": "markdown",
      "metadata": {
        "id": "R3KuUR2NLoU-",
        "colab_type": "text"
      },
      "source": [
        "## Model building using ConvNet\n",
        "\n",
        "ConvNets or Convolutional Neural Networks are mostly used to analyze visual imagery. CNN image classification takes an image, process it and classify it.\n",
        "\n",
        "![image.png](data:image/png;base64,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)"
      ]
    },
    {
      "cell_type": "markdown",
      "metadata": {
        "id": "XsVS18PtXtY6",
        "colab_type": "text"
      },
      "source": [
        "Find BatchNormalization, LeakyRelu"
      ]
    },
    {
      "cell_type": "code",
      "metadata": {
        "id": "RGisW2Ay-AvG",
        "colab_type": "code",
        "colab": {}
      },
      "source": [
        "def create_downsample(filters, inputs): #for downsampling, this will be used only once\n",
        "    x = keras.layers.BatchNormalization(momentum=0.9)(inputs) #normalize inputs, activations\n",
        "    x = keras.layers.LeakyReLU(0)(x) #using LeakyRelu\n",
        "    x = keras.layers.Conv2D(filters, 1, padding='same', use_bias=False)(x) #create Conv2D layer #CHANGED FROM 3 TO 1\n",
        "    x = keras.layers.MaxPool2D(2)(x) #Maxpooling2D\n",
        "    return x\n",
        "\n",
        "\n",
        "def create_resblock(filters, inputs):  #create residual block\n",
        "  x = keras.layers.BatchNormalization(momentum = 0.9)(inputs)\n",
        "  x = keras.layers.LeakyReLU(0)(x)\n",
        "  x = keras.layers.Conv2D(filters, 3, padding = 'same', use_bias = False)(x)\n",
        "  x = keras.layers.BatchNormalization(momentum = 0.9)(x)\n",
        "  x = keras.layers.LeakyReLU(0)(x)\n",
        "  x = keras.layers.Conv2D(filters, 3, padding = 'same', use_bias = False)(x)\n",
        "  return keras.layers.add([x, inputs])\n",
        "\n",
        "\n",
        "\n",
        "def create_cnn_model(input_size, filters, n_blocks = 2, depth = 4):\n",
        "  inputs = keras.Input(shape=(input_size, input_size, 1)) #Used to instantiate a keras tensor\n",
        "  x = keras.layers.Conv2D(filters, 3, padding='same', use_bias=False)(inputs) #create Conv2D layer using inputs generated above\n",
        "  #create residual blocks\n",
        "  for d in range(depth):\n",
        "    filters = filters * 2\n",
        "    x = create_downsample(filters, x)\n",
        "    for b in range(n_blocks):\n",
        "      x = create_resblock(filters, x)\n",
        "  \n",
        "  #output\n",
        "  x = keras.layers.BatchNormalization(momentum=0.9)(x)\n",
        "  x = keras.layers.LeakyReLU(0)(x)\n",
        "  x = keras.layers.Conv2D(1, 1, activation='sigmoid')(x)\n",
        "  outputs = keras.layers.UpSampling2D(2**depth)(x)\n",
        "  model = keras.Model(inputs=inputs, outputs=outputs)\n",
        "  return model"
      ],
      "execution_count": 0,
      "outputs": []
    },
    {
      "cell_type": "code",
      "metadata": {
        "id": "OqMtMTjD-Ast",
        "colab_type": "code",
        "outputId": "de3e645d-3055-4264-f71d-1826121c1144",
        "colab": {
          "base_uri": "https://localhost:8080/",
          "height": 1000
        }
      },
      "source": [
        "model = create_cnn_model(input_size = 256, filters = 32, n_blocks = 2, depth = 4)\n",
        "model.summary()"
      ],
      "execution_count": 0,
      "outputs": [
        {
          "output_type": "stream",
          "text": [
            "Model: \"model_2\"\n",
            "__________________________________________________________________________________________________\n",
            "Layer (type)                    Output Shape         Param #     Connected to                     \n",
            "==================================================================================================\n",
            "input_2 (InputLayer)            (None, 256, 256, 1)  0                                            \n",
            "__________________________________________________________________________________________________\n",
            "conv2d_23 (Conv2D)              (None, 256, 256, 32) 288         input_2[0][0]                    \n",
            "__________________________________________________________________________________________________\n",
            "batch_normalization_22 (BatchNo (None, 256, 256, 32) 128         conv2d_23[0][0]                  \n",
            "__________________________________________________________________________________________________\n",
            "leaky_re_lu_22 (LeakyReLU)      (None, 256, 256, 32) 0           batch_normalization_22[0][0]     \n",
            "__________________________________________________________________________________________________\n",
            "conv2d_24 (Conv2D)              (None, 256, 256, 64) 2048        leaky_re_lu_22[0][0]             \n",
            "__________________________________________________________________________________________________\n",
            "max_pooling2d_5 (MaxPooling2D)  (None, 128, 128, 64) 0           conv2d_24[0][0]                  \n",
            "__________________________________________________________________________________________________\n",
            "batch_normalization_23 (BatchNo (None, 128, 128, 64) 256         max_pooling2d_5[0][0]            \n",
            "__________________________________________________________________________________________________\n",
            "leaky_re_lu_23 (LeakyReLU)      (None, 128, 128, 64) 0           batch_normalization_23[0][0]     \n",
            "__________________________________________________________________________________________________\n",
            "conv2d_25 (Conv2D)              (None, 128, 128, 64) 36864       leaky_re_lu_23[0][0]             \n",
            "__________________________________________________________________________________________________\n",
            "batch_normalization_24 (BatchNo (None, 128, 128, 64) 256         conv2d_25[0][0]                  \n",
            "__________________________________________________________________________________________________\n",
            "leaky_re_lu_24 (LeakyReLU)      (None, 128, 128, 64) 0           batch_normalization_24[0][0]     \n",
            "__________________________________________________________________________________________________\n",
            "conv2d_26 (Conv2D)              (None, 128, 128, 64) 36864       leaky_re_lu_24[0][0]             \n",
            "__________________________________________________________________________________________________\n",
            "add_9 (Add)                     (None, 128, 128, 64) 0           conv2d_26[0][0]                  \n",
            "                                                                 max_pooling2d_5[0][0]            \n",
            "__________________________________________________________________________________________________\n",
            "batch_normalization_25 (BatchNo (None, 128, 128, 64) 256         add_9[0][0]                      \n",
            "__________________________________________________________________________________________________\n",
            "leaky_re_lu_25 (LeakyReLU)      (None, 128, 128, 64) 0           batch_normalization_25[0][0]     \n",
            "__________________________________________________________________________________________________\n",
            "conv2d_27 (Conv2D)              (None, 128, 128, 64) 36864       leaky_re_lu_25[0][0]             \n",
            "__________________________________________________________________________________________________\n",
            "batch_normalization_26 (BatchNo (None, 128, 128, 64) 256         conv2d_27[0][0]                  \n",
            "__________________________________________________________________________________________________\n",
            "leaky_re_lu_26 (LeakyReLU)      (None, 128, 128, 64) 0           batch_normalization_26[0][0]     \n",
            "__________________________________________________________________________________________________\n",
            "conv2d_28 (Conv2D)              (None, 128, 128, 64) 36864       leaky_re_lu_26[0][0]             \n",
            "__________________________________________________________________________________________________\n",
            "add_10 (Add)                    (None, 128, 128, 64) 0           conv2d_28[0][0]                  \n",
            "                                                                 add_9[0][0]                      \n",
            "__________________________________________________________________________________________________\n",
            "batch_normalization_27 (BatchNo (None, 128, 128, 64) 256         add_10[0][0]                     \n",
            "__________________________________________________________________________________________________\n",
            "leaky_re_lu_27 (LeakyReLU)      (None, 128, 128, 64) 0           batch_normalization_27[0][0]     \n",
            "__________________________________________________________________________________________________\n",
            "conv2d_29 (Conv2D)              (None, 128, 128, 128 8192        leaky_re_lu_27[0][0]             \n",
            "__________________________________________________________________________________________________\n",
            "max_pooling2d_6 (MaxPooling2D)  (None, 64, 64, 128)  0           conv2d_29[0][0]                  \n",
            "__________________________________________________________________________________________________\n",
            "batch_normalization_28 (BatchNo (None, 64, 64, 128)  512         max_pooling2d_6[0][0]            \n",
            "__________________________________________________________________________________________________\n",
            "leaky_re_lu_28 (LeakyReLU)      (None, 64, 64, 128)  0           batch_normalization_28[0][0]     \n",
            "__________________________________________________________________________________________________\n",
            "conv2d_30 (Conv2D)              (None, 64, 64, 128)  147456      leaky_re_lu_28[0][0]             \n",
            "__________________________________________________________________________________________________\n",
            "batch_normalization_29 (BatchNo (None, 64, 64, 128)  512         conv2d_30[0][0]                  \n",
            "__________________________________________________________________________________________________\n",
            "leaky_re_lu_29 (LeakyReLU)      (None, 64, 64, 128)  0           batch_normalization_29[0][0]     \n",
            "__________________________________________________________________________________________________\n",
            "conv2d_31 (Conv2D)              (None, 64, 64, 128)  147456      leaky_re_lu_29[0][0]             \n",
            "__________________________________________________________________________________________________\n",
            "add_11 (Add)                    (None, 64, 64, 128)  0           conv2d_31[0][0]                  \n",
            "                                                                 max_pooling2d_6[0][0]            \n",
            "__________________________________________________________________________________________________\n",
            "batch_normalization_30 (BatchNo (None, 64, 64, 128)  512         add_11[0][0]                     \n",
            "__________________________________________________________________________________________________\n",
            "leaky_re_lu_30 (LeakyReLU)      (None, 64, 64, 128)  0           batch_normalization_30[0][0]     \n",
            "__________________________________________________________________________________________________\n",
            "conv2d_32 (Conv2D)              (None, 64, 64, 128)  147456      leaky_re_lu_30[0][0]             \n",
            "__________________________________________________________________________________________________\n",
            "batch_normalization_31 (BatchNo (None, 64, 64, 128)  512         conv2d_32[0][0]                  \n",
            "__________________________________________________________________________________________________\n",
            "leaky_re_lu_31 (LeakyReLU)      (None, 64, 64, 128)  0           batch_normalization_31[0][0]     \n",
            "__________________________________________________________________________________________________\n",
            "conv2d_33 (Conv2D)              (None, 64, 64, 128)  147456      leaky_re_lu_31[0][0]             \n",
            "__________________________________________________________________________________________________\n",
            "add_12 (Add)                    (None, 64, 64, 128)  0           conv2d_33[0][0]                  \n",
            "                                                                 add_11[0][0]                     \n",
            "__________________________________________________________________________________________________\n",
            "batch_normalization_32 (BatchNo (None, 64, 64, 128)  512         add_12[0][0]                     \n",
            "__________________________________________________________________________________________________\n",
            "leaky_re_lu_32 (LeakyReLU)      (None, 64, 64, 128)  0           batch_normalization_32[0][0]     \n",
            "__________________________________________________________________________________________________\n",
            "conv2d_34 (Conv2D)              (None, 64, 64, 256)  32768       leaky_re_lu_32[0][0]             \n",
            "__________________________________________________________________________________________________\n",
            "max_pooling2d_7 (MaxPooling2D)  (None, 32, 32, 256)  0           conv2d_34[0][0]                  \n",
            "__________________________________________________________________________________________________\n",
            "batch_normalization_33 (BatchNo (None, 32, 32, 256)  1024        max_pooling2d_7[0][0]            \n",
            "__________________________________________________________________________________________________\n",
            "leaky_re_lu_33 (LeakyReLU)      (None, 32, 32, 256)  0           batch_normalization_33[0][0]     \n",
            "__________________________________________________________________________________________________\n",
            "conv2d_35 (Conv2D)              (None, 32, 32, 256)  589824      leaky_re_lu_33[0][0]             \n",
            "__________________________________________________________________________________________________\n",
            "batch_normalization_34 (BatchNo (None, 32, 32, 256)  1024        conv2d_35[0][0]                  \n",
            "__________________________________________________________________________________________________\n",
            "leaky_re_lu_34 (LeakyReLU)      (None, 32, 32, 256)  0           batch_normalization_34[0][0]     \n",
            "__________________________________________________________________________________________________\n",
            "conv2d_36 (Conv2D)              (None, 32, 32, 256)  589824      leaky_re_lu_34[0][0]             \n",
            "__________________________________________________________________________________________________\n",
            "add_13 (Add)                    (None, 32, 32, 256)  0           conv2d_36[0][0]                  \n",
            "                                                                 max_pooling2d_7[0][0]            \n",
            "__________________________________________________________________________________________________\n",
            "batch_normalization_35 (BatchNo (None, 32, 32, 256)  1024        add_13[0][0]                     \n",
            "__________________________________________________________________________________________________\n",
            "leaky_re_lu_35 (LeakyReLU)      (None, 32, 32, 256)  0           batch_normalization_35[0][0]     \n",
            "__________________________________________________________________________________________________\n",
            "conv2d_37 (Conv2D)              (None, 32, 32, 256)  589824      leaky_re_lu_35[0][0]             \n",
            "__________________________________________________________________________________________________\n",
            "batch_normalization_36 (BatchNo (None, 32, 32, 256)  1024        conv2d_37[0][0]                  \n",
            "__________________________________________________________________________________________________\n",
            "leaky_re_lu_36 (LeakyReLU)      (None, 32, 32, 256)  0           batch_normalization_36[0][0]     \n",
            "__________________________________________________________________________________________________\n",
            "conv2d_38 (Conv2D)              (None, 32, 32, 256)  589824      leaky_re_lu_36[0][0]             \n",
            "__________________________________________________________________________________________________\n",
            "add_14 (Add)                    (None, 32, 32, 256)  0           conv2d_38[0][0]                  \n",
            "                                                                 add_13[0][0]                     \n",
            "__________________________________________________________________________________________________\n",
            "batch_normalization_37 (BatchNo (None, 32, 32, 256)  1024        add_14[0][0]                     \n",
            "__________________________________________________________________________________________________\n",
            "leaky_re_lu_37 (LeakyReLU)      (None, 32, 32, 256)  0           batch_normalization_37[0][0]     \n",
            "__________________________________________________________________________________________________\n",
            "conv2d_39 (Conv2D)              (None, 32, 32, 512)  131072      leaky_re_lu_37[0][0]             \n",
            "__________________________________________________________________________________________________\n",
            "max_pooling2d_8 (MaxPooling2D)  (None, 16, 16, 512)  0           conv2d_39[0][0]                  \n",
            "__________________________________________________________________________________________________\n",
            "batch_normalization_38 (BatchNo (None, 16, 16, 512)  2048        max_pooling2d_8[0][0]            \n",
            "__________________________________________________________________________________________________\n",
            "leaky_re_lu_38 (LeakyReLU)      (None, 16, 16, 512)  0           batch_normalization_38[0][0]     \n",
            "__________________________________________________________________________________________________\n",
            "conv2d_40 (Conv2D)              (None, 16, 16, 512)  2359296     leaky_re_lu_38[0][0]             \n",
            "__________________________________________________________________________________________________\n",
            "batch_normalization_39 (BatchNo (None, 16, 16, 512)  2048        conv2d_40[0][0]                  \n",
            "__________________________________________________________________________________________________\n",
            "leaky_re_lu_39 (LeakyReLU)      (None, 16, 16, 512)  0           batch_normalization_39[0][0]     \n",
            "__________________________________________________________________________________________________\n",
            "conv2d_41 (Conv2D)              (None, 16, 16, 512)  2359296     leaky_re_lu_39[0][0]             \n",
            "__________________________________________________________________________________________________\n",
            "add_15 (Add)                    (None, 16, 16, 512)  0           conv2d_41[0][0]                  \n",
            "                                                                 max_pooling2d_8[0][0]            \n",
            "__________________________________________________________________________________________________\n",
            "batch_normalization_40 (BatchNo (None, 16, 16, 512)  2048        add_15[0][0]                     \n",
            "__________________________________________________________________________________________________\n",
            "leaky_re_lu_40 (LeakyReLU)      (None, 16, 16, 512)  0           batch_normalization_40[0][0]     \n",
            "__________________________________________________________________________________________________\n",
            "conv2d_42 (Conv2D)              (None, 16, 16, 512)  2359296     leaky_re_lu_40[0][0]             \n",
            "__________________________________________________________________________________________________\n",
            "batch_normalization_41 (BatchNo (None, 16, 16, 512)  2048        conv2d_42[0][0]                  \n",
            "__________________________________________________________________________________________________\n",
            "leaky_re_lu_41 (LeakyReLU)      (None, 16, 16, 512)  0           batch_normalization_41[0][0]     \n",
            "__________________________________________________________________________________________________\n",
            "conv2d_43 (Conv2D)              (None, 16, 16, 512)  2359296     leaky_re_lu_41[0][0]             \n",
            "__________________________________________________________________________________________________\n",
            "add_16 (Add)                    (None, 16, 16, 512)  0           conv2d_43[0][0]                  \n",
            "                                                                 add_15[0][0]                     \n",
            "__________________________________________________________________________________________________\n",
            "batch_normalization_42 (BatchNo (None, 16, 16, 512)  2048        add_16[0][0]                     \n",
            "__________________________________________________________________________________________________\n",
            "leaky_re_lu_42 (LeakyReLU)      (None, 16, 16, 512)  0           batch_normalization_42[0][0]     \n",
            "__________________________________________________________________________________________________\n",
            "conv2d_44 (Conv2D)              (None, 16, 16, 1)    513         leaky_re_lu_42[0][0]             \n",
            "__________________________________________________________________________________________________\n",
            "up_sampling2d_2 (UpSampling2D)  (None, 256, 256, 1)  0           conv2d_44[0][0]                  \n",
            "==================================================================================================\n",
            "Total params: 12,727,969\n",
            "Trainable params: 12,718,305\n",
            "Non-trainable params: 9,664\n",
            "__________________________________________________________________________________________________\n"
          ],
          "name": "stdout"
        }
      ]
    },
    {
      "cell_type": "markdown",
      "metadata": {
        "id": "-xrPOKkqkC8d",
        "colab_type": "text"
      },
      "source": [
        "## Visualize CNN model"
      ]
    },
    {
      "cell_type": "code",
      "metadata": {
        "id": "gmxyjRpGkB1s",
        "colab_type": "code",
        "outputId": "b9ccf71e-09a9-48b1-f068-e1e7c12f1732",
        "colab": {
          "base_uri": "https://localhost:8080/",
          "height": 34
        }
      },
      "source": [
        "#Initializing the tensorboard callback for visualization of training\n",
        "\n",
        "#For COLAB\n",
        "#Import tensorboard colab modules for creating a tensorboard call back which will pass in model.fit function\n",
        "\n",
        "from tensorboardcolab import TensorBoardColab, TensorBoardColabCallback\n",
        "from time import time\n",
        "\n",
        "#Tensorboard callback is going to be added to model.fit function to draw graphs of loss values after every epoch\n",
        "tbc = TensorBoardColab()\n",
        "\n",
        "#For KAGGLE\n",
        "# Load the extension and start TensorBoard\n",
        "\n",
        "#%load_ext tensorboard\n",
        "#%tensorboard --logdir logs\n",
        "\n",
        "import tensorflow as tf\n",
        "tensorboard_callback = tf.keras.callbacks.TensorBoard(\"logs\")"
      ],
      "execution_count": 0,
      "outputs": [
        {
          "output_type": "stream",
          "text": [
            "Wait for 8 seconds...\n"
          ],
          "name": "stdout"
        }
      ]
    },
    {
      "cell_type": "markdown",
      "metadata": {
        "id": "y_MOHf1Gd0ml",
        "colab_type": "text"
      },
      "source": [
        "**Compile model**"
      ]
    },
    {
      "cell_type": "code",
      "metadata": {
        "id": "QUbjLmcodz0u",
        "colab_type": "code",
        "colab": {}
      },
      "source": [
        "model.compile(optimizer = 'adam', loss = 'binary_crossentropy', metrics = ['accuracy'])"
      ],
      "execution_count": 0,
      "outputs": []
    },
    {
      "cell_type": "markdown",
      "metadata": {
        "id": "5EsweZrWd84g",
        "colab_type": "text"
      },
      "source": [
        "**Define Checkpoint & Early Stopping**"
      ]
    },
    {
      "cell_type": "code",
      "metadata": {
        "id": "UEsGT5JKd9d3",
        "colab_type": "code",
        "colab": {}
      },
      "source": [
        "checkpoint = ModelCheckpoint(\"model_{loss:.2f}.h5\", \n",
        "                             monitor = 'val_loss', verbose = 1, \n",
        "                             save_best_only = True, save_weights_only = True,\n",
        "                             mode = 'auto', period = 1)\n",
        "\n",
        "stop = EarlyStopping(monitor = 'val_loss', patience = 10, mode = 'auto')\n",
        "reduce_lr = ReduceLROnPlateau(monitor = 'val_loss', factor = 0.2, patience = 5, min_lr = 1e-6, verbose = 1, mode = 'auto')"
      ],
      "execution_count": 0,
      "outputs": []
    },
    {
      "cell_type": "code",
      "metadata": {
        "id": "en6lkGte-Ap7",
        "colab_type": "code",
        "outputId": "c50890bc-242d-4b7a-cacb-5a439b7ff641",
        "colab": {
          "base_uri": "https://localhost:8080/",
          "height": 343
        }
      },
      "source": [
        "history = model.fit_generator(train_gen,\n",
        "                              validation_data = valid_gen,\n",
        "                              callbacks = [checkpoint, reduce_lr, stop],\n",
        "                              epochs = 4, \n",
        "                              workers = 1,\n",
        "                              use_multiprocessing = True)\n"
      ],
      "execution_count": 0,
      "outputs": [
        {
          "output_type": "stream",
          "text": [
            "Epoch 1/4\n",
            "14/15 [===========================>..] - ETA: 48s - loss: 0.7146 - accuracy: 0.7029 Epoch 1/4\n",
            "Epoch 1/4\n",
            "15/15 [==============================] - 839s 56s/step - loss: 0.6814 - accuracy: 0.7191 - val_loss: 0.5468 - val_accuracy: 0.8674\n",
            "\n",
            "Epoch 00001: val_loss improved from inf to 0.54679, saving model to model_0.68.h5\n",
            "Epoch 2/4\n",
            "15/15 [==============================] - 821s 55s/step - loss: 0.1293 - accuracy: 0.9682 - val_loss: 0.2189 - val_accuracy: 0.9535\n",
            "\n",
            "Epoch 00002: val_loss improved from 0.54679 to 0.21890, saving model to model_0.13.h5\n",
            "Epoch 3/4\n",
            "15/15 [==============================] - 825s 55s/step - loss: 0.1140 - accuracy: 0.9683 - val_loss: 0.1498 - val_accuracy: 0.9747\n",
            "\n",
            "Epoch 00003: val_loss improved from 0.21890 to 0.14976, saving model to model_0.11.h5\n",
            "Epoch 4/4\n",
            "15/15 [==============================] - 832s 55s/step - loss: 0.1094 - accuracy: 0.9683 - val_loss: 0.1043 - val_accuracy: 0.9769\n",
            "\n",
            "Epoch 00004: val_loss improved from 0.14976 to 0.10434, saving model to model_0.11.h5\n"
          ],
          "name": "stdout"
        }
      ]
    },
    {
      "cell_type": "code",
      "metadata": {
        "id": "3wNUenLU-Amz",
        "colab_type": "code",
        "colab": {}
      },
      "source": [
        "plt.figure(figsize=(12,4))\n",
        "plt.subplot(131)\n",
        "plt.plot(history.epoch, history.history[\"loss\"], label=\"Train loss\")\n",
        "plt.plot(history.epoch, history.history[\"val_loss\"], label=\"Valid loss\")\n",
        "plt.legend()\n",
        "plt.subplot(132)\n",
        "plt.plot(history.epoch, history.history[\"accuracy\"], label=\"Train accuracy\")\n",
        "plt.plot(history.epoch, history.history[\"val_accuracy\"], label=\"Valid accuracy\")\n",
        "plt.legend()\n",
        "plt.show()"
      ],
      "execution_count": 0,
      "outputs": []
    },
    {
      "cell_type": "markdown",
      "metadata": {
        "id": "c2gqa8_5lCeY",
        "colab_type": "text"
      },
      "source": [
        "Predicting for test images.. need to look at this.\n",
        "\n",
        "## For test dataset"
      ]
    },
    {
      "cell_type": "code",
      "metadata": {
        "id": "O3amDIFkLnVF",
        "colab_type": "code",
        "colab": {}
      },
      "source": [
        "test_filenames = os.listdir(test_img_path)\n",
        "print('n test samples:', len(test_filenames))\n"
      ],
      "execution_count": 0,
      "outputs": []
    },
    {
      "cell_type": "code",
      "metadata": {
        "id": "Fz61oOWpL6Av",
        "colab_type": "code",
        "colab": {}
      },
      "source": [
        "test_gen = Generator(test_filenames[:100], test_img_path, valid_df, batch_size=100, shuffle=False, image_size=256, predict=True)\n",
        "pred = model.predict(test_gen)"
      ],
      "execution_count": 0,
      "outputs": []
    },
    {
      "cell_type": "code",
      "metadata": {
        "id": "NZHzjB47PljR",
        "colab_type": "code",
        "colab": {}
      },
      "source": [
        ""
      ],
      "execution_count": 0,
      "outputs": []
    },
    {
      "cell_type": "markdown",
      "metadata": {
        "id": "iDezQ0OjhZXM",
        "colab_type": "text"
      },
      "source": [
        "https://www.researchgate.net/publication/335378335_Deep_Learning_for_Medical_Image_Segmentation_Pneumonia_Detection/link/5d60eaa7299bf1f70b08b4a0/download"
      ]
    },
    {
      "cell_type": "code",
      "metadata": {
        "id": "P-daTDPSPlbO",
        "colab_type": "code",
        "colab": {}
      },
      "source": [
        ""
      ],
      "execution_count": 0,
      "outputs": []
    }
  ]
}